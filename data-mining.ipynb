{
 "cells": [
  {
   "attachments": {},
   "cell_type": "markdown",
   "metadata": {},
   "source": [
    "<b></center><h1>🤖⚽who will  win the premier league with data mining ?⚽🤖</b></center></h1>"
   ]
  },
  {
   "cell_type": "markdown",
   "metadata": {},
   "source": [
    "<h3 style=\"text-align:right\">\n",
    "réalisé par : Achraf Sbai et Mohammed Badague\n",
    "</h3>"
   ]
  },
  {
   "attachments": {},
   "cell_type": "markdown",
   "metadata": {},
   "source": [
    "## Data Extraction"
   ]
  },
  {
   "cell_type": "code",
   "execution_count": 1,
   "metadata": {},
   "outputs": [],
   "source": [
    "import pandas as pd\n",
    "import os\n",
    "\n",
    "import json\n"
   ]
  },
  {
   "attachments": {},
   "cell_type": "markdown",
   "metadata": {},
   "source": [
    "This code cell reads multiple JSON files containing data on English Premier League football matches and creates a pandas DataFrame object for each file. The resulting DataFrame objects are appended to a list for further analysis."
   ]
  },
  {
   "cell_type": "code",
   "execution_count": 2,
   "metadata": {},
   "outputs": [
    {
     "name": "stdout",
     "output_type": "stream",
     "text": [
      "2458.json\n",
      "2935.json\n",
      "3389.json\n",
      "3853.json\n",
      "4311.json\n",
      "5826.json\n",
      "6335.json\n",
      "6829.json\n",
      "7361.json\n",
      "7811.json\n",
      "8228.json\n",
      "8618.json\n",
      "9075.json\n"
     ]
    }
   ],
   "source": [
    "json_files = [file for file in os.listdir(\"./\") if file.endswith('.json')]\n",
    "json_files.remove('data.json')\n",
    "json_files.remove('whoscored.json')\n",
    "df_list = []\n",
    "for file in json_files:\n",
    "    print(file)\n",
    "    json_path = os.path.join(\"./\", file)\n",
    "    data = json.load(open(json_path, 'r'))\n",
    "    df = pd.DataFrame(data)\n",
    "    df_list.append(df)"
   ]
  },
  {
   "cell_type": "code",
   "execution_count": 3,
   "metadata": {},
   "outputs": [
    {
     "data": {
      "text/html": [
       "<div>\n",
       "<style scoped>\n",
       "    .dataframe tbody tr th:only-of-type {\n",
       "        vertical-align: middle;\n",
       "    }\n",
       "\n",
       "    .dataframe tbody tr th {\n",
       "        vertical-align: top;\n",
       "    }\n",
       "\n",
       "    .dataframe thead th {\n",
       "        text-align: right;\n",
       "    }\n",
       "</style>\n",
       "<table border=\"1\" class=\"dataframe\">\n",
       "  <thead>\n",
       "    <tr style=\"text-align: right;\">\n",
       "      <th></th>\n",
       "      <th>home_team</th>\n",
       "      <th>away_team</th>\n",
       "      <th>home_goals</th>\n",
       "      <th>away_goals</th>\n",
       "      <th>home_shots</th>\n",
       "      <th>away_shots</th>\n",
       "      <th>home_possesion</th>\n",
       "      <th>away_possesion</th>\n",
       "      <th>home_pass_success</th>\n",
       "      <th>away_pass_success</th>\n",
       "      <th>home_dribbles</th>\n",
       "      <th>away_dribbles</th>\n",
       "      <th>home_aerials_won</th>\n",
       "      <th>away_aerials_won</th>\n",
       "      <th>home_tackles</th>\n",
       "      <th>away_tackles</th>\n",
       "      <th>home_corners</th>\n",
       "      <th>away_corners</th>\n",
       "      <th>home_dispossessed</th>\n",
       "      <th>away_dispossessed</th>\n",
       "    </tr>\n",
       "  </thead>\n",
       "  <tbody>\n",
       "    <tr>\n",
       "      <th>0</th>\n",
       "      <td>Birmingham</td>\n",
       "      <td>Wolverhampton</td>\n",
       "      <td>1</td>\n",
       "      <td>1</td>\n",
       "      <td>8</td>\n",
       "      <td>11</td>\n",
       "      <td>42.9</td>\n",
       "      <td>57.1</td>\n",
       "      <td>61</td>\n",
       "      <td>71</td>\n",
       "      <td>3</td>\n",
       "      <td>3</td>\n",
       "      <td>26</td>\n",
       "      <td>18</td>\n",
       "      <td>15</td>\n",
       "      <td>11</td>\n",
       "      <td>0</td>\n",
       "      <td>2</td>\n",
       "      <td>9</td>\n",
       "      <td>10</td>\n",
       "    </tr>\n",
       "    <tr>\n",
       "      <th>1</th>\n",
       "      <td>Liverpool</td>\n",
       "      <td>Newcastle</td>\n",
       "      <td>3</td>\n",
       "      <td>0</td>\n",
       "      <td>14</td>\n",
       "      <td>11</td>\n",
       "      <td>46.3</td>\n",
       "      <td>53.7</td>\n",
       "      <td>78</td>\n",
       "      <td>85</td>\n",
       "      <td>12</td>\n",
       "      <td>9</td>\n",
       "      <td>8</td>\n",
       "      <td>12</td>\n",
       "      <td>26</td>\n",
       "      <td>7</td>\n",
       "      <td>3</td>\n",
       "      <td>12</td>\n",
       "      <td>4</td>\n",
       "      <td>11</td>\n",
       "    </tr>\n",
       "    <tr>\n",
       "      <th>2</th>\n",
       "      <td>Arsenal</td>\n",
       "      <td>Manchester United</td>\n",
       "      <td>1</td>\n",
       "      <td>0</td>\n",
       "      <td>10</td>\n",
       "      <td>12</td>\n",
       "      <td>54.9</td>\n",
       "      <td>45.1</td>\n",
       "      <td>82</td>\n",
       "      <td>76</td>\n",
       "      <td>8</td>\n",
       "      <td>6</td>\n",
       "      <td>18</td>\n",
       "      <td>11</td>\n",
       "      <td>22</td>\n",
       "      <td>25</td>\n",
       "      <td>3</td>\n",
       "      <td>6</td>\n",
       "      <td>20</td>\n",
       "      <td>16</td>\n",
       "    </tr>\n",
       "    <tr>\n",
       "      <th>3</th>\n",
       "      <td>Manchester City</td>\n",
       "      <td>West Ham</td>\n",
       "      <td>2</td>\n",
       "      <td>1</td>\n",
       "      <td>21</td>\n",
       "      <td>9</td>\n",
       "      <td>59.8</td>\n",
       "      <td>40.2</td>\n",
       "      <td>86</td>\n",
       "      <td>73</td>\n",
       "      <td>6</td>\n",
       "      <td>0</td>\n",
       "      <td>6</td>\n",
       "      <td>8</td>\n",
       "      <td>19</td>\n",
       "      <td>17</td>\n",
       "      <td>9</td>\n",
       "      <td>5</td>\n",
       "      <td>12</td>\n",
       "      <td>15</td>\n",
       "    </tr>\n",
       "    <tr>\n",
       "      <th>4</th>\n",
       "      <td>Everton</td>\n",
       "      <td>Manchester City</td>\n",
       "      <td>2</td>\n",
       "      <td>1</td>\n",
       "      <td>11</td>\n",
       "      <td>12</td>\n",
       "      <td>48.6</td>\n",
       "      <td>51.4</td>\n",
       "      <td>72</td>\n",
       "      <td>79</td>\n",
       "      <td>1</td>\n",
       "      <td>6</td>\n",
       "      <td>9</td>\n",
       "      <td>14</td>\n",
       "      <td>19</td>\n",
       "      <td>16</td>\n",
       "      <td>11</td>\n",
       "      <td>6</td>\n",
       "      <td>13</td>\n",
       "      <td>15</td>\n",
       "    </tr>\n",
       "    <tr>\n",
       "      <th>...</th>\n",
       "      <td>...</td>\n",
       "      <td>...</td>\n",
       "      <td>...</td>\n",
       "      <td>...</td>\n",
       "      <td>...</td>\n",
       "      <td>...</td>\n",
       "      <td>...</td>\n",
       "      <td>...</td>\n",
       "      <td>...</td>\n",
       "      <td>...</td>\n",
       "      <td>...</td>\n",
       "      <td>...</td>\n",
       "      <td>...</td>\n",
       "      <td>...</td>\n",
       "      <td>...</td>\n",
       "      <td>...</td>\n",
       "      <td>...</td>\n",
       "      <td>...</td>\n",
       "      <td>...</td>\n",
       "      <td>...</td>\n",
       "    </tr>\n",
       "    <tr>\n",
       "      <th>375</th>\n",
       "      <td>Manchester United</td>\n",
       "      <td>West Ham</td>\n",
       "      <td>3</td>\n",
       "      <td>0</td>\n",
       "      <td>21</td>\n",
       "      <td>8</td>\n",
       "      <td>60.3</td>\n",
       "      <td>39.7</td>\n",
       "      <td>88</td>\n",
       "      <td>84</td>\n",
       "      <td>9</td>\n",
       "      <td>9</td>\n",
       "      <td>5</td>\n",
       "      <td>4</td>\n",
       "      <td>31</td>\n",
       "      <td>24</td>\n",
       "      <td>9</td>\n",
       "      <td>3</td>\n",
       "      <td>13</td>\n",
       "      <td>15</td>\n",
       "    </tr>\n",
       "    <tr>\n",
       "      <th>376</th>\n",
       "      <td>Bolton</td>\n",
       "      <td>Birmingham</td>\n",
       "      <td>2</td>\n",
       "      <td>2</td>\n",
       "      <td>15</td>\n",
       "      <td>9</td>\n",
       "      <td>50.8</td>\n",
       "      <td>49.2</td>\n",
       "      <td>71</td>\n",
       "      <td>58</td>\n",
       "      <td>5</td>\n",
       "      <td>5</td>\n",
       "      <td>22</td>\n",
       "      <td>9</td>\n",
       "      <td>24</td>\n",
       "      <td>17</td>\n",
       "      <td>6</td>\n",
       "      <td>1</td>\n",
       "      <td>16</td>\n",
       "      <td>15</td>\n",
       "    </tr>\n",
       "    <tr>\n",
       "      <th>377</th>\n",
       "      <td>Liverpool</td>\n",
       "      <td>West Bromwich</td>\n",
       "      <td>1</td>\n",
       "      <td>0</td>\n",
       "      <td>11</td>\n",
       "      <td>16</td>\n",
       "      <td>51</td>\n",
       "      <td>49</td>\n",
       "      <td>76</td>\n",
       "      <td>76</td>\n",
       "      <td>3</td>\n",
       "      <td>8</td>\n",
       "      <td>6</td>\n",
       "      <td>14</td>\n",
       "      <td>26</td>\n",
       "      <td>24</td>\n",
       "      <td>7</td>\n",
       "      <td>6</td>\n",
       "      <td>12</td>\n",
       "      <td>21</td>\n",
       "    </tr>\n",
       "    <tr>\n",
       "      <th>378</th>\n",
       "      <td>Sunderland</td>\n",
       "      <td>Manchester City</td>\n",
       "      <td>1</td>\n",
       "      <td>0</td>\n",
       "      <td>18</td>\n",
       "      <td>10</td>\n",
       "      <td>41.7</td>\n",
       "      <td>58.3</td>\n",
       "      <td>72</td>\n",
       "      <td>81</td>\n",
       "      <td>11</td>\n",
       "      <td>9</td>\n",
       "      <td>7</td>\n",
       "      <td>12</td>\n",
       "      <td>33</td>\n",
       "      <td>29</td>\n",
       "      <td>3</td>\n",
       "      <td>8</td>\n",
       "      <td>9</td>\n",
       "      <td>20</td>\n",
       "    </tr>\n",
       "    <tr>\n",
       "      <th>379</th>\n",
       "      <td>Aston Villa</td>\n",
       "      <td>Everton</td>\n",
       "      <td>1</td>\n",
       "      <td>0</td>\n",
       "      <td>15</td>\n",
       "      <td>23</td>\n",
       "      <td>31.7</td>\n",
       "      <td>68.3</td>\n",
       "      <td>60</td>\n",
       "      <td>78</td>\n",
       "      <td>5</td>\n",
       "      <td>10</td>\n",
       "      <td>14</td>\n",
       "      <td>8</td>\n",
       "      <td>22</td>\n",
       "      <td>11</td>\n",
       "      <td>4</td>\n",
       "      <td>18</td>\n",
       "      <td>6</td>\n",
       "      <td>14</td>\n",
       "    </tr>\n",
       "  </tbody>\n",
       "</table>\n",
       "<p>380 rows × 20 columns</p>\n",
       "</div>"
      ],
      "text/plain": [
       "             home_team          away_team home_goals away_goals home_shots  \\\n",
       "0           Birmingham      Wolverhampton          1          1          8   \n",
       "1            Liverpool          Newcastle          3          0         14   \n",
       "2              Arsenal  Manchester United          1          0         10   \n",
       "3      Manchester City           West Ham          2          1         21   \n",
       "4              Everton    Manchester City          2          1         11   \n",
       "..                 ...                ...        ...        ...        ...   \n",
       "375  Manchester United           West Ham          3          0         21   \n",
       "376             Bolton         Birmingham          2          2         15   \n",
       "377          Liverpool      West Bromwich          1          0         11   \n",
       "378         Sunderland    Manchester City          1          0         18   \n",
       "379        Aston Villa            Everton          1          0         15   \n",
       "\n",
       "    away_shots home_possesion away_possesion home_pass_success  \\\n",
       "0           11           42.9           57.1                61   \n",
       "1           11           46.3           53.7                78   \n",
       "2           12           54.9           45.1                82   \n",
       "3            9           59.8           40.2                86   \n",
       "4           12           48.6           51.4                72   \n",
       "..         ...            ...            ...               ...   \n",
       "375          8           60.3           39.7                88   \n",
       "376          9           50.8           49.2                71   \n",
       "377         16             51             49                76   \n",
       "378         10           41.7           58.3                72   \n",
       "379         23           31.7           68.3                60   \n",
       "\n",
       "    away_pass_success home_dribbles away_dribbles home_aerials_won  \\\n",
       "0                  71             3             3               26   \n",
       "1                  85            12             9                8   \n",
       "2                  76             8             6               18   \n",
       "3                  73             6             0                6   \n",
       "4                  79             1             6                9   \n",
       "..                ...           ...           ...              ...   \n",
       "375                84             9             9                5   \n",
       "376                58             5             5               22   \n",
       "377                76             3             8                6   \n",
       "378                81            11             9                7   \n",
       "379                78             5            10               14   \n",
       "\n",
       "    away_aerials_won home_tackles away_tackles home_corners away_corners  \\\n",
       "0                 18           15           11            0            2   \n",
       "1                 12           26            7            3           12   \n",
       "2                 11           22           25            3            6   \n",
       "3                  8           19           17            9            5   \n",
       "4                 14           19           16           11            6   \n",
       "..               ...          ...          ...          ...          ...   \n",
       "375                4           31           24            9            3   \n",
       "376                9           24           17            6            1   \n",
       "377               14           26           24            7            6   \n",
       "378               12           33           29            3            8   \n",
       "379                8           22           11            4           18   \n",
       "\n",
       "    home_dispossessed away_dispossessed  \n",
       "0                   9                10  \n",
       "1                   4                11  \n",
       "2                  20                16  \n",
       "3                  12                15  \n",
       "4                  13                15  \n",
       "..                ...               ...  \n",
       "375                13                15  \n",
       "376                16                15  \n",
       "377                12                21  \n",
       "378                 9                20  \n",
       "379                 6                14  \n",
       "\n",
       "[380 rows x 20 columns]"
      ]
     },
     "execution_count": 3,
     "metadata": {},
     "output_type": "execute_result"
    }
   ],
   "source": [
    "df_list[0]"
   ]
  },
  {
   "attachments": {},
   "cell_type": "markdown",
   "metadata": {},
   "source": [
    "The resulting output shows that there are no missing values in any of the columns, as indicated by the 0 values for each column."
   ]
  },
  {
   "cell_type": "code",
   "execution_count": 4,
   "metadata": {},
   "outputs": [
    {
     "data": {
      "text/plain": [
       "home_team            0\n",
       "away_team            0\n",
       "home_goals           0\n",
       "away_goals           0\n",
       "home_shots           0\n",
       "away_shots           0\n",
       "home_possesion       0\n",
       "away_possesion       0\n",
       "home_pass_success    0\n",
       "away_pass_success    0\n",
       "home_dribbles        0\n",
       "away_dribbles        0\n",
       "home_aerials_won     0\n",
       "away_aerials_won     0\n",
       "home_tackles         0\n",
       "away_tackles         0\n",
       "home_corners         0\n",
       "away_corners         0\n",
       "home_dispossessed    0\n",
       "away_dispossessed    0\n",
       "dtype: int64"
      ]
     },
     "execution_count": 4,
     "metadata": {},
     "output_type": "execute_result"
    }
   ],
   "source": [
    "df_list[0].isna().sum()"
   ]
  },
  {
   "attachments": {},
   "cell_type": "markdown",
   "metadata": {},
   "source": [
    "## Data Preprocessing\n"
   ]
  },
  {
   "attachments": {},
   "cell_type": "markdown",
   "metadata": {},
   "source": [
    "The output shows that there are no missing values or duplicates in the first 8 DataFrames. However, the 9th DataFrame has missing values, while the 10th DataFrame has duplicated rows"
   ]
  },
  {
   "cell_type": "code",
   "execution_count": 5,
   "metadata": {},
   "outputs": [
    {
     "name": "stdout",
     "output_type": "stream",
     "text": [
      "0: False False\n",
      "1: False False\n",
      "2: False False\n",
      "3: False False\n",
      "4: False False\n",
      "5: False False\n",
      "6: False False\n",
      "7: False False\n",
      "8: False False\n",
      "9: True False\n",
      "10: False True\n",
      "11: False False\n",
      "12: False False\n"
     ]
    }
   ],
   "source": [
    "for i,df in enumerate(df_list):\n",
    "    print(f\"{i}:\",df.isna().any().any(),df.duplicated().any().any())\n"
   ]
  },
  {
   "cell_type": "code",
   "execution_count": 6,
   "metadata": {},
   "outputs": [
    {
     "data": {
      "text/plain": [
       "home_team            0\n",
       "away_team            0\n",
       "home_goals           0\n",
       "away_goals           0\n",
       "home_shots           5\n",
       "away_shots           5\n",
       "home_possesion       5\n",
       "away_possesion       5\n",
       "home_pass_success    5\n",
       "away_pass_success    5\n",
       "home_dribbles        5\n",
       "away_dribbles        5\n",
       "home_aerials_won     5\n",
       "away_aerials_won     5\n",
       "home_tackles         5\n",
       "away_tackles         5\n",
       "home_corners         5\n",
       "away_corners         5\n",
       "home_dispossessed    5\n",
       "away_dispossessed    5\n",
       "dtype: int64"
      ]
     },
     "execution_count": 6,
     "metadata": {},
     "output_type": "execute_result"
    }
   ],
   "source": [
    "df_list[9].isna().sum()"
   ]
  },
  {
   "attachments": {},
   "cell_type": "markdown",
   "metadata": {},
   "source": [
    "to fill the missing values we used  for the columns that involve counting, such as shots or dribbles, the code first determines the team associated with the missing value and computes the mean value for that team in the corresponding column. For columns involving percentages, such as possession or pass success, the code directly computes the mean value for the team in the corresponding column."
   ]
  },
  {
   "cell_type": "code",
   "execution_count": 7,
   "metadata": {},
   "outputs": [],
   "source": [
    "df  = df_list[9]\n",
    "null_rows = df.isnull().any(axis=1)\n",
    "null_rows_index = null_rows[null_rows == True].index\n",
    "for i in null_rows_index:\n",
    "    for col in ['home_shots','away_shots',  'home_dribbles', 'away_dribbles','home_aerials_won', 'away_aerials_won', 'home_tackles', 'away_tackles','home_corners', 'away_corners', 'home_dispossessed','away_dispossessed']:\n",
    "         team_col = col.split('_')[0] + '_team'\n",
    "         team = df.loc[i,:][team_col]\n",
    "         v = int(df[df[team_col]==team][col].astype(float).mean())\n",
    "         df.loc[i,:][col]= v\n",
    "\n",
    "for i in null_rows_index:\n",
    "    for col in ['home_possesion', 'away_possesion', 'home_pass_success','away_pass_success']:\n",
    "         team_col = col.split('_')[0] + '_team'\n",
    "         team = df.loc[i,:][team_col]\n",
    "         v = df[df[team_col]==team][col].astype(float).mean()\n",
    "         df.loc[i,:][col]= v\n",
    "\n",
    "df_list[9]=df"
   ]
  },
  {
   "attachments": {},
   "cell_type": "markdown",
   "metadata": {},
   "source": [
    "for the 10th df we just drop the duplicated rows"
   ]
  },
  {
   "cell_type": "code",
   "execution_count": 8,
   "metadata": {},
   "outputs": [],
   "source": [
    "df_list[10].drop_duplicates(inplace=True)\n",
    "df_list[10].reset_index(drop=True,inplace=True)\n",
    "\n",
    "\n"
   ]
  },
  {
   "attachments": {},
   "cell_type": "markdown",
   "metadata": {},
   "source": [
    "There are values that need to be converted to integers and floats as we can see all columns are strings"
   ]
  },
  {
   "cell_type": "code",
   "execution_count": 9,
   "metadata": {},
   "outputs": [
    {
     "name": "stdout",
     "output_type": "stream",
     "text": [
      "<class 'pandas.core.frame.DataFrame'>\n",
      "RangeIndex: 380 entries, 0 to 379\n",
      "Data columns (total 20 columns):\n",
      " #   Column             Non-Null Count  Dtype \n",
      "---  ------             --------------  ----- \n",
      " 0   home_team          380 non-null    object\n",
      " 1   away_team          380 non-null    object\n",
      " 2   home_goals         380 non-null    object\n",
      " 3   away_goals         380 non-null    object\n",
      " 4   home_shots         380 non-null    object\n",
      " 5   away_shots         380 non-null    object\n",
      " 6   home_possesion     380 non-null    object\n",
      " 7   away_possesion     380 non-null    object\n",
      " 8   home_pass_success  380 non-null    object\n",
      " 9   away_pass_success  380 non-null    object\n",
      " 10  home_dribbles      380 non-null    object\n",
      " 11  away_dribbles      380 non-null    object\n",
      " 12  home_aerials_won   380 non-null    object\n",
      " 13  away_aerials_won   380 non-null    object\n",
      " 14  home_tackles       380 non-null    object\n",
      " 15  away_tackles       380 non-null    object\n",
      " 16  home_corners       380 non-null    object\n",
      " 17  away_corners       380 non-null    object\n",
      " 18  home_dispossessed  380 non-null    object\n",
      " 19  away_dispossessed  380 non-null    object\n",
      "dtypes: object(20)\n",
      "memory usage: 59.5+ KB\n"
     ]
    }
   ],
   "source": [
    "df_list[0].info()"
   ]
  },
  {
   "cell_type": "code",
   "execution_count": 10,
   "metadata": {},
   "outputs": [],
   "source": [
    "def to_flt(cols,df):\n",
    "    df[cols]=df[cols].astype('float')\n",
    "def to_int(cols,df):\n",
    "    df[cols]=df[cols].astype('int')\n",
    "\n",
    "int_cols = ['home_goals','away_goals','home_shots','away_shots',  'home_dribbles', 'away_dribbles','home_aerials_won', 'away_aerials_won', 'home_tackles', 'away_tackles','home_corners', 'away_corners', 'home_dispossessed','away_dispossessed']\n",
    "float_cols = ['home_possesion','away_possesion','home_pass_success','away_pass_success']\n",
    "for df in df_list:\n",
    "    to_int(int_cols,df)\n",
    "    to_flt(float_cols,df)\n"
   ]
  },
  {
   "attachments": {},
   "cell_type": "markdown",
   "metadata": {},
   "source": [
    "after the transformation"
   ]
  },
  {
   "cell_type": "code",
   "execution_count": 11,
   "metadata": {},
   "outputs": [
    {
     "name": "stdout",
     "output_type": "stream",
     "text": [
      "<class 'pandas.core.frame.DataFrame'>\n",
      "RangeIndex: 380 entries, 0 to 379\n",
      "Data columns (total 20 columns):\n",
      " #   Column             Non-Null Count  Dtype  \n",
      "---  ------             --------------  -----  \n",
      " 0   home_team          380 non-null    object \n",
      " 1   away_team          380 non-null    object \n",
      " 2   home_goals         380 non-null    int32  \n",
      " 3   away_goals         380 non-null    int32  \n",
      " 4   home_shots         380 non-null    int32  \n",
      " 5   away_shots         380 non-null    int32  \n",
      " 6   home_possesion     380 non-null    float64\n",
      " 7   away_possesion     380 non-null    float64\n",
      " 8   home_pass_success  380 non-null    float64\n",
      " 9   away_pass_success  380 non-null    float64\n",
      " 10  home_dribbles      380 non-null    int32  \n",
      " 11  away_dribbles      380 non-null    int32  \n",
      " 12  home_aerials_won   380 non-null    int32  \n",
      " 13  away_aerials_won   380 non-null    int32  \n",
      " 14  home_tackles       380 non-null    int32  \n",
      " 15  away_tackles       380 non-null    int32  \n",
      " 16  home_corners       380 non-null    int32  \n",
      " 17  away_corners       380 non-null    int32  \n",
      " 18  home_dispossessed  380 non-null    int32  \n",
      " 19  away_dispossessed  380 non-null    int32  \n",
      "dtypes: float64(4), int32(14), object(2)\n",
      "memory usage: 38.7+ KB\n"
     ]
    }
   ],
   "source": [
    "df_list[0].info()"
   ]
  },
  {
   "attachments": {},
   "cell_type": "markdown",
   "metadata": {},
   "source": [
    "Now we identify the season for every game in the dfs"
   ]
  },
  {
   "cell_type": "code",
   "execution_count": 12,
   "metadata": {},
   "outputs": [],
   "source": [
    "for i , df in enumerate(df_list):\n",
    "    df[\"season\"] = f\"{i+2010}-{2010+i+1}\""
   ]
  },
  {
   "cell_type": "code",
   "execution_count": 13,
   "metadata": {},
   "outputs": [
    {
     "data": {
      "text/html": [
       "<div>\n",
       "<style scoped>\n",
       "    .dataframe tbody tr th:only-of-type {\n",
       "        vertical-align: middle;\n",
       "    }\n",
       "\n",
       "    .dataframe tbody tr th {\n",
       "        vertical-align: top;\n",
       "    }\n",
       "\n",
       "    .dataframe thead th {\n",
       "        text-align: right;\n",
       "    }\n",
       "</style>\n",
       "<table border=\"1\" class=\"dataframe\">\n",
       "  <thead>\n",
       "    <tr style=\"text-align: right;\">\n",
       "      <th></th>\n",
       "      <th>home_team</th>\n",
       "      <th>away_team</th>\n",
       "      <th>home_goals</th>\n",
       "      <th>away_goals</th>\n",
       "      <th>home_shots</th>\n",
       "      <th>away_shots</th>\n",
       "      <th>home_possesion</th>\n",
       "      <th>away_possesion</th>\n",
       "      <th>home_pass_success</th>\n",
       "      <th>away_pass_success</th>\n",
       "      <th>...</th>\n",
       "      <th>away_dribbles</th>\n",
       "      <th>home_aerials_won</th>\n",
       "      <th>away_aerials_won</th>\n",
       "      <th>home_tackles</th>\n",
       "      <th>away_tackles</th>\n",
       "      <th>home_corners</th>\n",
       "      <th>away_corners</th>\n",
       "      <th>home_dispossessed</th>\n",
       "      <th>away_dispossessed</th>\n",
       "      <th>season</th>\n",
       "    </tr>\n",
       "  </thead>\n",
       "  <tbody>\n",
       "    <tr>\n",
       "      <th>0</th>\n",
       "      <td>Birmingham</td>\n",
       "      <td>Wolverhampton</td>\n",
       "      <td>1</td>\n",
       "      <td>1</td>\n",
       "      <td>8</td>\n",
       "      <td>11</td>\n",
       "      <td>42.9</td>\n",
       "      <td>57.1</td>\n",
       "      <td>61.0</td>\n",
       "      <td>71.0</td>\n",
       "      <td>...</td>\n",
       "      <td>3</td>\n",
       "      <td>26</td>\n",
       "      <td>18</td>\n",
       "      <td>15</td>\n",
       "      <td>11</td>\n",
       "      <td>0</td>\n",
       "      <td>2</td>\n",
       "      <td>9</td>\n",
       "      <td>10</td>\n",
       "      <td>2010-2011</td>\n",
       "    </tr>\n",
       "    <tr>\n",
       "      <th>1</th>\n",
       "      <td>Liverpool</td>\n",
       "      <td>Newcastle</td>\n",
       "      <td>3</td>\n",
       "      <td>0</td>\n",
       "      <td>14</td>\n",
       "      <td>11</td>\n",
       "      <td>46.3</td>\n",
       "      <td>53.7</td>\n",
       "      <td>78.0</td>\n",
       "      <td>85.0</td>\n",
       "      <td>...</td>\n",
       "      <td>9</td>\n",
       "      <td>8</td>\n",
       "      <td>12</td>\n",
       "      <td>26</td>\n",
       "      <td>7</td>\n",
       "      <td>3</td>\n",
       "      <td>12</td>\n",
       "      <td>4</td>\n",
       "      <td>11</td>\n",
       "      <td>2010-2011</td>\n",
       "    </tr>\n",
       "    <tr>\n",
       "      <th>2</th>\n",
       "      <td>Arsenal</td>\n",
       "      <td>Manchester United</td>\n",
       "      <td>1</td>\n",
       "      <td>0</td>\n",
       "      <td>10</td>\n",
       "      <td>12</td>\n",
       "      <td>54.9</td>\n",
       "      <td>45.1</td>\n",
       "      <td>82.0</td>\n",
       "      <td>76.0</td>\n",
       "      <td>...</td>\n",
       "      <td>6</td>\n",
       "      <td>18</td>\n",
       "      <td>11</td>\n",
       "      <td>22</td>\n",
       "      <td>25</td>\n",
       "      <td>3</td>\n",
       "      <td>6</td>\n",
       "      <td>20</td>\n",
       "      <td>16</td>\n",
       "      <td>2010-2011</td>\n",
       "    </tr>\n",
       "    <tr>\n",
       "      <th>3</th>\n",
       "      <td>Manchester City</td>\n",
       "      <td>West Ham</td>\n",
       "      <td>2</td>\n",
       "      <td>1</td>\n",
       "      <td>21</td>\n",
       "      <td>9</td>\n",
       "      <td>59.8</td>\n",
       "      <td>40.2</td>\n",
       "      <td>86.0</td>\n",
       "      <td>73.0</td>\n",
       "      <td>...</td>\n",
       "      <td>0</td>\n",
       "      <td>6</td>\n",
       "      <td>8</td>\n",
       "      <td>19</td>\n",
       "      <td>17</td>\n",
       "      <td>9</td>\n",
       "      <td>5</td>\n",
       "      <td>12</td>\n",
       "      <td>15</td>\n",
       "      <td>2010-2011</td>\n",
       "    </tr>\n",
       "    <tr>\n",
       "      <th>4</th>\n",
       "      <td>Everton</td>\n",
       "      <td>Manchester City</td>\n",
       "      <td>2</td>\n",
       "      <td>1</td>\n",
       "      <td>11</td>\n",
       "      <td>12</td>\n",
       "      <td>48.6</td>\n",
       "      <td>51.4</td>\n",
       "      <td>72.0</td>\n",
       "      <td>79.0</td>\n",
       "      <td>...</td>\n",
       "      <td>6</td>\n",
       "      <td>9</td>\n",
       "      <td>14</td>\n",
       "      <td>19</td>\n",
       "      <td>16</td>\n",
       "      <td>11</td>\n",
       "      <td>6</td>\n",
       "      <td>13</td>\n",
       "      <td>15</td>\n",
       "      <td>2010-2011</td>\n",
       "    </tr>\n",
       "    <tr>\n",
       "      <th>...</th>\n",
       "      <td>...</td>\n",
       "      <td>...</td>\n",
       "      <td>...</td>\n",
       "      <td>...</td>\n",
       "      <td>...</td>\n",
       "      <td>...</td>\n",
       "      <td>...</td>\n",
       "      <td>...</td>\n",
       "      <td>...</td>\n",
       "      <td>...</td>\n",
       "      <td>...</td>\n",
       "      <td>...</td>\n",
       "      <td>...</td>\n",
       "      <td>...</td>\n",
       "      <td>...</td>\n",
       "      <td>...</td>\n",
       "      <td>...</td>\n",
       "      <td>...</td>\n",
       "      <td>...</td>\n",
       "      <td>...</td>\n",
       "      <td>...</td>\n",
       "    </tr>\n",
       "    <tr>\n",
       "      <th>375</th>\n",
       "      <td>Manchester United</td>\n",
       "      <td>West Ham</td>\n",
       "      <td>3</td>\n",
       "      <td>0</td>\n",
       "      <td>21</td>\n",
       "      <td>8</td>\n",
       "      <td>60.3</td>\n",
       "      <td>39.7</td>\n",
       "      <td>88.0</td>\n",
       "      <td>84.0</td>\n",
       "      <td>...</td>\n",
       "      <td>9</td>\n",
       "      <td>5</td>\n",
       "      <td>4</td>\n",
       "      <td>31</td>\n",
       "      <td>24</td>\n",
       "      <td>9</td>\n",
       "      <td>3</td>\n",
       "      <td>13</td>\n",
       "      <td>15</td>\n",
       "      <td>2010-2011</td>\n",
       "    </tr>\n",
       "    <tr>\n",
       "      <th>376</th>\n",
       "      <td>Bolton</td>\n",
       "      <td>Birmingham</td>\n",
       "      <td>2</td>\n",
       "      <td>2</td>\n",
       "      <td>15</td>\n",
       "      <td>9</td>\n",
       "      <td>50.8</td>\n",
       "      <td>49.2</td>\n",
       "      <td>71.0</td>\n",
       "      <td>58.0</td>\n",
       "      <td>...</td>\n",
       "      <td>5</td>\n",
       "      <td>22</td>\n",
       "      <td>9</td>\n",
       "      <td>24</td>\n",
       "      <td>17</td>\n",
       "      <td>6</td>\n",
       "      <td>1</td>\n",
       "      <td>16</td>\n",
       "      <td>15</td>\n",
       "      <td>2010-2011</td>\n",
       "    </tr>\n",
       "    <tr>\n",
       "      <th>377</th>\n",
       "      <td>Liverpool</td>\n",
       "      <td>West Bromwich</td>\n",
       "      <td>1</td>\n",
       "      <td>0</td>\n",
       "      <td>11</td>\n",
       "      <td>16</td>\n",
       "      <td>51.0</td>\n",
       "      <td>49.0</td>\n",
       "      <td>76.0</td>\n",
       "      <td>76.0</td>\n",
       "      <td>...</td>\n",
       "      <td>8</td>\n",
       "      <td>6</td>\n",
       "      <td>14</td>\n",
       "      <td>26</td>\n",
       "      <td>24</td>\n",
       "      <td>7</td>\n",
       "      <td>6</td>\n",
       "      <td>12</td>\n",
       "      <td>21</td>\n",
       "      <td>2010-2011</td>\n",
       "    </tr>\n",
       "    <tr>\n",
       "      <th>378</th>\n",
       "      <td>Sunderland</td>\n",
       "      <td>Manchester City</td>\n",
       "      <td>1</td>\n",
       "      <td>0</td>\n",
       "      <td>18</td>\n",
       "      <td>10</td>\n",
       "      <td>41.7</td>\n",
       "      <td>58.3</td>\n",
       "      <td>72.0</td>\n",
       "      <td>81.0</td>\n",
       "      <td>...</td>\n",
       "      <td>9</td>\n",
       "      <td>7</td>\n",
       "      <td>12</td>\n",
       "      <td>33</td>\n",
       "      <td>29</td>\n",
       "      <td>3</td>\n",
       "      <td>8</td>\n",
       "      <td>9</td>\n",
       "      <td>20</td>\n",
       "      <td>2010-2011</td>\n",
       "    </tr>\n",
       "    <tr>\n",
       "      <th>379</th>\n",
       "      <td>Aston Villa</td>\n",
       "      <td>Everton</td>\n",
       "      <td>1</td>\n",
       "      <td>0</td>\n",
       "      <td>15</td>\n",
       "      <td>23</td>\n",
       "      <td>31.7</td>\n",
       "      <td>68.3</td>\n",
       "      <td>60.0</td>\n",
       "      <td>78.0</td>\n",
       "      <td>...</td>\n",
       "      <td>10</td>\n",
       "      <td>14</td>\n",
       "      <td>8</td>\n",
       "      <td>22</td>\n",
       "      <td>11</td>\n",
       "      <td>4</td>\n",
       "      <td>18</td>\n",
       "      <td>6</td>\n",
       "      <td>14</td>\n",
       "      <td>2010-2011</td>\n",
       "    </tr>\n",
       "  </tbody>\n",
       "</table>\n",
       "<p>380 rows × 21 columns</p>\n",
       "</div>"
      ],
      "text/plain": [
       "             home_team          away_team  home_goals  away_goals  home_shots  \\\n",
       "0           Birmingham      Wolverhampton           1           1           8   \n",
       "1            Liverpool          Newcastle           3           0          14   \n",
       "2              Arsenal  Manchester United           1           0          10   \n",
       "3      Manchester City           West Ham           2           1          21   \n",
       "4              Everton    Manchester City           2           1          11   \n",
       "..                 ...                ...         ...         ...         ...   \n",
       "375  Manchester United           West Ham           3           0          21   \n",
       "376             Bolton         Birmingham           2           2          15   \n",
       "377          Liverpool      West Bromwich           1           0          11   \n",
       "378         Sunderland    Manchester City           1           0          18   \n",
       "379        Aston Villa            Everton           1           0          15   \n",
       "\n",
       "     away_shots  home_possesion  away_possesion  home_pass_success  \\\n",
       "0            11            42.9            57.1               61.0   \n",
       "1            11            46.3            53.7               78.0   \n",
       "2            12            54.9            45.1               82.0   \n",
       "3             9            59.8            40.2               86.0   \n",
       "4            12            48.6            51.4               72.0   \n",
       "..          ...             ...             ...                ...   \n",
       "375           8            60.3            39.7               88.0   \n",
       "376           9            50.8            49.2               71.0   \n",
       "377          16            51.0            49.0               76.0   \n",
       "378          10            41.7            58.3               72.0   \n",
       "379          23            31.7            68.3               60.0   \n",
       "\n",
       "     away_pass_success  ...  away_dribbles  home_aerials_won  \\\n",
       "0                 71.0  ...              3                26   \n",
       "1                 85.0  ...              9                 8   \n",
       "2                 76.0  ...              6                18   \n",
       "3                 73.0  ...              0                 6   \n",
       "4                 79.0  ...              6                 9   \n",
       "..                 ...  ...            ...               ...   \n",
       "375               84.0  ...              9                 5   \n",
       "376               58.0  ...              5                22   \n",
       "377               76.0  ...              8                 6   \n",
       "378               81.0  ...              9                 7   \n",
       "379               78.0  ...             10                14   \n",
       "\n",
       "     away_aerials_won  home_tackles  away_tackles  home_corners  away_corners  \\\n",
       "0                  18            15            11             0             2   \n",
       "1                  12            26             7             3            12   \n",
       "2                  11            22            25             3             6   \n",
       "3                   8            19            17             9             5   \n",
       "4                  14            19            16            11             6   \n",
       "..                ...           ...           ...           ...           ...   \n",
       "375                 4            31            24             9             3   \n",
       "376                 9            24            17             6             1   \n",
       "377                14            26            24             7             6   \n",
       "378                12            33            29             3             8   \n",
       "379                 8            22            11             4            18   \n",
       "\n",
       "     home_dispossessed  away_dispossessed     season  \n",
       "0                    9                 10  2010-2011  \n",
       "1                    4                 11  2010-2011  \n",
       "2                   20                 16  2010-2011  \n",
       "3                   12                 15  2010-2011  \n",
       "4                   13                 15  2010-2011  \n",
       "..                 ...                ...        ...  \n",
       "375                 13                 15  2010-2011  \n",
       "376                 16                 15  2010-2011  \n",
       "377                 12                 21  2010-2011  \n",
       "378                  9                 20  2010-2011  \n",
       "379                  6                 14  2010-2011  \n",
       "\n",
       "[380 rows x 21 columns]"
      ]
     },
     "execution_count": 13,
     "metadata": {},
     "output_type": "execute_result"
    }
   ],
   "source": [
    "df_list[0]"
   ]
  },
  {
   "attachments": {},
   "cell_type": "markdown",
   "metadata": {},
   "source": [
    "For better analysis we concatenate all dfs into one data frame"
   ]
  },
  {
   "cell_type": "code",
   "execution_count": 14,
   "metadata": {},
   "outputs": [],
   "source": [
    "df=pd.concat(df_list)"
   ]
  },
  {
   "cell_type": "code",
   "execution_count": 15,
   "metadata": {},
   "outputs": [
    {
     "data": {
      "text/html": [
       "<div>\n",
       "<style scoped>\n",
       "    .dataframe tbody tr th:only-of-type {\n",
       "        vertical-align: middle;\n",
       "    }\n",
       "\n",
       "    .dataframe tbody tr th {\n",
       "        vertical-align: top;\n",
       "    }\n",
       "\n",
       "    .dataframe thead th {\n",
       "        text-align: right;\n",
       "    }\n",
       "</style>\n",
       "<table border=\"1\" class=\"dataframe\">\n",
       "  <thead>\n",
       "    <tr style=\"text-align: right;\">\n",
       "      <th></th>\n",
       "      <th>home_team</th>\n",
       "      <th>away_team</th>\n",
       "      <th>home_goals</th>\n",
       "      <th>away_goals</th>\n",
       "      <th>home_shots</th>\n",
       "      <th>away_shots</th>\n",
       "      <th>home_possesion</th>\n",
       "      <th>away_possesion</th>\n",
       "      <th>home_pass_success</th>\n",
       "      <th>away_pass_success</th>\n",
       "      <th>...</th>\n",
       "      <th>away_dribbles</th>\n",
       "      <th>home_aerials_won</th>\n",
       "      <th>away_aerials_won</th>\n",
       "      <th>home_tackles</th>\n",
       "      <th>away_tackles</th>\n",
       "      <th>home_corners</th>\n",
       "      <th>away_corners</th>\n",
       "      <th>home_dispossessed</th>\n",
       "      <th>away_dispossessed</th>\n",
       "      <th>season</th>\n",
       "    </tr>\n",
       "  </thead>\n",
       "  <tbody>\n",
       "    <tr>\n",
       "      <th>0</th>\n",
       "      <td>Birmingham</td>\n",
       "      <td>Wolverhampton</td>\n",
       "      <td>1</td>\n",
       "      <td>1</td>\n",
       "      <td>8</td>\n",
       "      <td>11</td>\n",
       "      <td>42.9</td>\n",
       "      <td>57.1</td>\n",
       "      <td>61.0</td>\n",
       "      <td>71.0</td>\n",
       "      <td>...</td>\n",
       "      <td>3</td>\n",
       "      <td>26</td>\n",
       "      <td>18</td>\n",
       "      <td>15</td>\n",
       "      <td>11</td>\n",
       "      <td>0</td>\n",
       "      <td>2</td>\n",
       "      <td>9</td>\n",
       "      <td>10</td>\n",
       "      <td>2010-2011</td>\n",
       "    </tr>\n",
       "    <tr>\n",
       "      <th>1</th>\n",
       "      <td>Liverpool</td>\n",
       "      <td>Newcastle</td>\n",
       "      <td>3</td>\n",
       "      <td>0</td>\n",
       "      <td>14</td>\n",
       "      <td>11</td>\n",
       "      <td>46.3</td>\n",
       "      <td>53.7</td>\n",
       "      <td>78.0</td>\n",
       "      <td>85.0</td>\n",
       "      <td>...</td>\n",
       "      <td>9</td>\n",
       "      <td>8</td>\n",
       "      <td>12</td>\n",
       "      <td>26</td>\n",
       "      <td>7</td>\n",
       "      <td>3</td>\n",
       "      <td>12</td>\n",
       "      <td>4</td>\n",
       "      <td>11</td>\n",
       "      <td>2010-2011</td>\n",
       "    </tr>\n",
       "    <tr>\n",
       "      <th>2</th>\n",
       "      <td>Arsenal</td>\n",
       "      <td>Manchester United</td>\n",
       "      <td>1</td>\n",
       "      <td>0</td>\n",
       "      <td>10</td>\n",
       "      <td>12</td>\n",
       "      <td>54.9</td>\n",
       "      <td>45.1</td>\n",
       "      <td>82.0</td>\n",
       "      <td>76.0</td>\n",
       "      <td>...</td>\n",
       "      <td>6</td>\n",
       "      <td>18</td>\n",
       "      <td>11</td>\n",
       "      <td>22</td>\n",
       "      <td>25</td>\n",
       "      <td>3</td>\n",
       "      <td>6</td>\n",
       "      <td>20</td>\n",
       "      <td>16</td>\n",
       "      <td>2010-2011</td>\n",
       "    </tr>\n",
       "    <tr>\n",
       "      <th>3</th>\n",
       "      <td>Manchester City</td>\n",
       "      <td>West Ham</td>\n",
       "      <td>2</td>\n",
       "      <td>1</td>\n",
       "      <td>21</td>\n",
       "      <td>9</td>\n",
       "      <td>59.8</td>\n",
       "      <td>40.2</td>\n",
       "      <td>86.0</td>\n",
       "      <td>73.0</td>\n",
       "      <td>...</td>\n",
       "      <td>0</td>\n",
       "      <td>6</td>\n",
       "      <td>8</td>\n",
       "      <td>19</td>\n",
       "      <td>17</td>\n",
       "      <td>9</td>\n",
       "      <td>5</td>\n",
       "      <td>12</td>\n",
       "      <td>15</td>\n",
       "      <td>2010-2011</td>\n",
       "    </tr>\n",
       "    <tr>\n",
       "      <th>4</th>\n",
       "      <td>Everton</td>\n",
       "      <td>Manchester City</td>\n",
       "      <td>2</td>\n",
       "      <td>1</td>\n",
       "      <td>11</td>\n",
       "      <td>12</td>\n",
       "      <td>48.6</td>\n",
       "      <td>51.4</td>\n",
       "      <td>72.0</td>\n",
       "      <td>79.0</td>\n",
       "      <td>...</td>\n",
       "      <td>6</td>\n",
       "      <td>9</td>\n",
       "      <td>14</td>\n",
       "      <td>19</td>\n",
       "      <td>16</td>\n",
       "      <td>11</td>\n",
       "      <td>6</td>\n",
       "      <td>13</td>\n",
       "      <td>15</td>\n",
       "      <td>2010-2011</td>\n",
       "    </tr>\n",
       "    <tr>\n",
       "      <th>...</th>\n",
       "      <td>...</td>\n",
       "      <td>...</td>\n",
       "      <td>...</td>\n",
       "      <td>...</td>\n",
       "      <td>...</td>\n",
       "      <td>...</td>\n",
       "      <td>...</td>\n",
       "      <td>...</td>\n",
       "      <td>...</td>\n",
       "      <td>...</td>\n",
       "      <td>...</td>\n",
       "      <td>...</td>\n",
       "      <td>...</td>\n",
       "      <td>...</td>\n",
       "      <td>...</td>\n",
       "      <td>...</td>\n",
       "      <td>...</td>\n",
       "      <td>...</td>\n",
       "      <td>...</td>\n",
       "      <td>...</td>\n",
       "      <td>...</td>\n",
       "    </tr>\n",
       "    <tr>\n",
       "      <th>4786</th>\n",
       "      <td>Manchester City</td>\n",
       "      <td>Nottingham Forest</td>\n",
       "      <td>6</td>\n",
       "      <td>0</td>\n",
       "      <td>17</td>\n",
       "      <td>8</td>\n",
       "      <td>74.9</td>\n",
       "      <td>25.1</td>\n",
       "      <td>92.0</td>\n",
       "      <td>74.0</td>\n",
       "      <td>...</td>\n",
       "      <td>6</td>\n",
       "      <td>17</td>\n",
       "      <td>8</td>\n",
       "      <td>13</td>\n",
       "      <td>14</td>\n",
       "      <td>10</td>\n",
       "      <td>1</td>\n",
       "      <td>4</td>\n",
       "      <td>7</td>\n",
       "      <td>2022-2023</td>\n",
       "    </tr>\n",
       "    <tr>\n",
       "      <th>4787</th>\n",
       "      <td>Arsenal</td>\n",
       "      <td>Aston Villa</td>\n",
       "      <td>2</td>\n",
       "      <td>1</td>\n",
       "      <td>22</td>\n",
       "      <td>4</td>\n",
       "      <td>58.9</td>\n",
       "      <td>41.1</td>\n",
       "      <td>85.0</td>\n",
       "      <td>77.0</td>\n",
       "      <td>...</td>\n",
       "      <td>5</td>\n",
       "      <td>11</td>\n",
       "      <td>10</td>\n",
       "      <td>10</td>\n",
       "      <td>16</td>\n",
       "      <td>10</td>\n",
       "      <td>3</td>\n",
       "      <td>9</td>\n",
       "      <td>6</td>\n",
       "      <td>2022-2023</td>\n",
       "    </tr>\n",
       "    <tr>\n",
       "      <th>4788</th>\n",
       "      <td>Bournemouth</td>\n",
       "      <td>Wolverhampton</td>\n",
       "      <td>0</td>\n",
       "      <td>0</td>\n",
       "      <td>5</td>\n",
       "      <td>17</td>\n",
       "      <td>34.1</td>\n",
       "      <td>65.9</td>\n",
       "      <td>74.0</td>\n",
       "      <td>89.0</td>\n",
       "      <td>...</td>\n",
       "      <td>4</td>\n",
       "      <td>12</td>\n",
       "      <td>14</td>\n",
       "      <td>24</td>\n",
       "      <td>26</td>\n",
       "      <td>2</td>\n",
       "      <td>5</td>\n",
       "      <td>13</td>\n",
       "      <td>15</td>\n",
       "      <td>2022-2023</td>\n",
       "    </tr>\n",
       "    <tr>\n",
       "      <th>4789</th>\n",
       "      <td>West Ham</td>\n",
       "      <td>Tottenham</td>\n",
       "      <td>1</td>\n",
       "      <td>1</td>\n",
       "      <td>14</td>\n",
       "      <td>12</td>\n",
       "      <td>38.3</td>\n",
       "      <td>61.7</td>\n",
       "      <td>83.0</td>\n",
       "      <td>89.0</td>\n",
       "      <td>...</td>\n",
       "      <td>5</td>\n",
       "      <td>18</td>\n",
       "      <td>10</td>\n",
       "      <td>13</td>\n",
       "      <td>7</td>\n",
       "      <td>3</td>\n",
       "      <td>4</td>\n",
       "      <td>1</td>\n",
       "      <td>9</td>\n",
       "      <td>2022-2023</td>\n",
       "    </tr>\n",
       "    <tr>\n",
       "      <th>4790</th>\n",
       "      <td>Liverpool</td>\n",
       "      <td>Newcastle</td>\n",
       "      <td>2</td>\n",
       "      <td>1</td>\n",
       "      <td>23</td>\n",
       "      <td>5</td>\n",
       "      <td>71.8</td>\n",
       "      <td>28.2</td>\n",
       "      <td>84.0</td>\n",
       "      <td>64.0</td>\n",
       "      <td>...</td>\n",
       "      <td>6</td>\n",
       "      <td>15</td>\n",
       "      <td>22</td>\n",
       "      <td>7</td>\n",
       "      <td>23</td>\n",
       "      <td>13</td>\n",
       "      <td>0</td>\n",
       "      <td>10</td>\n",
       "      <td>3</td>\n",
       "      <td>2022-2023</td>\n",
       "    </tr>\n",
       "  </tbody>\n",
       "</table>\n",
       "<p>4791 rows × 21 columns</p>\n",
       "</div>"
      ],
      "text/plain": [
       "            home_team          away_team  home_goals  away_goals  home_shots  \\\n",
       "0          Birmingham      Wolverhampton           1           1           8   \n",
       "1           Liverpool          Newcastle           3           0          14   \n",
       "2             Arsenal  Manchester United           1           0          10   \n",
       "3     Manchester City           West Ham           2           1          21   \n",
       "4             Everton    Manchester City           2           1          11   \n",
       "...               ...                ...         ...         ...         ...   \n",
       "4786  Manchester City  Nottingham Forest           6           0          17   \n",
       "4787          Arsenal        Aston Villa           2           1          22   \n",
       "4788      Bournemouth      Wolverhampton           0           0           5   \n",
       "4789         West Ham          Tottenham           1           1          14   \n",
       "4790        Liverpool          Newcastle           2           1          23   \n",
       "\n",
       "      away_shots  home_possesion  away_possesion  home_pass_success  \\\n",
       "0             11            42.9            57.1               61.0   \n",
       "1             11            46.3            53.7               78.0   \n",
       "2             12            54.9            45.1               82.0   \n",
       "3              9            59.8            40.2               86.0   \n",
       "4             12            48.6            51.4               72.0   \n",
       "...          ...             ...             ...                ...   \n",
       "4786           8            74.9            25.1               92.0   \n",
       "4787           4            58.9            41.1               85.0   \n",
       "4788          17            34.1            65.9               74.0   \n",
       "4789          12            38.3            61.7               83.0   \n",
       "4790           5            71.8            28.2               84.0   \n",
       "\n",
       "      away_pass_success  ...  away_dribbles  home_aerials_won  \\\n",
       "0                  71.0  ...              3                26   \n",
       "1                  85.0  ...              9                 8   \n",
       "2                  76.0  ...              6                18   \n",
       "3                  73.0  ...              0                 6   \n",
       "4                  79.0  ...              6                 9   \n",
       "...                 ...  ...            ...               ...   \n",
       "4786               74.0  ...              6                17   \n",
       "4787               77.0  ...              5                11   \n",
       "4788               89.0  ...              4                12   \n",
       "4789               89.0  ...              5                18   \n",
       "4790               64.0  ...              6                15   \n",
       "\n",
       "      away_aerials_won  home_tackles  away_tackles  home_corners  \\\n",
       "0                   18            15            11             0   \n",
       "1                   12            26             7             3   \n",
       "2                   11            22            25             3   \n",
       "3                    8            19            17             9   \n",
       "4                   14            19            16            11   \n",
       "...                ...           ...           ...           ...   \n",
       "4786                 8            13            14            10   \n",
       "4787                10            10            16            10   \n",
       "4788                14            24            26             2   \n",
       "4789                10            13             7             3   \n",
       "4790                22             7            23            13   \n",
       "\n",
       "      away_corners  home_dispossessed  away_dispossessed     season  \n",
       "0                2                  9                 10  2010-2011  \n",
       "1               12                  4                 11  2010-2011  \n",
       "2                6                 20                 16  2010-2011  \n",
       "3                5                 12                 15  2010-2011  \n",
       "4                6                 13                 15  2010-2011  \n",
       "...            ...                ...                ...        ...  \n",
       "4786             1                  4                  7  2022-2023  \n",
       "4787             3                  9                  6  2022-2023  \n",
       "4788             5                 13                 15  2022-2023  \n",
       "4789             4                  1                  9  2022-2023  \n",
       "4790             0                 10                  3  2022-2023  \n",
       "\n",
       "[4791 rows x 21 columns]"
      ]
     },
     "execution_count": 15,
     "metadata": {},
     "output_type": "execute_result"
    }
   ],
   "source": [
    "df.reset_index(drop=True,inplace=True)\n",
    "df"
   ]
  },
  {
   "attachments": {},
   "cell_type": "markdown",
   "metadata": {},
   "source": [
    "here we add a column for the result of the game "
   ]
  },
  {
   "cell_type": "code",
   "execution_count": 16,
   "metadata": {},
   "outputs": [],
   "source": [
    "df[\"result\"] = df.apply(lambda df : \"W\" if df[\"home_goals\"]>df[\"away_goals\"] else(\"L\" if df[\"home_goals\"]<df[\"away_goals\"] else \"D\"),axis = 1)"
   ]
  },
  {
   "cell_type": "code",
   "execution_count": 17,
   "metadata": {},
   "outputs": [],
   "source": [
    "ovr_df = df.copy(deep = True)"
   ]
  },
  {
   "cell_type": "markdown",
   "metadata": {},
   "source": [
    "## Data Analysis"
   ]
  },
  {
   "attachments": {},
   "cell_type": "markdown",
   "metadata": {},
   "source": [
    "### Goals per season"
   ]
  },
  {
   "cell_type": "code",
   "execution_count": 18,
   "metadata": {},
   "outputs": [
    {
     "name": "stderr",
     "output_type": "stream",
     "text": [
      "C:\\Users\\PC2\\AppData\\Local\\Temp/ipykernel_8724/673946050.py:2: FutureWarning: Indexing with multiple keys (implicitly converted to a tuple of keys) will be deprecated, use a list instead.\n",
      "  goals_per_season = df.groupby('season')['home_goals', 'away_goals'].sum().reset_index()\n"
     ]
    },
    {
     "data": {
      "application/vnd.plotly.v1+json": {
       "config": {
        "plotlyServerURL": "https://plot.ly"
       },
       "data": [
        {
         "alignmentgroup": "True",
         "hovertemplate": "season=%{x}<br>Total Goals=%{marker.color}<extra></extra>",
         "legendgroup": "",
         "marker": {
          "color": [
           1063,
           1066,
           1063,
           1052,
           975,
           1026,
           1064,
           1018,
           1072,
           1034,
           1024,
           1071,
           627
          ],
          "coloraxis": "coloraxis",
          "pattern": {
           "shape": ""
          }
         },
         "name": "",
         "offsetgroup": "",
         "orientation": "v",
         "showlegend": false,
         "textposition": "auto",
         "type": "bar",
         "x": [
          "2010-2011",
          "2011-2012",
          "2012-2013",
          "2013-2014",
          "2014-2015",
          "2015-2016",
          "2016-2017",
          "2017-2018",
          "2018-2019",
          "2019-2020",
          "2020-2021",
          "2021-2022",
          "2022-2023"
         ],
         "xaxis": "x",
         "y": [
          1063,
          1066,
          1063,
          1052,
          975,
          1026,
          1064,
          1018,
          1072,
          1034,
          1024,
          1071,
          627
         ],
         "yaxis": "y"
        }
       ],
       "layout": {
        "barmode": "relative",
        "coloraxis": {
         "colorbar": {
          "title": {
           "text": "Total Goals"
          }
         },
         "colorscale": [
          [
           0,
           "#0d0887"
          ],
          [
           0.1111111111111111,
           "#46039f"
          ],
          [
           0.2222222222222222,
           "#7201a8"
          ],
          [
           0.3333333333333333,
           "#9c179e"
          ],
          [
           0.4444444444444444,
           "#bd3786"
          ],
          [
           0.5555555555555556,
           "#d8576b"
          ],
          [
           0.6666666666666666,
           "#ed7953"
          ],
          [
           0.7777777777777778,
           "#fb9f3a"
          ],
          [
           0.8888888888888888,
           "#fdca26"
          ],
          [
           1,
           "#f0f921"
          ]
         ]
        },
        "legend": {
         "tracegroupgap": 0
        },
        "template": {
         "data": {
          "bar": [
           {
            "error_x": {
             "color": "#2a3f5f"
            },
            "error_y": {
             "color": "#2a3f5f"
            },
            "marker": {
             "line": {
              "color": "#E5ECF6",
              "width": 0.5
             },
             "pattern": {
              "fillmode": "overlay",
              "size": 10,
              "solidity": 0.2
             }
            },
            "type": "bar"
           }
          ],
          "barpolar": [
           {
            "marker": {
             "line": {
              "color": "#E5ECF6",
              "width": 0.5
             },
             "pattern": {
              "fillmode": "overlay",
              "size": 10,
              "solidity": 0.2
             }
            },
            "type": "barpolar"
           }
          ],
          "carpet": [
           {
            "aaxis": {
             "endlinecolor": "#2a3f5f",
             "gridcolor": "white",
             "linecolor": "white",
             "minorgridcolor": "white",
             "startlinecolor": "#2a3f5f"
            },
            "baxis": {
             "endlinecolor": "#2a3f5f",
             "gridcolor": "white",
             "linecolor": "white",
             "minorgridcolor": "white",
             "startlinecolor": "#2a3f5f"
            },
            "type": "carpet"
           }
          ],
          "choropleth": [
           {
            "colorbar": {
             "outlinewidth": 0,
             "ticks": ""
            },
            "type": "choropleth"
           }
          ],
          "contour": [
           {
            "colorbar": {
             "outlinewidth": 0,
             "ticks": ""
            },
            "colorscale": [
             [
              0,
              "#0d0887"
             ],
             [
              0.1111111111111111,
              "#46039f"
             ],
             [
              0.2222222222222222,
              "#7201a8"
             ],
             [
              0.3333333333333333,
              "#9c179e"
             ],
             [
              0.4444444444444444,
              "#bd3786"
             ],
             [
              0.5555555555555556,
              "#d8576b"
             ],
             [
              0.6666666666666666,
              "#ed7953"
             ],
             [
              0.7777777777777778,
              "#fb9f3a"
             ],
             [
              0.8888888888888888,
              "#fdca26"
             ],
             [
              1,
              "#f0f921"
             ]
            ],
            "type": "contour"
           }
          ],
          "contourcarpet": [
           {
            "colorbar": {
             "outlinewidth": 0,
             "ticks": ""
            },
            "type": "contourcarpet"
           }
          ],
          "heatmap": [
           {
            "colorbar": {
             "outlinewidth": 0,
             "ticks": ""
            },
            "colorscale": [
             [
              0,
              "#0d0887"
             ],
             [
              0.1111111111111111,
              "#46039f"
             ],
             [
              0.2222222222222222,
              "#7201a8"
             ],
             [
              0.3333333333333333,
              "#9c179e"
             ],
             [
              0.4444444444444444,
              "#bd3786"
             ],
             [
              0.5555555555555556,
              "#d8576b"
             ],
             [
              0.6666666666666666,
              "#ed7953"
             ],
             [
              0.7777777777777778,
              "#fb9f3a"
             ],
             [
              0.8888888888888888,
              "#fdca26"
             ],
             [
              1,
              "#f0f921"
             ]
            ],
            "type": "heatmap"
           }
          ],
          "heatmapgl": [
           {
            "colorbar": {
             "outlinewidth": 0,
             "ticks": ""
            },
            "colorscale": [
             [
              0,
              "#0d0887"
             ],
             [
              0.1111111111111111,
              "#46039f"
             ],
             [
              0.2222222222222222,
              "#7201a8"
             ],
             [
              0.3333333333333333,
              "#9c179e"
             ],
             [
              0.4444444444444444,
              "#bd3786"
             ],
             [
              0.5555555555555556,
              "#d8576b"
             ],
             [
              0.6666666666666666,
              "#ed7953"
             ],
             [
              0.7777777777777778,
              "#fb9f3a"
             ],
             [
              0.8888888888888888,
              "#fdca26"
             ],
             [
              1,
              "#f0f921"
             ]
            ],
            "type": "heatmapgl"
           }
          ],
          "histogram": [
           {
            "marker": {
             "pattern": {
              "fillmode": "overlay",
              "size": 10,
              "solidity": 0.2
             }
            },
            "type": "histogram"
           }
          ],
          "histogram2d": [
           {
            "colorbar": {
             "outlinewidth": 0,
             "ticks": ""
            },
            "colorscale": [
             [
              0,
              "#0d0887"
             ],
             [
              0.1111111111111111,
              "#46039f"
             ],
             [
              0.2222222222222222,
              "#7201a8"
             ],
             [
              0.3333333333333333,
              "#9c179e"
             ],
             [
              0.4444444444444444,
              "#bd3786"
             ],
             [
              0.5555555555555556,
              "#d8576b"
             ],
             [
              0.6666666666666666,
              "#ed7953"
             ],
             [
              0.7777777777777778,
              "#fb9f3a"
             ],
             [
              0.8888888888888888,
              "#fdca26"
             ],
             [
              1,
              "#f0f921"
             ]
            ],
            "type": "histogram2d"
           }
          ],
          "histogram2dcontour": [
           {
            "colorbar": {
             "outlinewidth": 0,
             "ticks": ""
            },
            "colorscale": [
             [
              0,
              "#0d0887"
             ],
             [
              0.1111111111111111,
              "#46039f"
             ],
             [
              0.2222222222222222,
              "#7201a8"
             ],
             [
              0.3333333333333333,
              "#9c179e"
             ],
             [
              0.4444444444444444,
              "#bd3786"
             ],
             [
              0.5555555555555556,
              "#d8576b"
             ],
             [
              0.6666666666666666,
              "#ed7953"
             ],
             [
              0.7777777777777778,
              "#fb9f3a"
             ],
             [
              0.8888888888888888,
              "#fdca26"
             ],
             [
              1,
              "#f0f921"
             ]
            ],
            "type": "histogram2dcontour"
           }
          ],
          "mesh3d": [
           {
            "colorbar": {
             "outlinewidth": 0,
             "ticks": ""
            },
            "type": "mesh3d"
           }
          ],
          "parcoords": [
           {
            "line": {
             "colorbar": {
              "outlinewidth": 0,
              "ticks": ""
             }
            },
            "type": "parcoords"
           }
          ],
          "pie": [
           {
            "automargin": true,
            "type": "pie"
           }
          ],
          "scatter": [
           {
            "fillpattern": {
             "fillmode": "overlay",
             "size": 10,
             "solidity": 0.2
            },
            "type": "scatter"
           }
          ],
          "scatter3d": [
           {
            "line": {
             "colorbar": {
              "outlinewidth": 0,
              "ticks": ""
             }
            },
            "marker": {
             "colorbar": {
              "outlinewidth": 0,
              "ticks": ""
             }
            },
            "type": "scatter3d"
           }
          ],
          "scattercarpet": [
           {
            "marker": {
             "colorbar": {
              "outlinewidth": 0,
              "ticks": ""
             }
            },
            "type": "scattercarpet"
           }
          ],
          "scattergeo": [
           {
            "marker": {
             "colorbar": {
              "outlinewidth": 0,
              "ticks": ""
             }
            },
            "type": "scattergeo"
           }
          ],
          "scattergl": [
           {
            "marker": {
             "colorbar": {
              "outlinewidth": 0,
              "ticks": ""
             }
            },
            "type": "scattergl"
           }
          ],
          "scattermapbox": [
           {
            "marker": {
             "colorbar": {
              "outlinewidth": 0,
              "ticks": ""
             }
            },
            "type": "scattermapbox"
           }
          ],
          "scatterpolar": [
           {
            "marker": {
             "colorbar": {
              "outlinewidth": 0,
              "ticks": ""
             }
            },
            "type": "scatterpolar"
           }
          ],
          "scatterpolargl": [
           {
            "marker": {
             "colorbar": {
              "outlinewidth": 0,
              "ticks": ""
             }
            },
            "type": "scatterpolargl"
           }
          ],
          "scatterternary": [
           {
            "marker": {
             "colorbar": {
              "outlinewidth": 0,
              "ticks": ""
             }
            },
            "type": "scatterternary"
           }
          ],
          "surface": [
           {
            "colorbar": {
             "outlinewidth": 0,
             "ticks": ""
            },
            "colorscale": [
             [
              0,
              "#0d0887"
             ],
             [
              0.1111111111111111,
              "#46039f"
             ],
             [
              0.2222222222222222,
              "#7201a8"
             ],
             [
              0.3333333333333333,
              "#9c179e"
             ],
             [
              0.4444444444444444,
              "#bd3786"
             ],
             [
              0.5555555555555556,
              "#d8576b"
             ],
             [
              0.6666666666666666,
              "#ed7953"
             ],
             [
              0.7777777777777778,
              "#fb9f3a"
             ],
             [
              0.8888888888888888,
              "#fdca26"
             ],
             [
              1,
              "#f0f921"
             ]
            ],
            "type": "surface"
           }
          ],
          "table": [
           {
            "cells": {
             "fill": {
              "color": "#EBF0F8"
             },
             "line": {
              "color": "white"
             }
            },
            "header": {
             "fill": {
              "color": "#C8D4E3"
             },
             "line": {
              "color": "white"
             }
            },
            "type": "table"
           }
          ]
         },
         "layout": {
          "annotationdefaults": {
           "arrowcolor": "#2a3f5f",
           "arrowhead": 0,
           "arrowwidth": 1
          },
          "autotypenumbers": "strict",
          "coloraxis": {
           "colorbar": {
            "outlinewidth": 0,
            "ticks": ""
           }
          },
          "colorscale": {
           "diverging": [
            [
             0,
             "#8e0152"
            ],
            [
             0.1,
             "#c51b7d"
            ],
            [
             0.2,
             "#de77ae"
            ],
            [
             0.3,
             "#f1b6da"
            ],
            [
             0.4,
             "#fde0ef"
            ],
            [
             0.5,
             "#f7f7f7"
            ],
            [
             0.6,
             "#e6f5d0"
            ],
            [
             0.7,
             "#b8e186"
            ],
            [
             0.8,
             "#7fbc41"
            ],
            [
             0.9,
             "#4d9221"
            ],
            [
             1,
             "#276419"
            ]
           ],
           "sequential": [
            [
             0,
             "#0d0887"
            ],
            [
             0.1111111111111111,
             "#46039f"
            ],
            [
             0.2222222222222222,
             "#7201a8"
            ],
            [
             0.3333333333333333,
             "#9c179e"
            ],
            [
             0.4444444444444444,
             "#bd3786"
            ],
            [
             0.5555555555555556,
             "#d8576b"
            ],
            [
             0.6666666666666666,
             "#ed7953"
            ],
            [
             0.7777777777777778,
             "#fb9f3a"
            ],
            [
             0.8888888888888888,
             "#fdca26"
            ],
            [
             1,
             "#f0f921"
            ]
           ],
           "sequentialminus": [
            [
             0,
             "#0d0887"
            ],
            [
             0.1111111111111111,
             "#46039f"
            ],
            [
             0.2222222222222222,
             "#7201a8"
            ],
            [
             0.3333333333333333,
             "#9c179e"
            ],
            [
             0.4444444444444444,
             "#bd3786"
            ],
            [
             0.5555555555555556,
             "#d8576b"
            ],
            [
             0.6666666666666666,
             "#ed7953"
            ],
            [
             0.7777777777777778,
             "#fb9f3a"
            ],
            [
             0.8888888888888888,
             "#fdca26"
            ],
            [
             1,
             "#f0f921"
            ]
           ]
          },
          "colorway": [
           "#636efa",
           "#EF553B",
           "#00cc96",
           "#ab63fa",
           "#FFA15A",
           "#19d3f3",
           "#FF6692",
           "#B6E880",
           "#FF97FF",
           "#FECB52"
          ],
          "font": {
           "color": "#2a3f5f"
          },
          "geo": {
           "bgcolor": "white",
           "lakecolor": "white",
           "landcolor": "#E5ECF6",
           "showlakes": true,
           "showland": true,
           "subunitcolor": "white"
          },
          "hoverlabel": {
           "align": "left"
          },
          "hovermode": "closest",
          "mapbox": {
           "style": "light"
          },
          "paper_bgcolor": "white",
          "plot_bgcolor": "#E5ECF6",
          "polar": {
           "angularaxis": {
            "gridcolor": "white",
            "linecolor": "white",
            "ticks": ""
           },
           "bgcolor": "#E5ECF6",
           "radialaxis": {
            "gridcolor": "white",
            "linecolor": "white",
            "ticks": ""
           }
          },
          "scene": {
           "xaxis": {
            "backgroundcolor": "#E5ECF6",
            "gridcolor": "white",
            "gridwidth": 2,
            "linecolor": "white",
            "showbackground": true,
            "ticks": "",
            "zerolinecolor": "white"
           },
           "yaxis": {
            "backgroundcolor": "#E5ECF6",
            "gridcolor": "white",
            "gridwidth": 2,
            "linecolor": "white",
            "showbackground": true,
            "ticks": "",
            "zerolinecolor": "white"
           },
           "zaxis": {
            "backgroundcolor": "#E5ECF6",
            "gridcolor": "white",
            "gridwidth": 2,
            "linecolor": "white",
            "showbackground": true,
            "ticks": "",
            "zerolinecolor": "white"
           }
          },
          "shapedefaults": {
           "line": {
            "color": "#2a3f5f"
           }
          },
          "ternary": {
           "aaxis": {
            "gridcolor": "white",
            "linecolor": "white",
            "ticks": ""
           },
           "baxis": {
            "gridcolor": "white",
            "linecolor": "white",
            "ticks": ""
           },
           "bgcolor": "#E5ECF6",
           "caxis": {
            "gridcolor": "white",
            "linecolor": "white",
            "ticks": ""
           }
          },
          "title": {
           "x": 0.05
          },
          "xaxis": {
           "automargin": true,
           "gridcolor": "white",
           "linecolor": "white",
           "ticks": "",
           "title": {
            "standoff": 15
           },
           "zerolinecolor": "white",
           "zerolinewidth": 2
          },
          "yaxis": {
           "automargin": true,
           "gridcolor": "white",
           "linecolor": "white",
           "ticks": "",
           "title": {
            "standoff": 15
           },
           "zerolinecolor": "white",
           "zerolinewidth": 2
          }
         }
        },
        "title": {
         "text": "Number of goals per season"
        },
        "xaxis": {
         "anchor": "y",
         "domain": [
          0,
          1
         ],
         "title": {
          "text": "season"
         }
        },
        "yaxis": {
         "anchor": "x",
         "domain": [
          0,
          1
         ],
         "title": {
          "text": "Total Goals"
         }
        }
       }
      }
     },
     "metadata": {},
     "output_type": "display_data"
    }
   ],
   "source": [
    "import plotly.express as px\n",
    "goals_per_season = df.groupby('season')['home_goals', 'away_goals'].sum().reset_index()\n",
    "goals_per_season['total_goals'] = goals_per_season['home_goals'] + goals_per_season['away_goals']\n",
    "\n",
    "# create a bar chart of goals per season using plotly\n",
    "fig = px.bar(goals_per_season, x='season', y='total_goals',\n",
    "             title='Number of goals per season',\n",
    "             labels={'total_goals': 'Total Goals'},\n",
    "             color='total_goals')\n",
    "fig.show()"
   ]
  },
  {
   "attachments": {},
   "cell_type": "markdown",
   "metadata": {},
   "source": [
    "we can see that on average the premier league sustain the same goals per season with 2019 season being in the lead , the 2023 season is low because its not done yet"
   ]
  },
  {
   "cell_type": "markdown",
   "metadata": {},
   "source": [
    "### Effeciency"
   ]
  },
  {
   "cell_type": "markdown",
   "metadata": {},
   "source": [
    "#### Overall"
   ]
  },
  {
   "cell_type": "code",
   "execution_count": 19,
   "metadata": {},
   "outputs": [],
   "source": [
    "\n",
    "def agg_shots(df):\n",
    "    teams = pd.concat([df['home_team'], df['away_team']]).unique()\n",
    "    shots = {team :{\"shots\":0,\"goals\":0} for team in teams}\n",
    "    for i , row in df.iterrows():\n",
    "        home = row['home_team']\n",
    "        away = row['away_team']\n",
    "        if home in shots :\n",
    "            shots[home][\"shots\"] +=row[\"home_shots\"]\n",
    "            shots[home][\"goals\"] +=row[\"home_goals\"]\n",
    "        else : \n",
    "            shots[home][\"shots\"] = row['home_shots']\n",
    "            shots[home][\"goals\"] =row[\"home_goals\"]\n",
    "        if  away in shots :\n",
    "            shots[away][\"shots\"] +=row[\"away_shots\"]\n",
    "            shots[away][\"goals\"]+=row[\"away_goals\"]\n",
    "        else : \n",
    "            shots[home] = row['away_shots']\n",
    "            shots[away][\"games\"]=row[\"away_goals\"]\n",
    "        \n",
    "    return shots\n",
    "\n",
    "shots  = pd.DataFrame.from_dict(agg_shots(df),orient=\"index\")\n",
    "shots['Goals per Shot'] = shots['goals'] / shots['shots']\n",
    "\n",
    "\n",
    "\n",
    "    "
   ]
  },
  {
   "cell_type": "code",
   "execution_count": 20,
   "metadata": {},
   "outputs": [
    {
     "data": {
      "application/vnd.plotly.v1+json": {
       "config": {
        "plotlyServerURL": "https://plot.ly"
       },
       "data": [
        {
         "hovertemplate": "Goals Scored=%{x}<br>Shots Taken=%{y}<br>Goals per Shot=%{marker.color}<extra></extra>",
         "legendgroup": "",
         "marker": {
          "color": [
           0.09226932668329177,
           0.11608146944895664,
           0.12320998156812704,
           0.1319103009953232,
           0.10301752109020117,
           0.09394572025052192,
           0.10470631156512222,
           0.09704098511303069,
           0.09201877934272301,
           0.11402911960810995,
           0.09154460719041278,
           0.09574155653450808,
           0.12432511308915803,
           0.089755788138281,
           0.08939974457215837,
           0.10375275938189846,
           0.09333333333333334,
           0.10357815442561205,
           0.11066162077515333,
           0.08431372549019608,
           0.07306226175349428,
           0.08050847457627118,
           0.09925397340253,
           0.10941475826972011,
           0.09542933639319182,
           0.09917355371900827,
           0.07904191616766468,
           0.08605577689243028,
           0.12315996074582924,
           0.09419496166484119,
           0.10862354892205639,
           0.09579439252336448,
           0.07692307692307693,
           0.09123505976095618,
           0.0655307994757536,
           0.08779761904761904,
           0.10256410256410256,
           0.1251840942562592,
           0.07725321888412018
          ],
          "coloraxis": "coloraxis",
          "size": [
           0.09226932668329177,
           0.11608146944895664,
           0.12320998156812704,
           0.1319103009953232,
           0.10301752109020117,
           0.09394572025052192,
           0.10470631156512222,
           0.09704098511303069,
           0.09201877934272301,
           0.11402911960810995,
           0.09154460719041278,
           0.09574155653450808,
           0.12432511308915803,
           0.089755788138281,
           0.08939974457215837,
           0.10375275938189846,
           0.09333333333333334,
           0.10357815442561205,
           0.11066162077515333,
           0.08431372549019608,
           0.07306226175349428,
           0.08050847457627118,
           0.09925397340253,
           0.10941475826972011,
           0.09542933639319182,
           0.09917355371900827,
           0.07904191616766468,
           0.08605577689243028,
           0.12315996074582924,
           0.09419496166484119,
           0.10862354892205639,
           0.09579439252336448,
           0.07692307692307693,
           0.09123505976095618,
           0.0655307994757536,
           0.08779761904761904,
           0.10256410256410256,
           0.1251840942562592,
           0.07725321888412018
          ],
          "sizemode": "area",
          "sizeref": 0.00032977575248830797,
          "symbol": "circle"
         },
         "mode": "markers",
         "name": "",
         "orientation": "v",
         "showlegend": false,
         "type": "scatter",
         "x": [
          37,
          929,
          869,
          1100,
          635,
          405,
          574,
          528,
          98,
          838,
          275,
          326,
          852,
          283,
          280,
          94,
          378,
          55,
          848,
          129,
          115,
          209,
          306,
          43,
          499,
          408,
          66,
          108,
          502,
          258,
          262,
          246,
          27,
          229,
          50,
          59,
          132,
          85,
          18
         ],
         "xaxis": "x",
         "y": [
          401,
          8003,
          7053,
          8339,
          6164,
          4311,
          5482,
          5441,
          1065,
          7349,
          3004,
          3405,
          6853,
          3153,
          3132,
          906,
          4050,
          531,
          7663,
          1530,
          1574,
          2596,
          3083,
          393,
          5229,
          4114,
          835,
          1255,
          4076,
          2739,
          2412,
          2568,
          351,
          2510,
          763,
          672,
          1287,
          679,
          233
         ],
         "yaxis": "y"
        }
       ],
       "layout": {
        "annotations": [
         {
          "font": {
           "size": 16
          },
          "showarrow": false,
          "text": "Manchester City",
          "x": 1100,
          "y": 8339
         },
         {
          "font": {
           "size": 16
          },
          "showarrow": false,
          "text": "Brentford",
          "x": 85,
          "y": 679
         },
         {
          "font": {
           "size": 16
          },
          "showarrow": false,
          "text": "Manchester United",
          "x": 852,
          "y": 6853
         },
         {
          "font": {
           "size": 16
          },
          "showarrow": false,
          "text": "Arsenal",
          "x": 869,
          "y": 7053
         },
         {
          "font": {
           "size": 16
          },
          "showarrow": false,
          "text": "Leicester",
          "x": 502,
          "y": 4076
         }
        ],
        "coloraxis": {
         "colorbar": {
          "title": {
           "text": "Goals per Shot"
          }
         },
         "colorscale": [
          [
           0,
           "#0d0887"
          ],
          [
           0.1111111111111111,
           "#46039f"
          ],
          [
           0.2222222222222222,
           "#7201a8"
          ],
          [
           0.3333333333333333,
           "#9c179e"
          ],
          [
           0.4444444444444444,
           "#bd3786"
          ],
          [
           0.5555555555555556,
           "#d8576b"
          ],
          [
           0.6666666666666666,
           "#ed7953"
          ],
          [
           0.7777777777777778,
           "#fb9f3a"
          ],
          [
           0.8888888888888888,
           "#fdca26"
          ],
          [
           1,
           "#f0f921"
          ]
         ]
        },
        "legend": {
         "itemsizing": "constant",
         "tracegroupgap": 0
        },
        "margin": {
         "t": 60
        },
        "template": {
         "data": {
          "bar": [
           {
            "error_x": {
             "color": "#2a3f5f"
            },
            "error_y": {
             "color": "#2a3f5f"
            },
            "marker": {
             "line": {
              "color": "#E5ECF6",
              "width": 0.5
             },
             "pattern": {
              "fillmode": "overlay",
              "size": 10,
              "solidity": 0.2
             }
            },
            "type": "bar"
           }
          ],
          "barpolar": [
           {
            "marker": {
             "line": {
              "color": "#E5ECF6",
              "width": 0.5
             },
             "pattern": {
              "fillmode": "overlay",
              "size": 10,
              "solidity": 0.2
             }
            },
            "type": "barpolar"
           }
          ],
          "carpet": [
           {
            "aaxis": {
             "endlinecolor": "#2a3f5f",
             "gridcolor": "white",
             "linecolor": "white",
             "minorgridcolor": "white",
             "startlinecolor": "#2a3f5f"
            },
            "baxis": {
             "endlinecolor": "#2a3f5f",
             "gridcolor": "white",
             "linecolor": "white",
             "minorgridcolor": "white",
             "startlinecolor": "#2a3f5f"
            },
            "type": "carpet"
           }
          ],
          "choropleth": [
           {
            "colorbar": {
             "outlinewidth": 0,
             "ticks": ""
            },
            "type": "choropleth"
           }
          ],
          "contour": [
           {
            "colorbar": {
             "outlinewidth": 0,
             "ticks": ""
            },
            "colorscale": [
             [
              0,
              "#0d0887"
             ],
             [
              0.1111111111111111,
              "#46039f"
             ],
             [
              0.2222222222222222,
              "#7201a8"
             ],
             [
              0.3333333333333333,
              "#9c179e"
             ],
             [
              0.4444444444444444,
              "#bd3786"
             ],
             [
              0.5555555555555556,
              "#d8576b"
             ],
             [
              0.6666666666666666,
              "#ed7953"
             ],
             [
              0.7777777777777778,
              "#fb9f3a"
             ],
             [
              0.8888888888888888,
              "#fdca26"
             ],
             [
              1,
              "#f0f921"
             ]
            ],
            "type": "contour"
           }
          ],
          "contourcarpet": [
           {
            "colorbar": {
             "outlinewidth": 0,
             "ticks": ""
            },
            "type": "contourcarpet"
           }
          ],
          "heatmap": [
           {
            "colorbar": {
             "outlinewidth": 0,
             "ticks": ""
            },
            "colorscale": [
             [
              0,
              "#0d0887"
             ],
             [
              0.1111111111111111,
              "#46039f"
             ],
             [
              0.2222222222222222,
              "#7201a8"
             ],
             [
              0.3333333333333333,
              "#9c179e"
             ],
             [
              0.4444444444444444,
              "#bd3786"
             ],
             [
              0.5555555555555556,
              "#d8576b"
             ],
             [
              0.6666666666666666,
              "#ed7953"
             ],
             [
              0.7777777777777778,
              "#fb9f3a"
             ],
             [
              0.8888888888888888,
              "#fdca26"
             ],
             [
              1,
              "#f0f921"
             ]
            ],
            "type": "heatmap"
           }
          ],
          "heatmapgl": [
           {
            "colorbar": {
             "outlinewidth": 0,
             "ticks": ""
            },
            "colorscale": [
             [
              0,
              "#0d0887"
             ],
             [
              0.1111111111111111,
              "#46039f"
             ],
             [
              0.2222222222222222,
              "#7201a8"
             ],
             [
              0.3333333333333333,
              "#9c179e"
             ],
             [
              0.4444444444444444,
              "#bd3786"
             ],
             [
              0.5555555555555556,
              "#d8576b"
             ],
             [
              0.6666666666666666,
              "#ed7953"
             ],
             [
              0.7777777777777778,
              "#fb9f3a"
             ],
             [
              0.8888888888888888,
              "#fdca26"
             ],
             [
              1,
              "#f0f921"
             ]
            ],
            "type": "heatmapgl"
           }
          ],
          "histogram": [
           {
            "marker": {
             "pattern": {
              "fillmode": "overlay",
              "size": 10,
              "solidity": 0.2
             }
            },
            "type": "histogram"
           }
          ],
          "histogram2d": [
           {
            "colorbar": {
             "outlinewidth": 0,
             "ticks": ""
            },
            "colorscale": [
             [
              0,
              "#0d0887"
             ],
             [
              0.1111111111111111,
              "#46039f"
             ],
             [
              0.2222222222222222,
              "#7201a8"
             ],
             [
              0.3333333333333333,
              "#9c179e"
             ],
             [
              0.4444444444444444,
              "#bd3786"
             ],
             [
              0.5555555555555556,
              "#d8576b"
             ],
             [
              0.6666666666666666,
              "#ed7953"
             ],
             [
              0.7777777777777778,
              "#fb9f3a"
             ],
             [
              0.8888888888888888,
              "#fdca26"
             ],
             [
              1,
              "#f0f921"
             ]
            ],
            "type": "histogram2d"
           }
          ],
          "histogram2dcontour": [
           {
            "colorbar": {
             "outlinewidth": 0,
             "ticks": ""
            },
            "colorscale": [
             [
              0,
              "#0d0887"
             ],
             [
              0.1111111111111111,
              "#46039f"
             ],
             [
              0.2222222222222222,
              "#7201a8"
             ],
             [
              0.3333333333333333,
              "#9c179e"
             ],
             [
              0.4444444444444444,
              "#bd3786"
             ],
             [
              0.5555555555555556,
              "#d8576b"
             ],
             [
              0.6666666666666666,
              "#ed7953"
             ],
             [
              0.7777777777777778,
              "#fb9f3a"
             ],
             [
              0.8888888888888888,
              "#fdca26"
             ],
             [
              1,
              "#f0f921"
             ]
            ],
            "type": "histogram2dcontour"
           }
          ],
          "mesh3d": [
           {
            "colorbar": {
             "outlinewidth": 0,
             "ticks": ""
            },
            "type": "mesh3d"
           }
          ],
          "parcoords": [
           {
            "line": {
             "colorbar": {
              "outlinewidth": 0,
              "ticks": ""
             }
            },
            "type": "parcoords"
           }
          ],
          "pie": [
           {
            "automargin": true,
            "type": "pie"
           }
          ],
          "scatter": [
           {
            "fillpattern": {
             "fillmode": "overlay",
             "size": 10,
             "solidity": 0.2
            },
            "type": "scatter"
           }
          ],
          "scatter3d": [
           {
            "line": {
             "colorbar": {
              "outlinewidth": 0,
              "ticks": ""
             }
            },
            "marker": {
             "colorbar": {
              "outlinewidth": 0,
              "ticks": ""
             }
            },
            "type": "scatter3d"
           }
          ],
          "scattercarpet": [
           {
            "marker": {
             "colorbar": {
              "outlinewidth": 0,
              "ticks": ""
             }
            },
            "type": "scattercarpet"
           }
          ],
          "scattergeo": [
           {
            "marker": {
             "colorbar": {
              "outlinewidth": 0,
              "ticks": ""
             }
            },
            "type": "scattergeo"
           }
          ],
          "scattergl": [
           {
            "marker": {
             "colorbar": {
              "outlinewidth": 0,
              "ticks": ""
             }
            },
            "type": "scattergl"
           }
          ],
          "scattermapbox": [
           {
            "marker": {
             "colorbar": {
              "outlinewidth": 0,
              "ticks": ""
             }
            },
            "type": "scattermapbox"
           }
          ],
          "scatterpolar": [
           {
            "marker": {
             "colorbar": {
              "outlinewidth": 0,
              "ticks": ""
             }
            },
            "type": "scatterpolar"
           }
          ],
          "scatterpolargl": [
           {
            "marker": {
             "colorbar": {
              "outlinewidth": 0,
              "ticks": ""
             }
            },
            "type": "scatterpolargl"
           }
          ],
          "scatterternary": [
           {
            "marker": {
             "colorbar": {
              "outlinewidth": 0,
              "ticks": ""
             }
            },
            "type": "scatterternary"
           }
          ],
          "surface": [
           {
            "colorbar": {
             "outlinewidth": 0,
             "ticks": ""
            },
            "colorscale": [
             [
              0,
              "#0d0887"
             ],
             [
              0.1111111111111111,
              "#46039f"
             ],
             [
              0.2222222222222222,
              "#7201a8"
             ],
             [
              0.3333333333333333,
              "#9c179e"
             ],
             [
              0.4444444444444444,
              "#bd3786"
             ],
             [
              0.5555555555555556,
              "#d8576b"
             ],
             [
              0.6666666666666666,
              "#ed7953"
             ],
             [
              0.7777777777777778,
              "#fb9f3a"
             ],
             [
              0.8888888888888888,
              "#fdca26"
             ],
             [
              1,
              "#f0f921"
             ]
            ],
            "type": "surface"
           }
          ],
          "table": [
           {
            "cells": {
             "fill": {
              "color": "#EBF0F8"
             },
             "line": {
              "color": "white"
             }
            },
            "header": {
             "fill": {
              "color": "#C8D4E3"
             },
             "line": {
              "color": "white"
             }
            },
            "type": "table"
           }
          ]
         },
         "layout": {
          "annotationdefaults": {
           "arrowcolor": "#2a3f5f",
           "arrowhead": 0,
           "arrowwidth": 1
          },
          "autotypenumbers": "strict",
          "coloraxis": {
           "colorbar": {
            "outlinewidth": 0,
            "ticks": ""
           }
          },
          "colorscale": {
           "diverging": [
            [
             0,
             "#8e0152"
            ],
            [
             0.1,
             "#c51b7d"
            ],
            [
             0.2,
             "#de77ae"
            ],
            [
             0.3,
             "#f1b6da"
            ],
            [
             0.4,
             "#fde0ef"
            ],
            [
             0.5,
             "#f7f7f7"
            ],
            [
             0.6,
             "#e6f5d0"
            ],
            [
             0.7,
             "#b8e186"
            ],
            [
             0.8,
             "#7fbc41"
            ],
            [
             0.9,
             "#4d9221"
            ],
            [
             1,
             "#276419"
            ]
           ],
           "sequential": [
            [
             0,
             "#0d0887"
            ],
            [
             0.1111111111111111,
             "#46039f"
            ],
            [
             0.2222222222222222,
             "#7201a8"
            ],
            [
             0.3333333333333333,
             "#9c179e"
            ],
            [
             0.4444444444444444,
             "#bd3786"
            ],
            [
             0.5555555555555556,
             "#d8576b"
            ],
            [
             0.6666666666666666,
             "#ed7953"
            ],
            [
             0.7777777777777778,
             "#fb9f3a"
            ],
            [
             0.8888888888888888,
             "#fdca26"
            ],
            [
             1,
             "#f0f921"
            ]
           ],
           "sequentialminus": [
            [
             0,
             "#0d0887"
            ],
            [
             0.1111111111111111,
             "#46039f"
            ],
            [
             0.2222222222222222,
             "#7201a8"
            ],
            [
             0.3333333333333333,
             "#9c179e"
            ],
            [
             0.4444444444444444,
             "#bd3786"
            ],
            [
             0.5555555555555556,
             "#d8576b"
            ],
            [
             0.6666666666666666,
             "#ed7953"
            ],
            [
             0.7777777777777778,
             "#fb9f3a"
            ],
            [
             0.8888888888888888,
             "#fdca26"
            ],
            [
             1,
             "#f0f921"
            ]
           ]
          },
          "colorway": [
           "#636efa",
           "#EF553B",
           "#00cc96",
           "#ab63fa",
           "#FFA15A",
           "#19d3f3",
           "#FF6692",
           "#B6E880",
           "#FF97FF",
           "#FECB52"
          ],
          "font": {
           "color": "#2a3f5f"
          },
          "geo": {
           "bgcolor": "white",
           "lakecolor": "white",
           "landcolor": "#E5ECF6",
           "showlakes": true,
           "showland": true,
           "subunitcolor": "white"
          },
          "hoverlabel": {
           "align": "left"
          },
          "hovermode": "closest",
          "mapbox": {
           "style": "light"
          },
          "paper_bgcolor": "white",
          "plot_bgcolor": "#E5ECF6",
          "polar": {
           "angularaxis": {
            "gridcolor": "white",
            "linecolor": "white",
            "ticks": ""
           },
           "bgcolor": "#E5ECF6",
           "radialaxis": {
            "gridcolor": "white",
            "linecolor": "white",
            "ticks": ""
           }
          },
          "scene": {
           "xaxis": {
            "backgroundcolor": "#E5ECF6",
            "gridcolor": "white",
            "gridwidth": 2,
            "linecolor": "white",
            "showbackground": true,
            "ticks": "",
            "zerolinecolor": "white"
           },
           "yaxis": {
            "backgroundcolor": "#E5ECF6",
            "gridcolor": "white",
            "gridwidth": 2,
            "linecolor": "white",
            "showbackground": true,
            "ticks": "",
            "zerolinecolor": "white"
           },
           "zaxis": {
            "backgroundcolor": "#E5ECF6",
            "gridcolor": "white",
            "gridwidth": 2,
            "linecolor": "white",
            "showbackground": true,
            "ticks": "",
            "zerolinecolor": "white"
           }
          },
          "shapedefaults": {
           "line": {
            "color": "#2a3f5f"
           }
          },
          "ternary": {
           "aaxis": {
            "gridcolor": "white",
            "linecolor": "white",
            "ticks": ""
           },
           "baxis": {
            "gridcolor": "white",
            "linecolor": "white",
            "ticks": ""
           },
           "bgcolor": "#E5ECF6",
           "caxis": {
            "gridcolor": "white",
            "linecolor": "white",
            "ticks": ""
           }
          },
          "title": {
           "x": 0.05
          },
          "xaxis": {
           "automargin": true,
           "gridcolor": "white",
           "linecolor": "white",
           "ticks": "",
           "title": {
            "standoff": 15
           },
           "zerolinecolor": "white",
           "zerolinewidth": 2
          },
          "yaxis": {
           "automargin": true,
           "gridcolor": "white",
           "linecolor": "white",
           "ticks": "",
           "title": {
            "standoff": 15
           },
           "zerolinecolor": "white",
           "zerolinewidth": 2
          }
         }
        },
        "xaxis": {
         "anchor": "y",
         "domain": [
          0,
          1
         ],
         "title": {
          "text": "Goals Scored"
         }
        },
        "yaxis": {
         "anchor": "x",
         "domain": [
          0,
          1
         ],
         "title": {
          "text": "Shots Taken"
         }
        }
       }
      }
     },
     "metadata": {},
     "output_type": "display_data"
    }
   ],
   "source": [
    "\n",
    "# Create scatter plot\n",
    "fig = px.scatter(shots, x='goals', y='shots', color='Goals per Shot', size='Goals per Shot', labels={'goals': 'Goals Scored', 'shots': 'Shots Taken'})\n",
    "\n",
    "# Set axis labels\n",
    "shots = shots.sort_values(\"Goals per Shot\",ascending=False) \n",
    "fig.update_xaxes(title_text='Goals Scored')\n",
    "fig.update_yaxes(title_text='Shots Taken')\n",
    "top_teams = shots.index[:5]  \n",
    "top_shots = shots.loc[top_teams]\n",
    "for i, team in enumerate(top_teams):\n",
    "    fig.add_annotation(x=top_shots.loc[team, 'goals'], y=top_shots.loc[team, 'shots'],\n",
    "                       text=team, showarrow=False, font=dict(size=16))\n",
    "\n",
    "# Show plot\n",
    "fig.show()"
   ]
  },
  {
   "attachments": {},
   "cell_type": "markdown",
   "metadata": {},
   "source": [
    "we can see that man city and Manchester City has the highest Goals per shot with a high number of goals, which explains why it was winning so many titles in recent years , surprisingly Brentford is in the top 5 which shows that its efficient even though it does not score a lot of goals"
   ]
  },
  {
   "attachments": {},
   "cell_type": "markdown",
   "metadata": {},
   "source": [
    "### Per season"
   ]
  },
  {
   "cell_type": "code",
   "execution_count": 21,
   "metadata": {},
   "outputs": [],
   "source": [
    "def scatter(df,i):\n",
    "    shots  = pd.DataFrame.from_dict(agg_shots(df),orient=\"index\")\n",
    "    shots['Goals per Shot'] = shots['goals'] / shots['shots']\n",
    "    shots[\"season\"] = i+2011\n",
    "    return shots\n",
    "dfs  = [scatter(df,i) for i, df in enumerate(df_list)]"
   ]
  },
  {
   "cell_type": "code",
   "execution_count": 22,
   "metadata": {},
   "outputs": [
    {
     "data": {
      "application/vnd.plotly.v1+json": {
       "config": {
        "plotlyServerURL": "https://plot.ly"
       },
       "data": [
        {
         "mode": "markers",
         "name": "2011",
         "type": "scatter",
         "x": [
          "Birmingham",
          "Liverpool",
          "Arsenal",
          "Manchester City",
          "Everton",
          "Aston Villa",
          "West Ham",
          "Newcastle",
          "Bolton",
          "Tottenham",
          "Wolverhampton",
          "Stoke",
          "Manchester United",
          "Fulham",
          "Sunderland",
          "Blackburn",
          "West Bromwich",
          "Blackpool",
          "Chelsea",
          "Wigan"
         ],
         "y": [
          0.09226932668329177,
          0.1013745704467354,
          0.11009174311926606,
          0.10989010989010989,
          0.08793103448275862,
          0.09486166007905138,
          0.07517482517482517,
          0.11045364891518737,
          0.0912280701754386,
          0.0837138508371385,
          0.10021786492374728,
          0.0954356846473029,
          0.1262135922330097,
          0.08957952468007313,
          0.08458646616541353,
          0.10154525386313466,
          0.09380234505862646,
          0.10357815442561205,
          0.09261744966442953,
          0.07827788649706457
         ]
        },
        {
         "mode": "markers",
         "name": "2012",
         "type": "scatter",
         "x": [
          "Liverpool",
          "Stoke",
          "Chelsea",
          "Bolton",
          "Arsenal",
          "Newcastle",
          "Queens Park Rangers",
          "Wolverhampton",
          "Aston Villa",
          "Fulham",
          "Manchester United",
          "Blackburn",
          "Everton",
          "Manchester City",
          "Norwich",
          "Sunderland",
          "Swansea",
          "Tottenham",
          "West Bromwich",
          "Wigan"
         ],
         "y": [
          0.0704647676161919,
          0.09574468085106383,
          0.09687034277198212,
          0.09292929292929293,
          0.11616954474097331,
          0.11451942740286299,
          0.07977736549165121,
          0.08456659619450317,
          0.08447488584474885,
          0.08872458410351201,
          0.13777089783281735,
          0.10596026490066225,
          0.09615384615384616,
          0.12601626016260162,
          0.10116731517509728,
          0.0982532751091703,
          0.09322033898305085,
          0.09415121255349501,
          0.08272058823529412,
          0.08092485549132948
         ]
        },
        {
         "mode": "markers",
         "name": "2013",
         "type": "scatter",
         "x": [
          "West Bromwich",
          "Norwich",
          "West Ham",
          "Fulham",
          "Swansea",
          "Tottenham",
          "Queens Park Rangers",
          "Liverpool",
          "Manchester United",
          "Sunderland",
          "Manchester City",
          "Wigan",
          "Chelsea",
          "Aston Villa",
          "Stoke",
          "Everton",
          "Arsenal",
          "Reading",
          "Newcastle",
          "Southampton"
         ],
         "y": [
          0.10474308300395258,
          0.09927360774818401,
          0.09127789046653144,
          0.10869565217391304,
          0.09306930693069307,
          0.09691629955947137,
          0.06,
          0.09607577807848444,
          0.15357142857142858,
          0.09832134292565947,
          0.10015174506828528,
          0.094,
          0.11961722488038277,
          0.10730593607305935,
          0.08717948717948718,
          0.08688783570300158,
          0.12040133779264214,
          0.10941475826972011,
          0.08458646616541353,
          0.09496124031007752
         ]
        },
        {
         "mode": "markers",
         "name": "2014",
         "type": "scatter",
         "x": [
          "West Ham",
          "Manchester United",
          "Newcastle",
          "Stoke",
          "Swansea",
          "Aston Villa",
          "Everton",
          "Arsenal",
          "Chelsea",
          "Crystal Palace",
          "Sunderland",
          "Manchester City",
          "Cardiff",
          "Fulham",
          "Hull",
          "Liverpool",
          "Tottenham",
          "Norwich",
          "West Bromwich",
          "Southampton"
         ],
         "y": [
          0.0947867298578199,
          0.12167300380228137,
          0.07426597582037997,
          0.10514018691588785,
          0.10909090909090909,
          0.09048723897911833,
          0.10873440285204991,
          0.13001912045889102,
          0.10260115606936417,
          0.07971014492753623,
          0.0835030549898167,
          0.1515601783060921,
          0.07655502392344497,
          0.09280742459396751,
          0.08857808857808858,
          0.15514592933947774,
          0.09369676320272573,
          0.059957173447537475,
          0.08847736625514403,
          0.10112359550561797
         ]
        },
        {
         "mode": "markers",
         "name": "2015",
         "type": "scatter",
         "x": [
          "Leicester",
          "Liverpool",
          "Aston Villa",
          "Sunderland",
          "Swansea",
          "West Ham",
          "Manchester United",
          "Chelsea",
          "Tottenham",
          "Hull",
          "Everton",
          "Newcastle",
          "Stoke",
          "Crystal Palace",
          "Manchester City",
          "Arsenal",
          "Southampton",
          "Queens Park Rangers",
          "Burnley",
          "West Bromwich"
         ],
         "y": [
          0.10065645514223195,
          0.08813559322033898,
          0.07434052757793765,
          0.07598039215686274,
          0.107981220657277,
          0.08997955010224949,
          0.12085769980506822,
          0.12943262411347517,
          0.11005692599620494,
          0.07692307692307693,
          0.09937888198757763,
          0.08547008547008547,
          0.09561752988047809,
          0.10633484162895927,
          0.12388059701492538,
          0.11639344262295082,
          0.10588235294117647,
          0.07850467289719626,
          0.06511627906976744,
          0.09245742092457421
         ]
        },
        {
         "mode": "markers",
         "name": "2016",
         "type": "scatter",
         "x": [
          "Swansea",
          "Manchester United",
          "Southampton",
          "Chelsea",
          "Norwich",
          "Crystal Palace",
          "West Ham",
          "Aston Villa",
          "Bournemouth",
          "Sunderland",
          "Leicester",
          "Tottenham",
          "Liverpool",
          "Manchester City",
          "Arsenal",
          "Everton",
          "Newcastle",
          "Stoke",
          "Watford",
          "West Bromwich"
         ],
         "y": [
          0.09523809523809523,
          0.11395348837209303,
          0.11368015414258188,
          0.11216730038022814,
          0.09330143540669857,
          0.08315565031982942,
          0.11648745519713262,
          0.07105263157894737,
          0.09698275862068965,
          0.10933940774487472,
          0.13026819923371646,
          0.10486322188449848,
          0.10015898251192369,
          0.11544715447154472,
          0.11363636363636363,
          0.12016293279022404,
          0.11083123425692695,
          0.09808612440191387,
          0.08968609865470852,
          0.08740359897172237
         ]
        },
        {
         "mode": "markers",
         "name": "2017",
         "type": "scatter",
         "x": [
          "Watford",
          "West Ham",
          "Manchester City",
          "Bournemouth",
          "Burnley",
          "Hull",
          "Leicester",
          "Swansea",
          "Liverpool",
          "Arsenal",
          "Chelsea",
          "Southampton",
          "Everton",
          "West Bromwich",
          "Middlesbrough",
          "Sunderland",
          "Stoke",
          "Crystal Palace",
          "Tottenham",
          "Manchester United"
         ],
         "y": [
          0.0947867298578199,
          0.09418837675350701,
          0.1263823064770932,
          0.12141280353200883,
          0.09948979591836735,
          0.09319899244332494,
          0.11085450346420324,
          0.11083743842364532,
          0.121875,
          0.13604240282685512,
          0.14655172413793102,
          0.07454545454545454,
          0.12350597609561753,
          0.1075,
          0.07692307692307693,
          0.07493540051679587,
          0.09647058823529411,
          0.11389521640091116,
          0.12855007473841554,
          0.09137055837563451
         ]
        },
        {
         "mode": "markers",
         "name": "2018",
         "type": "scatter",
         "x": [
          "Brighton",
          "Stoke",
          "Watford",
          "West Bromwich",
          "Leicester",
          "Bournemouth",
          "Everton",
          "Manchester City",
          "Arsenal",
          "Chelsea",
          "Swansea",
          "Tottenham",
          "West Ham",
          "Newcastle",
          "Southampton",
          "Burnley",
          "Crystal Palace",
          "Huddersfield",
          "Liverpool",
          "Manchester United"
         ],
         "y": [
          0.08854166666666667,
          0.09114583333333333,
          0.1,
          0.082010582010582,
          0.13238770685579196,
          0.0967741935483871,
          0.12256267409470752,
          0.1593984962406015,
          0.12457912457912458,
          0.10231023102310231,
          0.08284023668639054,
          0.1187800963081862,
          0.12903225806451613,
          0.08647450110864745,
          0.08222222222222222,
          0.09523809523809523,
          0.09453781512605042,
          0.07734806629834254,
          0.13166144200626959,
          0.1328125
         ]
        },
        {
         "mode": "markers",
         "name": "2019",
         "type": "scatter",
         "x": [
          "Everton",
          "Bournemouth",
          "Wolverhampton",
          "West Ham",
          "Cardiff",
          "Newcastle",
          "Huddersfield",
          "Chelsea",
          "Arsenal",
          "Manchester City",
          "Watford",
          "Tottenham",
          "Southampton",
          "Manchester United",
          "Liverpool",
          "Leicester",
          "Fulham",
          "Crystal Palace",
          "Burnley",
          "Brighton"
         ],
         "y": [
          0.10843373493975904,
          0.12556053811659193,
          0.09853249475890985,
          0.11791383219954649,
          0.0815347721822542,
          0.09417040358744394,
          0.05486284289276808,
          0.10378912685337727,
          0.15631691648822268,
          0.1390922401171303,
          0.11899313501144165,
          0.12476722532588454,
          0.09297520661157024,
          0.12357414448669202,
          0.15478260869565216,
          0.09902912621359224,
          0.07488986784140969,
          0.10344827586206896,
          0.125,
          0.09433962264150944
         ]
        },
        {
         "mode": "markers",
         "name": "2020",
         "type": "scatter",
         "x": [
          "Everton",
          "Arsenal",
          "Bournemouth",
          "West Ham",
          "Sheffield United",
          "Manchester City",
          "Norwich",
          "Manchester United",
          "Leicester",
          "Wolverhampton",
          "Chelsea",
          "Burnley",
          "Newcastle",
          "Liverpool",
          "Southampton",
          "Tottenham",
          "Crystal Palace",
          "Watford",
          "Brighton",
          "Aston Villa"
         ],
         "y": [
          0.09381663113006397,
          0.13725490196078433,
          0.10282776349614396,
          0.11666666666666667,
          0.11174785100286533,
          0.13672922252010725,
          0.06326034063260341,
          0.12021857923497267,
          0.122040072859745,
          0.11062906724511931,
          0.11057692307692307,
          0.11082474226804123,
          0.09523809523809523,
          0.14382402707275804,
          0.1028225806451613,
          0.1373873873873874,
          0.08244680851063829,
          0.08490566037735849,
          0.08441558441558442,
          0.08991228070175439
         ]
        },
        {
         "mode": "markers",
         "name": "2021",
         "type": "scatter",
         "x": [
          "Burnley",
          "Manchester City",
          "West Ham",
          "Chelsea",
          "West Bromwich",
          "Sheffield United",
          "Tottenham",
          "Liverpool",
          "Brighton",
          "Leeds",
          "Wolverhampton",
          "Newcastle",
          "Manchester United",
          "Everton",
          "Southampton",
          "Crystal Palace",
          "Fulham",
          "Leicester",
          "Arsenal",
          "Aston Villa"
         ],
         "y": [
          0.0859375,
          0.13856427378964942,
          0.13247863247863248,
          0.10431654676258993,
          0.10324483775811209,
          0.06191950464396285,
          0.15349887133182843,
          0.1118421052631579,
          0.08213552361396304,
          0.11877394636015326,
          0.07775377969762419,
          0.11586901763224182,
          0.13878326996197718,
          0.1175,
          0.11084905660377359,
          0.1174785100286533,
          0.06108597285067873,
          0.1402061855670103,
          0.11982570806100218,
          0.10576923076923077
         ]
        },
        {
         "mode": "markers",
         "name": "2022",
         "type": "scatter",
         "x": [
          "Everton",
          "Tottenham",
          "West Ham",
          "Manchester United",
          "Crystal Palace",
          "Chelsea",
          "Burnley",
          "Brentford",
          "Brighton",
          "Liverpool",
          "Leicester",
          "Norwich",
          "Arsenal",
          "Manchester City",
          "Aston Villa",
          "Leeds",
          "Watford",
          "Wolverhampton",
          "Newcastle",
          "Southampton"
         ],
         "y": [
          0.09839816933638444,
          0.14052953156822812,
          0.133630289532294,
          0.11220472440944881,
          0.12135922330097088,
          0.12837837837837837,
          0.08353808353808354,
          0.1085972850678733,
          0.08588957055214724,
          0.1289437585733882,
          0.1425287356321839,
          0.06166219839142091,
          0.1035653650254669,
          0.1388499298737728,
          0.11206896551724138,
          0.0865979381443299,
          0.08521303258145363,
          0.0945273631840796,
          0.09799554565701558,
          0.08921161825726141
         ]
        },
        {
         "mode": "markers",
         "name": "2023",
         "type": "scatter",
         "x": [
          "Chelsea",
          "Everton",
          "Manchester United",
          "Aston Villa",
          "Brentford",
          "Brighton",
          "Wolverhampton",
          "Newcastle",
          "Nottingham Forest",
          "Tottenham",
          "West Ham",
          "Arsenal",
          "Crystal Palace",
          "Fulham",
          "Leicester",
          "Southampton",
          "Bournemouth",
          "Leeds",
          "Manchester City",
          "Liverpool"
         ],
         "y": [
          0.08424908424908426,
          0.0735930735930736,
          0.11781609195402298,
          0.10727969348659004,
          0.15611814345991562,
          0.12302839116719243,
          0.06319702602230483,
          0.10703363914373089,
          0.07725321888412018,
          0.13293051359516617,
          0.06354515050167224,
          0.1356382978723404,
          0.0860655737704918,
          0.12589928057553956,
          0.14007782101167315,
          0.07196969696969698,
          0.1076923076923077,
          0.1,
          0.15037593984962405,
          0.1043956043956044
         ]
        }
       ],
       "layout": {
        "height": 600,
        "template": {
         "data": {
          "bar": [
           {
            "error_x": {
             "color": "#2a3f5f"
            },
            "error_y": {
             "color": "#2a3f5f"
            },
            "marker": {
             "line": {
              "color": "#E5ECF6",
              "width": 0.5
             },
             "pattern": {
              "fillmode": "overlay",
              "size": 10,
              "solidity": 0.2
             }
            },
            "type": "bar"
           }
          ],
          "barpolar": [
           {
            "marker": {
             "line": {
              "color": "#E5ECF6",
              "width": 0.5
             },
             "pattern": {
              "fillmode": "overlay",
              "size": 10,
              "solidity": 0.2
             }
            },
            "type": "barpolar"
           }
          ],
          "carpet": [
           {
            "aaxis": {
             "endlinecolor": "#2a3f5f",
             "gridcolor": "white",
             "linecolor": "white",
             "minorgridcolor": "white",
             "startlinecolor": "#2a3f5f"
            },
            "baxis": {
             "endlinecolor": "#2a3f5f",
             "gridcolor": "white",
             "linecolor": "white",
             "minorgridcolor": "white",
             "startlinecolor": "#2a3f5f"
            },
            "type": "carpet"
           }
          ],
          "choropleth": [
           {
            "colorbar": {
             "outlinewidth": 0,
             "ticks": ""
            },
            "type": "choropleth"
           }
          ],
          "contour": [
           {
            "colorbar": {
             "outlinewidth": 0,
             "ticks": ""
            },
            "colorscale": [
             [
              0,
              "#0d0887"
             ],
             [
              0.1111111111111111,
              "#46039f"
             ],
             [
              0.2222222222222222,
              "#7201a8"
             ],
             [
              0.3333333333333333,
              "#9c179e"
             ],
             [
              0.4444444444444444,
              "#bd3786"
             ],
             [
              0.5555555555555556,
              "#d8576b"
             ],
             [
              0.6666666666666666,
              "#ed7953"
             ],
             [
              0.7777777777777778,
              "#fb9f3a"
             ],
             [
              0.8888888888888888,
              "#fdca26"
             ],
             [
              1,
              "#f0f921"
             ]
            ],
            "type": "contour"
           }
          ],
          "contourcarpet": [
           {
            "colorbar": {
             "outlinewidth": 0,
             "ticks": ""
            },
            "type": "contourcarpet"
           }
          ],
          "heatmap": [
           {
            "colorbar": {
             "outlinewidth": 0,
             "ticks": ""
            },
            "colorscale": [
             [
              0,
              "#0d0887"
             ],
             [
              0.1111111111111111,
              "#46039f"
             ],
             [
              0.2222222222222222,
              "#7201a8"
             ],
             [
              0.3333333333333333,
              "#9c179e"
             ],
             [
              0.4444444444444444,
              "#bd3786"
             ],
             [
              0.5555555555555556,
              "#d8576b"
             ],
             [
              0.6666666666666666,
              "#ed7953"
             ],
             [
              0.7777777777777778,
              "#fb9f3a"
             ],
             [
              0.8888888888888888,
              "#fdca26"
             ],
             [
              1,
              "#f0f921"
             ]
            ],
            "type": "heatmap"
           }
          ],
          "heatmapgl": [
           {
            "colorbar": {
             "outlinewidth": 0,
             "ticks": ""
            },
            "colorscale": [
             [
              0,
              "#0d0887"
             ],
             [
              0.1111111111111111,
              "#46039f"
             ],
             [
              0.2222222222222222,
              "#7201a8"
             ],
             [
              0.3333333333333333,
              "#9c179e"
             ],
             [
              0.4444444444444444,
              "#bd3786"
             ],
             [
              0.5555555555555556,
              "#d8576b"
             ],
             [
              0.6666666666666666,
              "#ed7953"
             ],
             [
              0.7777777777777778,
              "#fb9f3a"
             ],
             [
              0.8888888888888888,
              "#fdca26"
             ],
             [
              1,
              "#f0f921"
             ]
            ],
            "type": "heatmapgl"
           }
          ],
          "histogram": [
           {
            "marker": {
             "pattern": {
              "fillmode": "overlay",
              "size": 10,
              "solidity": 0.2
             }
            },
            "type": "histogram"
           }
          ],
          "histogram2d": [
           {
            "colorbar": {
             "outlinewidth": 0,
             "ticks": ""
            },
            "colorscale": [
             [
              0,
              "#0d0887"
             ],
             [
              0.1111111111111111,
              "#46039f"
             ],
             [
              0.2222222222222222,
              "#7201a8"
             ],
             [
              0.3333333333333333,
              "#9c179e"
             ],
             [
              0.4444444444444444,
              "#bd3786"
             ],
             [
              0.5555555555555556,
              "#d8576b"
             ],
             [
              0.6666666666666666,
              "#ed7953"
             ],
             [
              0.7777777777777778,
              "#fb9f3a"
             ],
             [
              0.8888888888888888,
              "#fdca26"
             ],
             [
              1,
              "#f0f921"
             ]
            ],
            "type": "histogram2d"
           }
          ],
          "histogram2dcontour": [
           {
            "colorbar": {
             "outlinewidth": 0,
             "ticks": ""
            },
            "colorscale": [
             [
              0,
              "#0d0887"
             ],
             [
              0.1111111111111111,
              "#46039f"
             ],
             [
              0.2222222222222222,
              "#7201a8"
             ],
             [
              0.3333333333333333,
              "#9c179e"
             ],
             [
              0.4444444444444444,
              "#bd3786"
             ],
             [
              0.5555555555555556,
              "#d8576b"
             ],
             [
              0.6666666666666666,
              "#ed7953"
             ],
             [
              0.7777777777777778,
              "#fb9f3a"
             ],
             [
              0.8888888888888888,
              "#fdca26"
             ],
             [
              1,
              "#f0f921"
             ]
            ],
            "type": "histogram2dcontour"
           }
          ],
          "mesh3d": [
           {
            "colorbar": {
             "outlinewidth": 0,
             "ticks": ""
            },
            "type": "mesh3d"
           }
          ],
          "parcoords": [
           {
            "line": {
             "colorbar": {
              "outlinewidth": 0,
              "ticks": ""
             }
            },
            "type": "parcoords"
           }
          ],
          "pie": [
           {
            "automargin": true,
            "type": "pie"
           }
          ],
          "scatter": [
           {
            "fillpattern": {
             "fillmode": "overlay",
             "size": 10,
             "solidity": 0.2
            },
            "type": "scatter"
           }
          ],
          "scatter3d": [
           {
            "line": {
             "colorbar": {
              "outlinewidth": 0,
              "ticks": ""
             }
            },
            "marker": {
             "colorbar": {
              "outlinewidth": 0,
              "ticks": ""
             }
            },
            "type": "scatter3d"
           }
          ],
          "scattercarpet": [
           {
            "marker": {
             "colorbar": {
              "outlinewidth": 0,
              "ticks": ""
             }
            },
            "type": "scattercarpet"
           }
          ],
          "scattergeo": [
           {
            "marker": {
             "colorbar": {
              "outlinewidth": 0,
              "ticks": ""
             }
            },
            "type": "scattergeo"
           }
          ],
          "scattergl": [
           {
            "marker": {
             "colorbar": {
              "outlinewidth": 0,
              "ticks": ""
             }
            },
            "type": "scattergl"
           }
          ],
          "scattermapbox": [
           {
            "marker": {
             "colorbar": {
              "outlinewidth": 0,
              "ticks": ""
             }
            },
            "type": "scattermapbox"
           }
          ],
          "scatterpolar": [
           {
            "marker": {
             "colorbar": {
              "outlinewidth": 0,
              "ticks": ""
             }
            },
            "type": "scatterpolar"
           }
          ],
          "scatterpolargl": [
           {
            "marker": {
             "colorbar": {
              "outlinewidth": 0,
              "ticks": ""
             }
            },
            "type": "scatterpolargl"
           }
          ],
          "scatterternary": [
           {
            "marker": {
             "colorbar": {
              "outlinewidth": 0,
              "ticks": ""
             }
            },
            "type": "scatterternary"
           }
          ],
          "surface": [
           {
            "colorbar": {
             "outlinewidth": 0,
             "ticks": ""
            },
            "colorscale": [
             [
              0,
              "#0d0887"
             ],
             [
              0.1111111111111111,
              "#46039f"
             ],
             [
              0.2222222222222222,
              "#7201a8"
             ],
             [
              0.3333333333333333,
              "#9c179e"
             ],
             [
              0.4444444444444444,
              "#bd3786"
             ],
             [
              0.5555555555555556,
              "#d8576b"
             ],
             [
              0.6666666666666666,
              "#ed7953"
             ],
             [
              0.7777777777777778,
              "#fb9f3a"
             ],
             [
              0.8888888888888888,
              "#fdca26"
             ],
             [
              1,
              "#f0f921"
             ]
            ],
            "type": "surface"
           }
          ],
          "table": [
           {
            "cells": {
             "fill": {
              "color": "#EBF0F8"
             },
             "line": {
              "color": "white"
             }
            },
            "header": {
             "fill": {
              "color": "#C8D4E3"
             },
             "line": {
              "color": "white"
             }
            },
            "type": "table"
           }
          ]
         },
         "layout": {
          "annotationdefaults": {
           "arrowcolor": "#2a3f5f",
           "arrowhead": 0,
           "arrowwidth": 1
          },
          "autotypenumbers": "strict",
          "coloraxis": {
           "colorbar": {
            "outlinewidth": 0,
            "ticks": ""
           }
          },
          "colorscale": {
           "diverging": [
            [
             0,
             "#8e0152"
            ],
            [
             0.1,
             "#c51b7d"
            ],
            [
             0.2,
             "#de77ae"
            ],
            [
             0.3,
             "#f1b6da"
            ],
            [
             0.4,
             "#fde0ef"
            ],
            [
             0.5,
             "#f7f7f7"
            ],
            [
             0.6,
             "#e6f5d0"
            ],
            [
             0.7,
             "#b8e186"
            ],
            [
             0.8,
             "#7fbc41"
            ],
            [
             0.9,
             "#4d9221"
            ],
            [
             1,
             "#276419"
            ]
           ],
           "sequential": [
            [
             0,
             "#0d0887"
            ],
            [
             0.1111111111111111,
             "#46039f"
            ],
            [
             0.2222222222222222,
             "#7201a8"
            ],
            [
             0.3333333333333333,
             "#9c179e"
            ],
            [
             0.4444444444444444,
             "#bd3786"
            ],
            [
             0.5555555555555556,
             "#d8576b"
            ],
            [
             0.6666666666666666,
             "#ed7953"
            ],
            [
             0.7777777777777778,
             "#fb9f3a"
            ],
            [
             0.8888888888888888,
             "#fdca26"
            ],
            [
             1,
             "#f0f921"
            ]
           ],
           "sequentialminus": [
            [
             0,
             "#0d0887"
            ],
            [
             0.1111111111111111,
             "#46039f"
            ],
            [
             0.2222222222222222,
             "#7201a8"
            ],
            [
             0.3333333333333333,
             "#9c179e"
            ],
            [
             0.4444444444444444,
             "#bd3786"
            ],
            [
             0.5555555555555556,
             "#d8576b"
            ],
            [
             0.6666666666666666,
             "#ed7953"
            ],
            [
             0.7777777777777778,
             "#fb9f3a"
            ],
            [
             0.8888888888888888,
             "#fdca26"
            ],
            [
             1,
             "#f0f921"
            ]
           ]
          },
          "colorway": [
           "#636efa",
           "#EF553B",
           "#00cc96",
           "#ab63fa",
           "#FFA15A",
           "#19d3f3",
           "#FF6692",
           "#B6E880",
           "#FF97FF",
           "#FECB52"
          ],
          "font": {
           "color": "#2a3f5f"
          },
          "geo": {
           "bgcolor": "white",
           "lakecolor": "white",
           "landcolor": "#E5ECF6",
           "showlakes": true,
           "showland": true,
           "subunitcolor": "white"
          },
          "hoverlabel": {
           "align": "left"
          },
          "hovermode": "closest",
          "mapbox": {
           "style": "light"
          },
          "paper_bgcolor": "white",
          "plot_bgcolor": "#E5ECF6",
          "polar": {
           "angularaxis": {
            "gridcolor": "white",
            "linecolor": "white",
            "ticks": ""
           },
           "bgcolor": "#E5ECF6",
           "radialaxis": {
            "gridcolor": "white",
            "linecolor": "white",
            "ticks": ""
           }
          },
          "scene": {
           "xaxis": {
            "backgroundcolor": "#E5ECF6",
            "gridcolor": "white",
            "gridwidth": 2,
            "linecolor": "white",
            "showbackground": true,
            "ticks": "",
            "zerolinecolor": "white"
           },
           "yaxis": {
            "backgroundcolor": "#E5ECF6",
            "gridcolor": "white",
            "gridwidth": 2,
            "linecolor": "white",
            "showbackground": true,
            "ticks": "",
            "zerolinecolor": "white"
           },
           "zaxis": {
            "backgroundcolor": "#E5ECF6",
            "gridcolor": "white",
            "gridwidth": 2,
            "linecolor": "white",
            "showbackground": true,
            "ticks": "",
            "zerolinecolor": "white"
           }
          },
          "shapedefaults": {
           "line": {
            "color": "#2a3f5f"
           }
          },
          "ternary": {
           "aaxis": {
            "gridcolor": "white",
            "linecolor": "white",
            "ticks": ""
           },
           "baxis": {
            "gridcolor": "white",
            "linecolor": "white",
            "ticks": ""
           },
           "bgcolor": "#E5ECF6",
           "caxis": {
            "gridcolor": "white",
            "linecolor": "white",
            "ticks": ""
           }
          },
          "title": {
           "x": 0.05
          },
          "xaxis": {
           "automargin": true,
           "gridcolor": "white",
           "linecolor": "white",
           "ticks": "",
           "title": {
            "standoff": 15
           },
           "zerolinecolor": "white",
           "zerolinewidth": 2
          },
          "yaxis": {
           "automargin": true,
           "gridcolor": "white",
           "linecolor": "white",
           "ticks": "",
           "title": {
            "standoff": 15
           },
           "zerolinecolor": "white",
           "zerolinewidth": 2
          }
         }
        },
        "title": {
         "text": "Goals per Shot by Team and Season"
        },
        "width": 1000,
        "xaxis": {
         "title": {
          "text": "Team"
         }
        },
        "yaxis": {
         "title": {
          "text": "Goals per Shot"
         }
        }
       }
      }
     },
     "metadata": {},
     "output_type": "display_data"
    }
   ],
   "source": [
    "import plotly.graph_objs as go\n",
    "\n",
    "# assuming you have a list of data frames called dfs, each representing a season\n",
    "traces = []\n",
    "teams = []\n",
    "for df in dfs :\n",
    "  l = list(df.index)\n",
    "  teams.extend(l)\n",
    "teams = list(set(teams))\n",
    "\n",
    "for df in dfs:\n",
    "    trace = go.Scatter(\n",
    "        x = df.index,\n",
    "        y = df['Goals per Shot'],\n",
    "        name = list(df[\"season\"])[0],\n",
    "        mode = 'markers'\n",
    "    )\n",
    "    traces.append(trace)\n",
    "\n",
    "# create the layout for the plot\n",
    "layout = go.Layout(\n",
    "    title = 'Goals per Shot by Team and Season',\n",
    "    xaxis = dict(\n",
    "        title = 'Team'\n",
    "    ),\n",
    "    yaxis = dict(\n",
    "        title = 'Goals per Shot'\n",
    "    ),\n",
    "    height=600,\n",
    "    width=1000,\n",
    ")\n",
    "\n",
    "# create the figure and plot the data\n",
    "fig = go.Figure(data=traces, layout=layout)\n",
    "fig.show()"
   ]
  },
  {
   "attachments": {},
   "cell_type": "markdown",
   "metadata": {},
   "source": [
    "This graphs shows also that the leading Man city reached an astonishing 0.18 goals per shot in 2018 , with Brentford leading the race in 2023"
   ]
  },
  {
   "attachments": {},
   "cell_type": "markdown",
   "metadata": {},
   "source": [
    "## ML MODEL"
   ]
  },
  {
   "attachments": {},
   "cell_type": "markdown",
   "metadata": {},
   "source": [
    "**Predicting Premier league standings using Poisson distribution** \n",
    "\n",
    "Poisson distribution is used for the probability distribution of goal scoring. This model is then applied to simulate league matches and predict points scored by each team to build the final league standings."
   ]
  },
  {
   "cell_type": "code",
   "execution_count": 23,
   "metadata": {},
   "outputs": [],
   "source": [
    "# Import libraries\n",
    "\n",
    "import pandas as pd\n",
    "import numpy as np\n",
    "from scipy.stats import poisson \n",
    "\n",
    "from IPython.core.interactiveshell import InteractiveShell\n",
    "InteractiveShell.ast_node_interactivity = \"all\""
   ]
  },
  {
   "cell_type": "code",
   "execution_count": 26,
   "metadata": {},
   "outputs": [],
   "source": [
    "# Fetch current standings of EPL\n",
    "eplPointsTable = pd.read_csv('export (2).csv')[['Team', 'Points']]\n",
    "eplPointsTable.index = np.arange(1, len(eplPointsTable) + 1)\n",
    "\n",
    "# Fetch upcoming match fixures\n",
    "eplMatchesLeft = pd.read_csv('remaining_matches.csv')"
   ]
  },
  {
   "attachments": {},
   "cell_type": "markdown",
   "metadata": {},
   "source": [
    "This section of the code fetches the current standings of the English Premier League (EPL) from a CSV file and stores it in a pandas DataFrame called `eplPointsTable`. It then sets the index of the DataFrame to start from 1 instead of 0. It also fetches the upcoming match fixtures of the EPL from another CSV file and stores it in a pandas DataFrame called `eplMatchesLeft`. \n"
   ]
  },
  {
   "cell_type": "code",
   "execution_count": 29,
   "metadata": {},
   "outputs": [
    {
     "data": {
      "text/plain": [
       "'PAST MATCH DATA: 20 rows'"
      ]
     },
     "execution_count": 29,
     "metadata": {},
     "output_type": "execute_result"
    },
    {
     "data": {
      "text/html": [
       "<div>\n",
       "<style scoped>\n",
       "    .dataframe tbody tr th:only-of-type {\n",
       "        vertical-align: middle;\n",
       "    }\n",
       "\n",
       "    .dataframe tbody tr th {\n",
       "        vertical-align: top;\n",
       "    }\n",
       "\n",
       "    .dataframe thead th {\n",
       "        text-align: right;\n",
       "    }\n",
       "</style>\n",
       "<table border=\"1\" class=\"dataframe\">\n",
       "  <thead>\n",
       "    <tr style=\"text-align: right;\">\n",
       "      <th></th>\n",
       "      <th>shots</th>\n",
       "      <th>goals</th>\n",
       "      <th>Goals per Shot</th>\n",
       "      <th>season</th>\n",
       "    </tr>\n",
       "  </thead>\n",
       "  <tbody>\n",
       "    <tr>\n",
       "      <th>Chelsea</th>\n",
       "      <td>273</td>\n",
       "      <td>23</td>\n",
       "      <td>0.084249</td>\n",
       "      <td>2023</td>\n",
       "    </tr>\n",
       "    <tr>\n",
       "      <th>Everton</th>\n",
       "      <td>231</td>\n",
       "      <td>17</td>\n",
       "      <td>0.073593</td>\n",
       "      <td>2023</td>\n",
       "    </tr>\n",
       "    <tr>\n",
       "      <th>Manchester United</th>\n",
       "      <td>348</td>\n",
       "      <td>41</td>\n",
       "      <td>0.117816</td>\n",
       "      <td>2023</td>\n",
       "    </tr>\n",
       "    <tr>\n",
       "      <th>Aston Villa</th>\n",
       "      <td>261</td>\n",
       "      <td>28</td>\n",
       "      <td>0.107280</td>\n",
       "      <td>2023</td>\n",
       "    </tr>\n",
       "    <tr>\n",
       "      <th>Brentford</th>\n",
       "      <td>237</td>\n",
       "      <td>37</td>\n",
       "      <td>0.156118</td>\n",
       "      <td>2023</td>\n",
       "    </tr>\n",
       "  </tbody>\n",
       "</table>\n",
       "</div>"
      ],
      "text/plain": [
       "                   shots  goals  Goals per Shot  season\n",
       "Chelsea              273     23        0.084249    2023\n",
       "Everton              231     17        0.073593    2023\n",
       "Manchester United    348     41        0.117816    2023\n",
       "Aston Villa          261     28        0.107280    2023\n",
       "Brentford            237     37        0.156118    2023"
      ]
     },
     "execution_count": 29,
     "metadata": {},
     "output_type": "execute_result"
    },
    {
     "data": {
      "text/plain": [
       "'CURRENT POINTS TABLE'"
      ]
     },
     "execution_count": 29,
     "metadata": {},
     "output_type": "execute_result"
    },
    {
     "data": {
      "text/html": [
       "<div>\n",
       "<style scoped>\n",
       "    .dataframe tbody tr th:only-of-type {\n",
       "        vertical-align: middle;\n",
       "    }\n",
       "\n",
       "    .dataframe tbody tr th {\n",
       "        vertical-align: top;\n",
       "    }\n",
       "\n",
       "    .dataframe thead th {\n",
       "        text-align: right;\n",
       "    }\n",
       "</style>\n",
       "<table border=\"1\" class=\"dataframe\">\n",
       "  <thead>\n",
       "    <tr style=\"text-align: right;\">\n",
       "      <th></th>\n",
       "      <th>Team</th>\n",
       "      <th>Points</th>\n",
       "    </tr>\n",
       "  </thead>\n",
       "  <tbody>\n",
       "    <tr>\n",
       "      <th>1</th>\n",
       "      <td>Arsenal</td>\n",
       "      <td>47</td>\n",
       "    </tr>\n",
       "    <tr>\n",
       "      <th>2</th>\n",
       "      <td>Manchester City</td>\n",
       "      <td>42</td>\n",
       "    </tr>\n",
       "    <tr>\n",
       "      <th>3</th>\n",
       "      <td>Manchester United</td>\n",
       "      <td>39</td>\n",
       "    </tr>\n",
       "    <tr>\n",
       "      <th>4</th>\n",
       "      <td>Newcastle United</td>\n",
       "      <td>38</td>\n",
       "    </tr>\n",
       "    <tr>\n",
       "      <th>5</th>\n",
       "      <td>Tottenham Hotspur</td>\n",
       "      <td>33</td>\n",
       "    </tr>\n",
       "    <tr>\n",
       "      <th>6</th>\n",
       "      <td>Fulham</td>\n",
       "      <td>31</td>\n",
       "    </tr>\n",
       "    <tr>\n",
       "      <th>7</th>\n",
       "      <td>Brighton &amp; Hove Albion</td>\n",
       "      <td>30</td>\n",
       "    </tr>\n",
       "    <tr>\n",
       "      <th>8</th>\n",
       "      <td>Brentford</td>\n",
       "      <td>29</td>\n",
       "    </tr>\n",
       "    <tr>\n",
       "      <th>9</th>\n",
       "      <td>Liverpool</td>\n",
       "      <td>28</td>\n",
       "    </tr>\n",
       "    <tr>\n",
       "      <th>10</th>\n",
       "      <td>Chelsea</td>\n",
       "      <td>28</td>\n",
       "    </tr>\n",
       "    <tr>\n",
       "      <th>11</th>\n",
       "      <td>Aston Villa</td>\n",
       "      <td>25</td>\n",
       "    </tr>\n",
       "    <tr>\n",
       "      <th>12</th>\n",
       "      <td>Crystal Palace</td>\n",
       "      <td>23</td>\n",
       "    </tr>\n",
       "    <tr>\n",
       "      <th>13</th>\n",
       "      <td>Nottingham Forest</td>\n",
       "      <td>20</td>\n",
       "    </tr>\n",
       "    <tr>\n",
       "      <th>14</th>\n",
       "      <td>Leeds United</td>\n",
       "      <td>17</td>\n",
       "    </tr>\n",
       "    <tr>\n",
       "      <th>15</th>\n",
       "      <td>Leicester City</td>\n",
       "      <td>17</td>\n",
       "    </tr>\n",
       "    <tr>\n",
       "      <th>16</th>\n",
       "      <td>Wolverhampton Wanderers</td>\n",
       "      <td>17</td>\n",
       "    </tr>\n",
       "    <tr>\n",
       "      <th>17</th>\n",
       "      <td>AFC Bournemouth</td>\n",
       "      <td>16</td>\n",
       "    </tr>\n",
       "    <tr>\n",
       "      <th>18</th>\n",
       "      <td>West Ham United</td>\n",
       "      <td>15</td>\n",
       "    </tr>\n",
       "    <tr>\n",
       "      <th>19</th>\n",
       "      <td>Everton</td>\n",
       "      <td>15</td>\n",
       "    </tr>\n",
       "    <tr>\n",
       "      <th>20</th>\n",
       "      <td>Southampton</td>\n",
       "      <td>15</td>\n",
       "    </tr>\n",
       "  </tbody>\n",
       "</table>\n",
       "</div>"
      ],
      "text/plain": [
       "                       Team  Points\n",
       "1                   Arsenal      47\n",
       "2           Manchester City      42\n",
       "3         Manchester United      39\n",
       "4          Newcastle United      38\n",
       "5         Tottenham Hotspur      33\n",
       "6                    Fulham      31\n",
       "7    Brighton & Hove Albion      30\n",
       "8                 Brentford      29\n",
       "9                 Liverpool      28\n",
       "10                  Chelsea      28\n",
       "11              Aston Villa      25\n",
       "12           Crystal Palace      23\n",
       "13        Nottingham Forest      20\n",
       "14             Leeds United      17\n",
       "15           Leicester City      17\n",
       "16  Wolverhampton Wanderers      17\n",
       "17          AFC Bournemouth      16\n",
       "18          West Ham United      15\n",
       "19                  Everton      15\n",
       "20              Southampton      15"
      ]
     },
     "execution_count": 29,
     "metadata": {},
     "output_type": "execute_result"
    },
    {
     "data": {
      "text/plain": [
       "'UPCOMING MATCH FIXTURES: 190 rows'"
      ]
     },
     "execution_count": 29,
     "metadata": {},
     "output_type": "execute_result"
    },
    {
     "data": {
      "text/html": [
       "<div>\n",
       "<style scoped>\n",
       "    .dataframe tbody tr th:only-of-type {\n",
       "        vertical-align: middle;\n",
       "    }\n",
       "\n",
       "    .dataframe tbody tr th {\n",
       "        vertical-align: top;\n",
       "    }\n",
       "\n",
       "    .dataframe thead th {\n",
       "        text-align: right;\n",
       "    }\n",
       "</style>\n",
       "<table border=\"1\" class=\"dataframe\">\n",
       "  <thead>\n",
       "    <tr style=\"text-align: right;\">\n",
       "      <th></th>\n",
       "      <th>home_team</th>\n",
       "      <th>away_team</th>\n",
       "    </tr>\n",
       "  </thead>\n",
       "  <tbody>\n",
       "    <tr>\n",
       "      <th>0</th>\n",
       "      <td>Chelsea</td>\n",
       "      <td>Everton</td>\n",
       "    </tr>\n",
       "    <tr>\n",
       "      <th>1</th>\n",
       "      <td>Chelsea</td>\n",
       "      <td>Manchester United</td>\n",
       "    </tr>\n",
       "    <tr>\n",
       "      <th>2</th>\n",
       "      <td>Chelsea</td>\n",
       "      <td>Aston Villa</td>\n",
       "    </tr>\n",
       "    <tr>\n",
       "      <th>3</th>\n",
       "      <td>Chelsea</td>\n",
       "      <td>Brentford</td>\n",
       "    </tr>\n",
       "    <tr>\n",
       "      <th>4</th>\n",
       "      <td>Chelsea</td>\n",
       "      <td>Brighton</td>\n",
       "    </tr>\n",
       "  </tbody>\n",
       "</table>\n",
       "</div>"
      ],
      "text/plain": [
       "  home_team          away_team\n",
       "0   Chelsea            Everton\n",
       "1   Chelsea  Manchester United\n",
       "2   Chelsea        Aston Villa\n",
       "3   Chelsea          Brentford\n",
       "4   Chelsea           Brighton"
      ]
     },
     "execution_count": 29,
     "metadata": {},
     "output_type": "execute_result"
    }
   ],
   "source": [
    "'PAST MATCH DATA: {} rows'.format(len(df))\n",
    "df.head()\n",
    "'CURRENT POINTS TABLE'\n",
    "eplPointsTable\n",
    "'UPCOMING MATCH FIXTURES: {} rows'.format(len(eplMatchesLeft))\n",
    "eplMatchesLeft.head()"
   ]
  },
  {
   "cell_type": "code",
   "execution_count": 31,
   "metadata": {},
   "outputs": [],
   "source": [
    "\n",
    "# For each team - Average {HomeScored, HomeConceded, AwayScored, AwayConceded} \n",
    "eplHomeTeam = ovr_df[['home_team', 'home_goals', 'away_goals']].rename(\n",
    "    columns={'home_team':'Team', 'home_goals':'HomeScored', 'away_goals':'HomeConceded'}).groupby(\n",
    "    ['Team'], as_index=False)[['HomeScored', 'HomeConceded']].mean()\n",
    "\n",
    "eplAwayTeam = ovr_df[['away_team', 'home_goals', 'away_goals']].rename(\n",
    "    columns={'away_team':'Team', 'home_goals':'AwayConceded', 'away_goals':'AwayScored'}).groupby(\n",
    "    ['Team'], as_index=False)[['AwayScored', 'AwayConceded']].mean()\n",
    "\n",
    "# Overall - Average {leagueHomeScored, leagueHomeConceded, leagueAwayScored, leagueAwayConceded}\n",
    "leagueHomeScored, leagueHomeConceded = eplHomeTeam['HomeScored'].mean(), eplHomeTeam['HomeConceded'].mean()\n",
    "leagueAwayScored, leagueAwayConceded = eplAwayTeam['AwayScored'].mean(), eplAwayTeam['AwayConceded'].mean()\n",
    "\n",
    "eplTeamStrength = pd.merge(eplHomeTeam, eplAwayTeam, on='Team')\n",
    "\n",
    "assert(leagueHomeScored != 0)\n",
    "assert(leagueHomeConceded != 0)\n",
    "assert(leagueAwayScored != 0)\n",
    "assert(leagueAwayConceded != 0)\n",
    "\n",
    "# Normalize the parameters \n",
    "# For each team - {HomeAttack, HomeDefence, AwayAttack, AwayDefense}\n",
    "eplTeamStrength['HomeScored'] /= leagueHomeScored\n",
    "eplTeamStrength['HomeConceded'] /= leagueHomeConceded\n",
    "eplTeamStrength['AwayScored'] /= leagueAwayScored\n",
    "eplTeamStrength['AwayConceded'] /= leagueAwayConceded\n",
    "\n",
    "eplTeamStrength.columns=['Team','HomeAttack','HomeDefense','AwayAttack','AwayDefense']\n",
    "eplTeamStrength.set_index('Team', inplace=True)\n",
    "\n",
    "# Overall - {overallHomeScored, overallAwayScored}\n",
    "overallHomeScored = (leagueHomeScored+leagueAwayConceded)/2\n",
    "overallAwayScored = (leagueHomeConceded+leagueAwayScored)/2"
   ]
  },
  {
   "attachments": {},
   "cell_type": "markdown",
   "metadata": {},
   "source": [
    "This section of code is normalizing the parameters for each team in the English Premier League (EPL). The parameters being normalized are HomeAttack, HomeDefense, AwayAttack, and AwayDefense. The normalization process involves dividing each parameter by the total number of goals scored or conceded by the team in their respective home or away matches. This is done to ensure that the parameters are on the same scale and can be compared across teams. After normalizing the parameters for each team, the code renames the columns to be more descriptive and sets the index to be the team names. \n",
    "> Calculate overallHomeScored and overallAwayScored\n",
    "* These variables represent the average number of goals scored by a team in a match, regardless of whether they are playing at home or away.\n",
    "* The calculation is based on the average number of goals scored by all teams in the league, as well as the average number of goals conceded by all teams in the league.\n",
    "* This is done toget a baseline for what is considered a high or low number of goals scored or conceded."
   ]
  },
  {
   "cell_type": "code",
   "execution_count": 32,
   "metadata": {},
   "outputs": [
    {
     "data": {
      "text/plain": [
       "'TEAM STRENGTH: 39 rows'"
      ]
     },
     "execution_count": 32,
     "metadata": {},
     "output_type": "execute_result"
    },
    {
     "data": {
      "text/html": [
       "<div>\n",
       "<style scoped>\n",
       "    .dataframe tbody tr th:only-of-type {\n",
       "        vertical-align: middle;\n",
       "    }\n",
       "\n",
       "    .dataframe tbody tr th {\n",
       "        vertical-align: top;\n",
       "    }\n",
       "\n",
       "    .dataframe thead th {\n",
       "        text-align: right;\n",
       "    }\n",
       "</style>\n",
       "<table border=\"1\" class=\"dataframe\">\n",
       "  <thead>\n",
       "    <tr style=\"text-align: right;\">\n",
       "      <th></th>\n",
       "      <th>HomeAttack</th>\n",
       "      <th>HomeDefense</th>\n",
       "      <th>AwayAttack</th>\n",
       "      <th>AwayDefense</th>\n",
       "    </tr>\n",
       "    <tr>\n",
       "      <th>Team</th>\n",
       "      <th></th>\n",
       "      <th></th>\n",
       "      <th></th>\n",
       "      <th></th>\n",
       "    </tr>\n",
       "  </thead>\n",
       "  <tbody>\n",
       "    <tr>\n",
       "      <th>Arsenal</th>\n",
       "      <td>1.477212</td>\n",
       "      <td>0.697579</td>\n",
       "      <td>1.491360</td>\n",
       "      <td>0.806413</td>\n",
       "    </tr>\n",
       "    <tr>\n",
       "      <th>Aston Villa</th>\n",
       "      <td>0.884906</td>\n",
       "      <td>1.106568</td>\n",
       "      <td>0.934787</td>\n",
       "      <td>1.021126</td>\n",
       "    </tr>\n",
       "    <tr>\n",
       "      <th>Birmingham</th>\n",
       "      <td>0.729450</td>\n",
       "      <td>0.881488</td>\n",
       "      <td>0.880749</td>\n",
       "      <td>1.121424</td>\n",
       "    </tr>\n",
       "    <tr>\n",
       "      <th>Blackburn</th>\n",
       "      <td>0.921410</td>\n",
       "      <td>0.981657</td>\n",
       "      <td>1.125401</td>\n",
       "      <td>1.370630</td>\n",
       "    </tr>\n",
       "    <tr>\n",
       "      <th>Blackpool</th>\n",
       "      <td>1.151763</td>\n",
       "      <td>1.482503</td>\n",
       "      <td>1.223262</td>\n",
       "      <td>1.277178</td>\n",
       "    </tr>\n",
       "  </tbody>\n",
       "</table>\n",
       "</div>"
      ],
      "text/plain": [
       "             HomeAttack  HomeDefense  AwayAttack  AwayDefense\n",
       "Team                                                         \n",
       "Arsenal        1.477212     0.697579    1.491360     0.806413\n",
       "Aston Villa    0.884906     1.106568    0.934787     1.021126\n",
       "Birmingham     0.729450     0.881488    0.880749     1.121424\n",
       "Blackburn      0.921410     0.981657    1.125401     1.370630\n",
       "Blackpool      1.151763     1.482503    1.223262     1.277178"
      ]
     },
     "execution_count": 32,
     "metadata": {},
     "output_type": "execute_result"
    },
    {
     "data": {
      "text/plain": [
       "'Overall Home scored = 1.5302386167927429'"
      ]
     },
     "execution_count": 32,
     "metadata": {},
     "output_type": "execute_result"
    },
    {
     "data": {
      "text/plain": [
       "'Overall Away scored = 1.1946040679191487'"
      ]
     },
     "execution_count": 32,
     "metadata": {},
     "output_type": "execute_result"
    }
   ],
   "source": [
    "'TEAM STRENGTH: {} rows'.format(len(eplTeamStrength))\n",
    "eplTeamStrength.head()\n",
    "'Overall Home scored = {}'.format(overallHomeScored)\n",
    "'Overall Away scored = {}'.format(overallAwayScored)"
   ]
  },
  {
   "cell_type": "code",
   "execution_count": 33,
   "metadata": {},
   "outputs": [],
   "source": [
    "def predictMatchScore(home, away):\n",
    "    if home in eplTeamStrength.index and away in eplTeamStrength.index:\n",
    "        lambdH = eplTeamStrength.at[home,'HomeAttack'] * eplTeamStrength.at[away,'AwayDefense'] * overallHomeScored\n",
    "        lambdA = eplTeamStrength.at[away,'AwayAttack'] * eplTeamStrength.at[home,'HomeDefense'] * overallAwayScored\n",
    "        probH, probA, probT = 0, 0, 0  # Probability of Home win(H), Away win(A) or Tie(T) \n",
    "        for X in range(0,11):\n",
    "            for Y in range(0, 11):\n",
    "                p = poisson.pmf(X, lambdH) * poisson.pmf(Y, lambdA)\n",
    "                if X == Y:\n",
    "                    probT += p\n",
    "                elif X > Y:\n",
    "                    probH += p\n",
    "                else:\n",
    "                    probA += p\n",
    "        scoreH = 3 * probH + probT\n",
    "        scoreA = 3 * probA + probT\n",
    "        return (scoreH, scoreA)\n",
    "    else:\n",
    "        return (0, 0)"
   ]
  },
  {
   "attachments": {},
   "cell_type": "markdown",
   "metadata": {},
   "source": [
    "This section defines a function named `predictMatchScore` that takes two arguments `home` and `away`. It first checks if the `home` and `away` teams are present in the `eplTeamStrength` index. If they are present, it calculates the expected goals scored by the home team (`lambdH`) and the away team (`lambdA`) using theattack and defense strengths of the teams. It then calculates the probability of a home win, away win, or tie using the Poisson distribution. Finally, it calculates the expected scores for both teams based on the probabilities and returns them as a tuple. If either team is not present in the `eplTeamStrength` index, it returns `(0, 0)`. "
   ]
  },
  {
   "cell_type": "code",
   "execution_count": 34,
   "metadata": {},
   "outputs": [],
   "source": [
    "#  Simulate the matches to predict final standings\n",
    "for index, row in eplMatchesLeft.iterrows():\n",
    "    home, away = row['home_team'], row['away_team']\n",
    "    #assert(home in eplPointsTable.Team.values and away in eplPointsTable.Team.values)\n",
    "    sH, sA = predictMatchScore(home, away)\n",
    "    eplPointsTable.loc[eplPointsTable.Team == home, 'Points'] += sH\n",
    "    eplPointsTable.loc[eplPointsTable.Team == away, 'Points'] += sA"
   ]
  },
  {
   "cell_type": "markdown",
   "metadata": {},
   "source": [
    "The model simulates the remaining matches of the English Premier League (EPL) and predicts the final standings of the teams based on their current points and the predicted scores of the remaining matches. The `predictMatchScore` function uses a Poisson distribution to predict the scores of each match, and then calculates the points earned by each team based on the predicted scores. The `eplMatchesLeft` dataframe contains the list of matches that are yet to be played in the EPL. The code iterates through each row of this dataframe, predicts the score of the match using the `predictMatchScore` function, and updates the points table accordingly. Finally, the `eplPointsTable` dataframe is sorted in descending order of points and the index is reset to show the predicted final standings of the teams. The `round` function is used to round off the points to two decimal places."
   ]
  },
  {
   "cell_type": "code",
   "execution_count": 35,
   "metadata": {},
   "outputs": [
    {
     "data": {
      "text/plain": [
       "'PREDICTED FINAL STANDINGS'"
      ]
     },
     "execution_count": 35,
     "metadata": {},
     "output_type": "execute_result"
    },
    {
     "data": {
      "text/html": [
       "<div>\n",
       "<style scoped>\n",
       "    .dataframe tbody tr th:only-of-type {\n",
       "        vertical-align: middle;\n",
       "    }\n",
       "\n",
       "    .dataframe tbody tr th {\n",
       "        vertical-align: top;\n",
       "    }\n",
       "\n",
       "    .dataframe thead th {\n",
       "        text-align: right;\n",
       "    }\n",
       "</style>\n",
       "<table border=\"1\" class=\"dataframe\">\n",
       "  <thead>\n",
       "    <tr style=\"text-align: right;\">\n",
       "      <th></th>\n",
       "      <th>Team</th>\n",
       "      <th>Points</th>\n",
       "    </tr>\n",
       "  </thead>\n",
       "  <tbody>\n",
       "    <tr>\n",
       "      <th>1</th>\n",
       "      <td>Manchester City</td>\n",
       "      <td>80.89</td>\n",
       "    </tr>\n",
       "    <tr>\n",
       "      <th>2</th>\n",
       "      <td>Arsenal</td>\n",
       "      <td>80.03</td>\n",
       "    </tr>\n",
       "    <tr>\n",
       "      <th>3</th>\n",
       "      <td>Manchester United</td>\n",
       "      <td>77.29</td>\n",
       "    </tr>\n",
       "    <tr>\n",
       "      <th>4</th>\n",
       "      <td>Chelsea</td>\n",
       "      <td>67.31</td>\n",
       "    </tr>\n",
       "    <tr>\n",
       "      <th>5</th>\n",
       "      <td>Liverpool</td>\n",
       "      <td>59.95</td>\n",
       "    </tr>\n",
       "    <tr>\n",
       "      <th>6</th>\n",
       "      <td>Brentford</td>\n",
       "      <td>58.16</td>\n",
       "    </tr>\n",
       "    <tr>\n",
       "      <th>7</th>\n",
       "      <td>Fulham</td>\n",
       "      <td>48.94</td>\n",
       "    </tr>\n",
       "    <tr>\n",
       "      <th>8</th>\n",
       "      <td>Aston Villa</td>\n",
       "      <td>46.74</td>\n",
       "    </tr>\n",
       "    <tr>\n",
       "      <th>9</th>\n",
       "      <td>Everton</td>\n",
       "      <td>45.91</td>\n",
       "    </tr>\n",
       "    <tr>\n",
       "      <th>10</th>\n",
       "      <td>Crystal Palace</td>\n",
       "      <td>43.87</td>\n",
       "    </tr>\n",
       "    <tr>\n",
       "      <th>11</th>\n",
       "      <td>Newcastle United</td>\n",
       "      <td>38.00</td>\n",
       "    </tr>\n",
       "    <tr>\n",
       "      <th>12</th>\n",
       "      <td>Nottingham Forest</td>\n",
       "      <td>37.23</td>\n",
       "    </tr>\n",
       "    <tr>\n",
       "      <th>13</th>\n",
       "      <td>Southampton</td>\n",
       "      <td>35.60</td>\n",
       "    </tr>\n",
       "    <tr>\n",
       "      <th>14</th>\n",
       "      <td>Tottenham Hotspur</td>\n",
       "      <td>33.00</td>\n",
       "    </tr>\n",
       "    <tr>\n",
       "      <th>15</th>\n",
       "      <td>Brighton &amp; Hove Albion</td>\n",
       "      <td>30.00</td>\n",
       "    </tr>\n",
       "    <tr>\n",
       "      <th>16</th>\n",
       "      <td>Leeds United</td>\n",
       "      <td>17.00</td>\n",
       "    </tr>\n",
       "    <tr>\n",
       "      <th>17</th>\n",
       "      <td>Leicester City</td>\n",
       "      <td>17.00</td>\n",
       "    </tr>\n",
       "    <tr>\n",
       "      <th>18</th>\n",
       "      <td>Wolverhampton Wanderers</td>\n",
       "      <td>17.00</td>\n",
       "    </tr>\n",
       "    <tr>\n",
       "      <th>19</th>\n",
       "      <td>AFC Bournemouth</td>\n",
       "      <td>16.00</td>\n",
       "    </tr>\n",
       "    <tr>\n",
       "      <th>20</th>\n",
       "      <td>West Ham United</td>\n",
       "      <td>15.00</td>\n",
       "    </tr>\n",
       "  </tbody>\n",
       "</table>\n",
       "</div>"
      ],
      "text/plain": [
       "                       Team  Points\n",
       "1           Manchester City   80.89\n",
       "2                   Arsenal   80.03\n",
       "3         Manchester United   77.29\n",
       "4                   Chelsea   67.31\n",
       "5                 Liverpool   59.95\n",
       "6                 Brentford   58.16\n",
       "7                    Fulham   48.94\n",
       "8               Aston Villa   46.74\n",
       "9                   Everton   45.91\n",
       "10           Crystal Palace   43.87\n",
       "11         Newcastle United   38.00\n",
       "12        Nottingham Forest   37.23\n",
       "13              Southampton   35.60\n",
       "14        Tottenham Hotspur   33.00\n",
       "15   Brighton & Hove Albion   30.00\n",
       "16             Leeds United   17.00\n",
       "17           Leicester City   17.00\n",
       "18  Wolverhampton Wanderers   17.00\n",
       "19          AFC Bournemouth   16.00\n",
       "20          West Ham United   15.00"
      ]
     },
     "execution_count": 35,
     "metadata": {},
     "output_type": "execute_result"
    }
   ],
   "source": [
    "'PREDICTED FINAL STANDINGS'\n",
    "eplPointsTable = eplPointsTable.sort_values('Points', ascending=False)\n",
    "eplPointsTable.index = np.arange(1, len(eplPointsTable)+1) \n",
    "eplPointsTable.round(2)"
   ]
  },
  {
   "cell_type": "markdown",
   "metadata": {},
   "source": [
    "To evaluate the code, we applied the model to the last year season, and it roughly gives us accurate results and here are the screenshots. "
   ]
  },
  {
   "attachments": {},
   "cell_type": "markdown",
   "metadata": {},
   "source": [
    "![Capture d’écran 2023-03-26 213051.jpg](data:image/jpeg;base64,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)"
   ]
  },
  {
   "attachments": {},
   "cell_type": "markdown",
   "metadata": {},
   "source": [
    "![Capture d’écran 2023-03-26 213027.jpg](data:image/jpeg;base64,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)"
   ]
  },
  {
   "cell_type": "code",
   "execution_count": 36,
   "metadata": {},
   "outputs": [
    {
     "data": {
      "text/plain": [
       "'To evaluate the model, \\nwe need to import necessary libraries and define functions\\nfor log-likelihood, mean absolute error, and root mean squared error. '"
      ]
     },
     "execution_count": 36,
     "metadata": {},
     "output_type": "execute_result"
    },
    {
     "name": "stdout",
     "output_type": "stream",
     "text": [
      "Log-likelihood: -inf\n",
      "Mean Absolute Error: 3.6689999999999996\n",
      "Root Mean Squared Error: 4.677696014065043\n"
     ]
    }
   ],
   "source": [
    "'''To evaluate the model, \n",
    "we need to import necessary libraries and define functions\n",
    "for log-likelihood, mean absolute error, and root mean squared error. '''\n",
    "import numpy as np\n",
    "from scipy.stats import poisson\n",
    "# Define a function for log-likelihood\n",
    "def log_likelihood(actual_scores, expected_scores):\n",
    "    ll = np.sum(poisson.logpmf(actual_scores, expected_scores))\n",
    "    return ll\n",
    "# Define a function for mean absolute error\n",
    "def mean_absolute_error(actual_scores, expected_scores):\n",
    "    mae = np.mean(np.abs(actual_scores - expected_scores))\n",
    "    return mae\n",
    "# Define a function for root mean squared error\n",
    "def root_mean_squared_error(actual_scores, expected_scores):\n",
    "    rmse = np.sqrt(np.mean((actual_scores - expected_scores)**2))\n",
    "    return rmse\n",
    "\n",
    "# Now, we can use the defined functions to evaluate the Poisson model\n",
    "# Let's assume we have actual scores and expected scores as numpy arrays\n",
    "actual_scores = np.array([82.18,81.53,73.97,69.36,65.43,62.24,58.35,57.07,55.55,49.06,47.34,47.23,46.61,45.48,43.38,42.77,42.69,40.74,28.85,23.75])\n",
    "expected_scores = np.array([93,92,74,71,69,58,56,52,51,51,49,48,46,45,40,39,38,35,23,22])\n",
    "# Calculate log-likelihood\n",
    "ll = log_likelihood(actual_scores, expected_scores)\n",
    "print(\"Log-likelihood:\", ll)\n",
    "# Calculate mean absolute error\n",
    "mae = mean_absolute_error(actual_scores, expected_scores)\n",
    "print(\"Mean Absolute Error:\", mae)\n",
    "# Calculate root mean squared error\n",
    "rmse = root_mean_squared_error(actual_scores, expected_scores)\n",
    "print(\"Root Mean Squared Error:\", rmse)\n"
   ]
  }
 ],
 "metadata": {
  "kernelspec": {
   "display_name": "base",
   "language": "python",
   "name": "python3"
  },
  "language_info": {
   "codemirror_mode": {
    "name": "ipython",
    "version": 3
   },
   "file_extension": ".py",
   "mimetype": "text/x-python",
   "name": "python",
   "nbconvert_exporter": "python",
   "pygments_lexer": "ipython3",
   "version": "3.9.7"
  },
  "orig_nbformat": 4,
  "vscode": {
   "interpreter": {
    "hash": "77b840b16efc606bfe6fe465e16c80fde01359cf425f7f37ae28958c7f375ddc"
   }
  }
 },
 "nbformat": 4,
 "nbformat_minor": 2
}
