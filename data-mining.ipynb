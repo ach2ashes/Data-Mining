{
 "cells": [
  {
   "attachments": {},
   "cell_type": "markdown",
   "metadata": {},
   "source": [
    "<b></center><h1>🤖⚽How to win the premier league with data mining ?⚽🤖</b></center></h1>"
   ]
  },
  {
   "cell_type": "markdown",
   "metadata": {},
   "source": [
    "<h3 style=\"text-align:right\">\n",
    "réalisé par : Achraf Sbai et Mohammed Badague\n",
    "</h3>"
   ]
  },
  {
   "attachments": {},
   "cell_type": "markdown",
   "metadata": {},
   "source": [
    "## Data Extraction"
   ]
  },
  {
   "cell_type": "code",
   "execution_count": 1,
   "metadata": {},
   "outputs": [],
   "source": [
    "import pandas as pd\n",
    "import os\n",
    "\n",
    "import json\n"
   ]
  },
  {
   "cell_type": "code",
   "execution_count": 2,
   "metadata": {},
   "outputs": [
    {
     "name": "stdout",
     "output_type": "stream",
     "text": [
      "2458.json\n",
      "2935.json\n",
      "3389.json\n",
      "3853.json\n",
      "4311.json\n",
      "5826.json\n",
      "6335.json\n",
      "6829.json\n",
      "7361.json\n",
      "7811.json\n",
      "8228.json\n",
      "8618.json\n",
      "9075.json\n"
     ]
    }
   ],
   "source": [
    "json_files = [file for file in os.listdir(\"./\") if file.endswith('.json')]\n",
    "json_files.remove('data.json')\n",
    "json_files.remove('whoscored.json')\n",
    "df_list = []\n",
    "for file in json_files:\n",
    "    print(file)\n",
    "    json_path = os.path.join(\"./\", file)\n",
    "    data = json.load(open(json_path, 'r'))\n",
    "    df = pd.DataFrame(data)\n",
    "    df_list.append(df)"
   ]
  },
  {
   "cell_type": "code",
   "execution_count": 3,
   "metadata": {},
   "outputs": [
    {
     "data": {
      "text/html": [
       "<div>\n",
       "<style scoped>\n",
       "    .dataframe tbody tr th:only-of-type {\n",
       "        vertical-align: middle;\n",
       "    }\n",
       "\n",
       "    .dataframe tbody tr th {\n",
       "        vertical-align: top;\n",
       "    }\n",
       "\n",
       "    .dataframe thead th {\n",
       "        text-align: right;\n",
       "    }\n",
       "</style>\n",
       "<table border=\"1\" class=\"dataframe\">\n",
       "  <thead>\n",
       "    <tr style=\"text-align: right;\">\n",
       "      <th></th>\n",
       "      <th>home_team</th>\n",
       "      <th>away_team</th>\n",
       "      <th>home_goals</th>\n",
       "      <th>away_goals</th>\n",
       "      <th>home_shots</th>\n",
       "      <th>away_shots</th>\n",
       "      <th>home_possesion</th>\n",
       "      <th>away_possesion</th>\n",
       "      <th>home_pass_success</th>\n",
       "      <th>away_pass_success</th>\n",
       "      <th>home_dribbles</th>\n",
       "      <th>away_dribbles</th>\n",
       "      <th>home_aerials_won</th>\n",
       "      <th>away_aerials_won</th>\n",
       "      <th>home_tackles</th>\n",
       "      <th>away_tackles</th>\n",
       "      <th>home_corners</th>\n",
       "      <th>away_corners</th>\n",
       "      <th>home_dispossessed</th>\n",
       "      <th>away_dispossessed</th>\n",
       "    </tr>\n",
       "  </thead>\n",
       "  <tbody>\n",
       "    <tr>\n",
       "      <th>0</th>\n",
       "      <td>Birmingham</td>\n",
       "      <td>Wolverhampton</td>\n",
       "      <td>1</td>\n",
       "      <td>1</td>\n",
       "      <td>8</td>\n",
       "      <td>11</td>\n",
       "      <td>42.9</td>\n",
       "      <td>57.1</td>\n",
       "      <td>61</td>\n",
       "      <td>71</td>\n",
       "      <td>3</td>\n",
       "      <td>3</td>\n",
       "      <td>26</td>\n",
       "      <td>18</td>\n",
       "      <td>15</td>\n",
       "      <td>11</td>\n",
       "      <td>0</td>\n",
       "      <td>2</td>\n",
       "      <td>9</td>\n",
       "      <td>10</td>\n",
       "    </tr>\n",
       "    <tr>\n",
       "      <th>1</th>\n",
       "      <td>Liverpool</td>\n",
       "      <td>Newcastle</td>\n",
       "      <td>3</td>\n",
       "      <td>0</td>\n",
       "      <td>14</td>\n",
       "      <td>11</td>\n",
       "      <td>46.3</td>\n",
       "      <td>53.7</td>\n",
       "      <td>78</td>\n",
       "      <td>85</td>\n",
       "      <td>12</td>\n",
       "      <td>9</td>\n",
       "      <td>8</td>\n",
       "      <td>12</td>\n",
       "      <td>26</td>\n",
       "      <td>7</td>\n",
       "      <td>3</td>\n",
       "      <td>12</td>\n",
       "      <td>4</td>\n",
       "      <td>11</td>\n",
       "    </tr>\n",
       "    <tr>\n",
       "      <th>2</th>\n",
       "      <td>Arsenal</td>\n",
       "      <td>Manchester United</td>\n",
       "      <td>1</td>\n",
       "      <td>0</td>\n",
       "      <td>10</td>\n",
       "      <td>12</td>\n",
       "      <td>54.9</td>\n",
       "      <td>45.1</td>\n",
       "      <td>82</td>\n",
       "      <td>76</td>\n",
       "      <td>8</td>\n",
       "      <td>6</td>\n",
       "      <td>18</td>\n",
       "      <td>11</td>\n",
       "      <td>22</td>\n",
       "      <td>25</td>\n",
       "      <td>3</td>\n",
       "      <td>6</td>\n",
       "      <td>20</td>\n",
       "      <td>16</td>\n",
       "    </tr>\n",
       "    <tr>\n",
       "      <th>3</th>\n",
       "      <td>Manchester City</td>\n",
       "      <td>West Ham</td>\n",
       "      <td>2</td>\n",
       "      <td>1</td>\n",
       "      <td>21</td>\n",
       "      <td>9</td>\n",
       "      <td>59.8</td>\n",
       "      <td>40.2</td>\n",
       "      <td>86</td>\n",
       "      <td>73</td>\n",
       "      <td>6</td>\n",
       "      <td>0</td>\n",
       "      <td>6</td>\n",
       "      <td>8</td>\n",
       "      <td>19</td>\n",
       "      <td>17</td>\n",
       "      <td>9</td>\n",
       "      <td>5</td>\n",
       "      <td>12</td>\n",
       "      <td>15</td>\n",
       "    </tr>\n",
       "    <tr>\n",
       "      <th>4</th>\n",
       "      <td>Everton</td>\n",
       "      <td>Manchester City</td>\n",
       "      <td>2</td>\n",
       "      <td>1</td>\n",
       "      <td>11</td>\n",
       "      <td>12</td>\n",
       "      <td>48.6</td>\n",
       "      <td>51.4</td>\n",
       "      <td>72</td>\n",
       "      <td>79</td>\n",
       "      <td>1</td>\n",
       "      <td>6</td>\n",
       "      <td>9</td>\n",
       "      <td>14</td>\n",
       "      <td>19</td>\n",
       "      <td>16</td>\n",
       "      <td>11</td>\n",
       "      <td>6</td>\n",
       "      <td>13</td>\n",
       "      <td>15</td>\n",
       "    </tr>\n",
       "    <tr>\n",
       "      <th>...</th>\n",
       "      <td>...</td>\n",
       "      <td>...</td>\n",
       "      <td>...</td>\n",
       "      <td>...</td>\n",
       "      <td>...</td>\n",
       "      <td>...</td>\n",
       "      <td>...</td>\n",
       "      <td>...</td>\n",
       "      <td>...</td>\n",
       "      <td>...</td>\n",
       "      <td>...</td>\n",
       "      <td>...</td>\n",
       "      <td>...</td>\n",
       "      <td>...</td>\n",
       "      <td>...</td>\n",
       "      <td>...</td>\n",
       "      <td>...</td>\n",
       "      <td>...</td>\n",
       "      <td>...</td>\n",
       "      <td>...</td>\n",
       "    </tr>\n",
       "    <tr>\n",
       "      <th>375</th>\n",
       "      <td>Manchester United</td>\n",
       "      <td>West Ham</td>\n",
       "      <td>3</td>\n",
       "      <td>0</td>\n",
       "      <td>21</td>\n",
       "      <td>8</td>\n",
       "      <td>60.3</td>\n",
       "      <td>39.7</td>\n",
       "      <td>88</td>\n",
       "      <td>84</td>\n",
       "      <td>9</td>\n",
       "      <td>9</td>\n",
       "      <td>5</td>\n",
       "      <td>4</td>\n",
       "      <td>31</td>\n",
       "      <td>24</td>\n",
       "      <td>9</td>\n",
       "      <td>3</td>\n",
       "      <td>13</td>\n",
       "      <td>15</td>\n",
       "    </tr>\n",
       "    <tr>\n",
       "      <th>376</th>\n",
       "      <td>Bolton</td>\n",
       "      <td>Birmingham</td>\n",
       "      <td>2</td>\n",
       "      <td>2</td>\n",
       "      <td>15</td>\n",
       "      <td>9</td>\n",
       "      <td>50.8</td>\n",
       "      <td>49.2</td>\n",
       "      <td>71</td>\n",
       "      <td>58</td>\n",
       "      <td>5</td>\n",
       "      <td>5</td>\n",
       "      <td>22</td>\n",
       "      <td>9</td>\n",
       "      <td>24</td>\n",
       "      <td>17</td>\n",
       "      <td>6</td>\n",
       "      <td>1</td>\n",
       "      <td>16</td>\n",
       "      <td>15</td>\n",
       "    </tr>\n",
       "    <tr>\n",
       "      <th>377</th>\n",
       "      <td>Liverpool</td>\n",
       "      <td>West Bromwich</td>\n",
       "      <td>1</td>\n",
       "      <td>0</td>\n",
       "      <td>11</td>\n",
       "      <td>16</td>\n",
       "      <td>51</td>\n",
       "      <td>49</td>\n",
       "      <td>76</td>\n",
       "      <td>76</td>\n",
       "      <td>3</td>\n",
       "      <td>8</td>\n",
       "      <td>6</td>\n",
       "      <td>14</td>\n",
       "      <td>26</td>\n",
       "      <td>24</td>\n",
       "      <td>7</td>\n",
       "      <td>6</td>\n",
       "      <td>12</td>\n",
       "      <td>21</td>\n",
       "    </tr>\n",
       "    <tr>\n",
       "      <th>378</th>\n",
       "      <td>Sunderland</td>\n",
       "      <td>Manchester City</td>\n",
       "      <td>1</td>\n",
       "      <td>0</td>\n",
       "      <td>18</td>\n",
       "      <td>10</td>\n",
       "      <td>41.7</td>\n",
       "      <td>58.3</td>\n",
       "      <td>72</td>\n",
       "      <td>81</td>\n",
       "      <td>11</td>\n",
       "      <td>9</td>\n",
       "      <td>7</td>\n",
       "      <td>12</td>\n",
       "      <td>33</td>\n",
       "      <td>29</td>\n",
       "      <td>3</td>\n",
       "      <td>8</td>\n",
       "      <td>9</td>\n",
       "      <td>20</td>\n",
       "    </tr>\n",
       "    <tr>\n",
       "      <th>379</th>\n",
       "      <td>Aston Villa</td>\n",
       "      <td>Everton</td>\n",
       "      <td>1</td>\n",
       "      <td>0</td>\n",
       "      <td>15</td>\n",
       "      <td>23</td>\n",
       "      <td>31.7</td>\n",
       "      <td>68.3</td>\n",
       "      <td>60</td>\n",
       "      <td>78</td>\n",
       "      <td>5</td>\n",
       "      <td>10</td>\n",
       "      <td>14</td>\n",
       "      <td>8</td>\n",
       "      <td>22</td>\n",
       "      <td>11</td>\n",
       "      <td>4</td>\n",
       "      <td>18</td>\n",
       "      <td>6</td>\n",
       "      <td>14</td>\n",
       "    </tr>\n",
       "  </tbody>\n",
       "</table>\n",
       "<p>380 rows × 20 columns</p>\n",
       "</div>"
      ],
      "text/plain": [
       "             home_team          away_team home_goals away_goals home_shots  \\\n",
       "0           Birmingham      Wolverhampton          1          1          8   \n",
       "1            Liverpool          Newcastle          3          0         14   \n",
       "2              Arsenal  Manchester United          1          0         10   \n",
       "3      Manchester City           West Ham          2          1         21   \n",
       "4              Everton    Manchester City          2          1         11   \n",
       "..                 ...                ...        ...        ...        ...   \n",
       "375  Manchester United           West Ham          3          0         21   \n",
       "376             Bolton         Birmingham          2          2         15   \n",
       "377          Liverpool      West Bromwich          1          0         11   \n",
       "378         Sunderland    Manchester City          1          0         18   \n",
       "379        Aston Villa            Everton          1          0         15   \n",
       "\n",
       "    away_shots home_possesion away_possesion home_pass_success  \\\n",
       "0           11           42.9           57.1                61   \n",
       "1           11           46.3           53.7                78   \n",
       "2           12           54.9           45.1                82   \n",
       "3            9           59.8           40.2                86   \n",
       "4           12           48.6           51.4                72   \n",
       "..         ...            ...            ...               ...   \n",
       "375          8           60.3           39.7                88   \n",
       "376          9           50.8           49.2                71   \n",
       "377         16             51             49                76   \n",
       "378         10           41.7           58.3                72   \n",
       "379         23           31.7           68.3                60   \n",
       "\n",
       "    away_pass_success home_dribbles away_dribbles home_aerials_won  \\\n",
       "0                  71             3             3               26   \n",
       "1                  85            12             9                8   \n",
       "2                  76             8             6               18   \n",
       "3                  73             6             0                6   \n",
       "4                  79             1             6                9   \n",
       "..                ...           ...           ...              ...   \n",
       "375                84             9             9                5   \n",
       "376                58             5             5               22   \n",
       "377                76             3             8                6   \n",
       "378                81            11             9                7   \n",
       "379                78             5            10               14   \n",
       "\n",
       "    away_aerials_won home_tackles away_tackles home_corners away_corners  \\\n",
       "0                 18           15           11            0            2   \n",
       "1                 12           26            7            3           12   \n",
       "2                 11           22           25            3            6   \n",
       "3                  8           19           17            9            5   \n",
       "4                 14           19           16           11            6   \n",
       "..               ...          ...          ...          ...          ...   \n",
       "375                4           31           24            9            3   \n",
       "376                9           24           17            6            1   \n",
       "377               14           26           24            7            6   \n",
       "378               12           33           29            3            8   \n",
       "379                8           22           11            4           18   \n",
       "\n",
       "    home_dispossessed away_dispossessed  \n",
       "0                   9                10  \n",
       "1                   4                11  \n",
       "2                  20                16  \n",
       "3                  12                15  \n",
       "4                  13                15  \n",
       "..                ...               ...  \n",
       "375                13                15  \n",
       "376                16                15  \n",
       "377                12                21  \n",
       "378                 9                20  \n",
       "379                 6                14  \n",
       "\n",
       "[380 rows x 20 columns]"
      ]
     },
     "execution_count": 3,
     "metadata": {},
     "output_type": "execute_result"
    }
   ],
   "source": [
    "df_list[0]"
   ]
  },
  {
   "cell_type": "code",
   "execution_count": 4,
   "metadata": {},
   "outputs": [
    {
     "data": {
      "text/plain": [
       "home_team            0\n",
       "away_team            0\n",
       "home_goals           0\n",
       "away_goals           0\n",
       "home_shots           0\n",
       "away_shots           0\n",
       "home_possesion       0\n",
       "away_possesion       0\n",
       "home_pass_success    0\n",
       "away_pass_success    0\n",
       "home_dribbles        0\n",
       "away_dribbles        0\n",
       "home_aerials_won     0\n",
       "away_aerials_won     0\n",
       "home_tackles         0\n",
       "away_tackles         0\n",
       "home_corners         0\n",
       "away_corners         0\n",
       "home_dispossessed    0\n",
       "away_dispossessed    0\n",
       "dtype: int64"
      ]
     },
     "execution_count": 4,
     "metadata": {},
     "output_type": "execute_result"
    }
   ],
   "source": [
    "df_list[0].isna().sum()"
   ]
  },
  {
   "attachments": {},
   "cell_type": "markdown",
   "metadata": {},
   "source": [
    "## Data Preprocessing\n"
   ]
  },
  {
   "cell_type": "code",
   "execution_count": 5,
   "metadata": {},
   "outputs": [
    {
     "name": "stdout",
     "output_type": "stream",
     "text": [
      "0: False False\n",
      "1: False False\n",
      "2: False False\n",
      "3: False False\n",
      "4: False False\n",
      "5: False False\n",
      "6: False False\n",
      "7: False False\n",
      "8: False False\n",
      "9: True False\n",
      "10: False True\n",
      "11: False False\n",
      "12: False False\n"
     ]
    }
   ],
   "source": [
    "for i,df in enumerate(df_list):\n",
    "    print(f\"{i}:\",df.isna().any().any(),df.duplicated().any().any())\n"
   ]
  },
  {
   "cell_type": "code",
   "execution_count": 6,
   "metadata": {},
   "outputs": [
    {
     "data": {
      "text/plain": [
       "home_team            0\n",
       "away_team            0\n",
       "home_goals           0\n",
       "away_goals           0\n",
       "home_shots           5\n",
       "away_shots           5\n",
       "home_possesion       5\n",
       "away_possesion       5\n",
       "home_pass_success    5\n",
       "away_pass_success    5\n",
       "home_dribbles        5\n",
       "away_dribbles        5\n",
       "home_aerials_won     5\n",
       "away_aerials_won     5\n",
       "home_tackles         5\n",
       "away_tackles         5\n",
       "home_corners         5\n",
       "away_corners         5\n",
       "home_dispossessed    5\n",
       "away_dispossessed    5\n",
       "dtype: int64"
      ]
     },
     "execution_count": 6,
     "metadata": {},
     "output_type": "execute_result"
    }
   ],
   "source": [
    "df_list[9].isna().sum()"
   ]
  },
  {
   "cell_type": "code",
   "execution_count": 7,
   "metadata": {},
   "outputs": [],
   "source": [
    "df  = df_list[9]\n",
    "null_rows = df.isnull().any(axis=1)\n",
    "null_rows_index = null_rows[null_rows == True].index\n",
    "for i in null_rows_index:\n",
    "    for col in ['home_shots','away_shots',  'home_dribbles', 'away_dribbles','home_aerials_won', 'away_aerials_won', 'home_tackles', 'away_tackles','home_corners', 'away_corners', 'home_dispossessed','away_dispossessed']:\n",
    "         team_col = col.split('_')[0] + '_team'\n",
    "         team = df.loc[i,:][team_col]\n",
    "         v = int(df[df[team_col]==team][col].astype(float).mean())\n",
    "         df.loc[i,:][col]= v\n",
    "\n",
    "for i in null_rows_index:\n",
    "    for col in ['home_possesion', 'away_possesion', 'home_pass_success','away_pass_success']:\n",
    "         team_col = col.split('_')[0] + '_team'\n",
    "         team = df.loc[i,:][team_col]\n",
    "         v = df[df[team_col]==team][col].astype(float).mean()\n",
    "         df.loc[i,:][col]= v\n",
    "\n",
    "df_list[9]=df"
   ]
  },
  {
   "cell_type": "code",
   "execution_count": 8,
   "metadata": {},
   "outputs": [],
   "source": [
    "df_list[10].drop_duplicates(inplace=True)\n",
    "df_list[10].reset_index(drop=True,inplace=True)\n",
    "\n",
    "\n"
   ]
  },
  {
   "cell_type": "code",
   "execution_count": 9,
   "metadata": {},
   "outputs": [
    {
     "name": "stdout",
     "output_type": "stream",
     "text": [
      "<class 'pandas.core.frame.DataFrame'>\n",
      "RangeIndex: 380 entries, 0 to 379\n",
      "Data columns (total 20 columns):\n",
      " #   Column             Non-Null Count  Dtype \n",
      "---  ------             --------------  ----- \n",
      " 0   home_team          380 non-null    object\n",
      " 1   away_team          380 non-null    object\n",
      " 2   home_goals         380 non-null    object\n",
      " 3   away_goals         380 non-null    object\n",
      " 4   home_shots         380 non-null    object\n",
      " 5   away_shots         380 non-null    object\n",
      " 6   home_possesion     380 non-null    object\n",
      " 7   away_possesion     380 non-null    object\n",
      " 8   home_pass_success  380 non-null    object\n",
      " 9   away_pass_success  380 non-null    object\n",
      " 10  home_dribbles      380 non-null    object\n",
      " 11  away_dribbles      380 non-null    object\n",
      " 12  home_aerials_won   380 non-null    object\n",
      " 13  away_aerials_won   380 non-null    object\n",
      " 14  home_tackles       380 non-null    object\n",
      " 15  away_tackles       380 non-null    object\n",
      " 16  home_corners       380 non-null    object\n",
      " 17  away_corners       380 non-null    object\n",
      " 18  home_dispossessed  380 non-null    object\n",
      " 19  away_dispossessed  380 non-null    object\n",
      "dtypes: object(20)\n",
      "memory usage: 59.5+ KB\n"
     ]
    }
   ],
   "source": [
    "df_list[0].info()"
   ]
  },
  {
   "cell_type": "code",
   "execution_count": 10,
   "metadata": {},
   "outputs": [],
   "source": [
    "def to_flt(cols,df):\n",
    "    df[cols]=df[cols].astype('float')\n",
    "def to_int(cols,df):\n",
    "    df[cols]=df[cols].astype('int')\n",
    "\n",
    "int_cols = ['home_goals','away_goals','home_shots','away_shots',  'home_dribbles', 'away_dribbles','home_aerials_won', 'away_aerials_won', 'home_tackles', 'away_tackles','home_corners', 'away_corners', 'home_dispossessed','away_dispossessed']\n",
    "float_cols = ['home_possesion','away_possesion','home_pass_success','away_pass_success']\n",
    "for df in df_list:\n",
    "    to_int(int_cols,df)\n",
    "    to_flt(float_cols,df)\n"
   ]
  },
  {
   "cell_type": "code",
   "execution_count": 11,
   "metadata": {},
   "outputs": [
    {
     "name": "stdout",
     "output_type": "stream",
     "text": [
      "<class 'pandas.core.frame.DataFrame'>\n",
      "RangeIndex: 380 entries, 0 to 379\n",
      "Data columns (total 20 columns):\n",
      " #   Column             Non-Null Count  Dtype  \n",
      "---  ------             --------------  -----  \n",
      " 0   home_team          380 non-null    object \n",
      " 1   away_team          380 non-null    object \n",
      " 2   home_goals         380 non-null    int32  \n",
      " 3   away_goals         380 non-null    int32  \n",
      " 4   home_shots         380 non-null    int32  \n",
      " 5   away_shots         380 non-null    int32  \n",
      " 6   home_possesion     380 non-null    float64\n",
      " 7   away_possesion     380 non-null    float64\n",
      " 8   home_pass_success  380 non-null    float64\n",
      " 9   away_pass_success  380 non-null    float64\n",
      " 10  home_dribbles      380 non-null    int32  \n",
      " 11  away_dribbles      380 non-null    int32  \n",
      " 12  home_aerials_won   380 non-null    int32  \n",
      " 13  away_aerials_won   380 non-null    int32  \n",
      " 14  home_tackles       380 non-null    int32  \n",
      " 15  away_tackles       380 non-null    int32  \n",
      " 16  home_corners       380 non-null    int32  \n",
      " 17  away_corners       380 non-null    int32  \n",
      " 18  home_dispossessed  380 non-null    int32  \n",
      " 19  away_dispossessed  380 non-null    int32  \n",
      "dtypes: float64(4), int32(14), object(2)\n",
      "memory usage: 38.7+ KB\n"
     ]
    }
   ],
   "source": [
    "df_list[0].info()"
   ]
  },
  {
   "cell_type": "code",
   "execution_count": 12,
   "metadata": {},
   "outputs": [],
   "source": [
    "for i , df in enumerate(df_list):\n",
    "    df[\"season\"] = f\"{i+2010}-{2010+i+1}\""
   ]
  },
  {
   "cell_type": "code",
   "execution_count": 13,
   "metadata": {},
   "outputs": [
    {
     "data": {
      "text/html": [
       "<div>\n",
       "<style scoped>\n",
       "    .dataframe tbody tr th:only-of-type {\n",
       "        vertical-align: middle;\n",
       "    }\n",
       "\n",
       "    .dataframe tbody tr th {\n",
       "        vertical-align: top;\n",
       "    }\n",
       "\n",
       "    .dataframe thead th {\n",
       "        text-align: right;\n",
       "    }\n",
       "</style>\n",
       "<table border=\"1\" class=\"dataframe\">\n",
       "  <thead>\n",
       "    <tr style=\"text-align: right;\">\n",
       "      <th></th>\n",
       "      <th>home_team</th>\n",
       "      <th>away_team</th>\n",
       "      <th>home_goals</th>\n",
       "      <th>away_goals</th>\n",
       "      <th>home_shots</th>\n",
       "      <th>away_shots</th>\n",
       "      <th>home_possesion</th>\n",
       "      <th>away_possesion</th>\n",
       "      <th>home_pass_success</th>\n",
       "      <th>away_pass_success</th>\n",
       "      <th>...</th>\n",
       "      <th>away_dribbles</th>\n",
       "      <th>home_aerials_won</th>\n",
       "      <th>away_aerials_won</th>\n",
       "      <th>home_tackles</th>\n",
       "      <th>away_tackles</th>\n",
       "      <th>home_corners</th>\n",
       "      <th>away_corners</th>\n",
       "      <th>home_dispossessed</th>\n",
       "      <th>away_dispossessed</th>\n",
       "      <th>season</th>\n",
       "    </tr>\n",
       "  </thead>\n",
       "  <tbody>\n",
       "    <tr>\n",
       "      <th>0</th>\n",
       "      <td>Birmingham</td>\n",
       "      <td>Wolverhampton</td>\n",
       "      <td>1</td>\n",
       "      <td>1</td>\n",
       "      <td>8</td>\n",
       "      <td>11</td>\n",
       "      <td>42.9</td>\n",
       "      <td>57.1</td>\n",
       "      <td>61.0</td>\n",
       "      <td>71.0</td>\n",
       "      <td>...</td>\n",
       "      <td>3</td>\n",
       "      <td>26</td>\n",
       "      <td>18</td>\n",
       "      <td>15</td>\n",
       "      <td>11</td>\n",
       "      <td>0</td>\n",
       "      <td>2</td>\n",
       "      <td>9</td>\n",
       "      <td>10</td>\n",
       "      <td>2010-2011</td>\n",
       "    </tr>\n",
       "    <tr>\n",
       "      <th>1</th>\n",
       "      <td>Liverpool</td>\n",
       "      <td>Newcastle</td>\n",
       "      <td>3</td>\n",
       "      <td>0</td>\n",
       "      <td>14</td>\n",
       "      <td>11</td>\n",
       "      <td>46.3</td>\n",
       "      <td>53.7</td>\n",
       "      <td>78.0</td>\n",
       "      <td>85.0</td>\n",
       "      <td>...</td>\n",
       "      <td>9</td>\n",
       "      <td>8</td>\n",
       "      <td>12</td>\n",
       "      <td>26</td>\n",
       "      <td>7</td>\n",
       "      <td>3</td>\n",
       "      <td>12</td>\n",
       "      <td>4</td>\n",
       "      <td>11</td>\n",
       "      <td>2010-2011</td>\n",
       "    </tr>\n",
       "    <tr>\n",
       "      <th>2</th>\n",
       "      <td>Arsenal</td>\n",
       "      <td>Manchester United</td>\n",
       "      <td>1</td>\n",
       "      <td>0</td>\n",
       "      <td>10</td>\n",
       "      <td>12</td>\n",
       "      <td>54.9</td>\n",
       "      <td>45.1</td>\n",
       "      <td>82.0</td>\n",
       "      <td>76.0</td>\n",
       "      <td>...</td>\n",
       "      <td>6</td>\n",
       "      <td>18</td>\n",
       "      <td>11</td>\n",
       "      <td>22</td>\n",
       "      <td>25</td>\n",
       "      <td>3</td>\n",
       "      <td>6</td>\n",
       "      <td>20</td>\n",
       "      <td>16</td>\n",
       "      <td>2010-2011</td>\n",
       "    </tr>\n",
       "    <tr>\n",
       "      <th>3</th>\n",
       "      <td>Manchester City</td>\n",
       "      <td>West Ham</td>\n",
       "      <td>2</td>\n",
       "      <td>1</td>\n",
       "      <td>21</td>\n",
       "      <td>9</td>\n",
       "      <td>59.8</td>\n",
       "      <td>40.2</td>\n",
       "      <td>86.0</td>\n",
       "      <td>73.0</td>\n",
       "      <td>...</td>\n",
       "      <td>0</td>\n",
       "      <td>6</td>\n",
       "      <td>8</td>\n",
       "      <td>19</td>\n",
       "      <td>17</td>\n",
       "      <td>9</td>\n",
       "      <td>5</td>\n",
       "      <td>12</td>\n",
       "      <td>15</td>\n",
       "      <td>2010-2011</td>\n",
       "    </tr>\n",
       "    <tr>\n",
       "      <th>4</th>\n",
       "      <td>Everton</td>\n",
       "      <td>Manchester City</td>\n",
       "      <td>2</td>\n",
       "      <td>1</td>\n",
       "      <td>11</td>\n",
       "      <td>12</td>\n",
       "      <td>48.6</td>\n",
       "      <td>51.4</td>\n",
       "      <td>72.0</td>\n",
       "      <td>79.0</td>\n",
       "      <td>...</td>\n",
       "      <td>6</td>\n",
       "      <td>9</td>\n",
       "      <td>14</td>\n",
       "      <td>19</td>\n",
       "      <td>16</td>\n",
       "      <td>11</td>\n",
       "      <td>6</td>\n",
       "      <td>13</td>\n",
       "      <td>15</td>\n",
       "      <td>2010-2011</td>\n",
       "    </tr>\n",
       "    <tr>\n",
       "      <th>...</th>\n",
       "      <td>...</td>\n",
       "      <td>...</td>\n",
       "      <td>...</td>\n",
       "      <td>...</td>\n",
       "      <td>...</td>\n",
       "      <td>...</td>\n",
       "      <td>...</td>\n",
       "      <td>...</td>\n",
       "      <td>...</td>\n",
       "      <td>...</td>\n",
       "      <td>...</td>\n",
       "      <td>...</td>\n",
       "      <td>...</td>\n",
       "      <td>...</td>\n",
       "      <td>...</td>\n",
       "      <td>...</td>\n",
       "      <td>...</td>\n",
       "      <td>...</td>\n",
       "      <td>...</td>\n",
       "      <td>...</td>\n",
       "      <td>...</td>\n",
       "    </tr>\n",
       "    <tr>\n",
       "      <th>375</th>\n",
       "      <td>Manchester United</td>\n",
       "      <td>West Ham</td>\n",
       "      <td>3</td>\n",
       "      <td>0</td>\n",
       "      <td>21</td>\n",
       "      <td>8</td>\n",
       "      <td>60.3</td>\n",
       "      <td>39.7</td>\n",
       "      <td>88.0</td>\n",
       "      <td>84.0</td>\n",
       "      <td>...</td>\n",
       "      <td>9</td>\n",
       "      <td>5</td>\n",
       "      <td>4</td>\n",
       "      <td>31</td>\n",
       "      <td>24</td>\n",
       "      <td>9</td>\n",
       "      <td>3</td>\n",
       "      <td>13</td>\n",
       "      <td>15</td>\n",
       "      <td>2010-2011</td>\n",
       "    </tr>\n",
       "    <tr>\n",
       "      <th>376</th>\n",
       "      <td>Bolton</td>\n",
       "      <td>Birmingham</td>\n",
       "      <td>2</td>\n",
       "      <td>2</td>\n",
       "      <td>15</td>\n",
       "      <td>9</td>\n",
       "      <td>50.8</td>\n",
       "      <td>49.2</td>\n",
       "      <td>71.0</td>\n",
       "      <td>58.0</td>\n",
       "      <td>...</td>\n",
       "      <td>5</td>\n",
       "      <td>22</td>\n",
       "      <td>9</td>\n",
       "      <td>24</td>\n",
       "      <td>17</td>\n",
       "      <td>6</td>\n",
       "      <td>1</td>\n",
       "      <td>16</td>\n",
       "      <td>15</td>\n",
       "      <td>2010-2011</td>\n",
       "    </tr>\n",
       "    <tr>\n",
       "      <th>377</th>\n",
       "      <td>Liverpool</td>\n",
       "      <td>West Bromwich</td>\n",
       "      <td>1</td>\n",
       "      <td>0</td>\n",
       "      <td>11</td>\n",
       "      <td>16</td>\n",
       "      <td>51.0</td>\n",
       "      <td>49.0</td>\n",
       "      <td>76.0</td>\n",
       "      <td>76.0</td>\n",
       "      <td>...</td>\n",
       "      <td>8</td>\n",
       "      <td>6</td>\n",
       "      <td>14</td>\n",
       "      <td>26</td>\n",
       "      <td>24</td>\n",
       "      <td>7</td>\n",
       "      <td>6</td>\n",
       "      <td>12</td>\n",
       "      <td>21</td>\n",
       "      <td>2010-2011</td>\n",
       "    </tr>\n",
       "    <tr>\n",
       "      <th>378</th>\n",
       "      <td>Sunderland</td>\n",
       "      <td>Manchester City</td>\n",
       "      <td>1</td>\n",
       "      <td>0</td>\n",
       "      <td>18</td>\n",
       "      <td>10</td>\n",
       "      <td>41.7</td>\n",
       "      <td>58.3</td>\n",
       "      <td>72.0</td>\n",
       "      <td>81.0</td>\n",
       "      <td>...</td>\n",
       "      <td>9</td>\n",
       "      <td>7</td>\n",
       "      <td>12</td>\n",
       "      <td>33</td>\n",
       "      <td>29</td>\n",
       "      <td>3</td>\n",
       "      <td>8</td>\n",
       "      <td>9</td>\n",
       "      <td>20</td>\n",
       "      <td>2010-2011</td>\n",
       "    </tr>\n",
       "    <tr>\n",
       "      <th>379</th>\n",
       "      <td>Aston Villa</td>\n",
       "      <td>Everton</td>\n",
       "      <td>1</td>\n",
       "      <td>0</td>\n",
       "      <td>15</td>\n",
       "      <td>23</td>\n",
       "      <td>31.7</td>\n",
       "      <td>68.3</td>\n",
       "      <td>60.0</td>\n",
       "      <td>78.0</td>\n",
       "      <td>...</td>\n",
       "      <td>10</td>\n",
       "      <td>14</td>\n",
       "      <td>8</td>\n",
       "      <td>22</td>\n",
       "      <td>11</td>\n",
       "      <td>4</td>\n",
       "      <td>18</td>\n",
       "      <td>6</td>\n",
       "      <td>14</td>\n",
       "      <td>2010-2011</td>\n",
       "    </tr>\n",
       "  </tbody>\n",
       "</table>\n",
       "<p>380 rows × 21 columns</p>\n",
       "</div>"
      ],
      "text/plain": [
       "             home_team          away_team  home_goals  away_goals  home_shots  \\\n",
       "0           Birmingham      Wolverhampton           1           1           8   \n",
       "1            Liverpool          Newcastle           3           0          14   \n",
       "2              Arsenal  Manchester United           1           0          10   \n",
       "3      Manchester City           West Ham           2           1          21   \n",
       "4              Everton    Manchester City           2           1          11   \n",
       "..                 ...                ...         ...         ...         ...   \n",
       "375  Manchester United           West Ham           3           0          21   \n",
       "376             Bolton         Birmingham           2           2          15   \n",
       "377          Liverpool      West Bromwich           1           0          11   \n",
       "378         Sunderland    Manchester City           1           0          18   \n",
       "379        Aston Villa            Everton           1           0          15   \n",
       "\n",
       "     away_shots  home_possesion  away_possesion  home_pass_success  \\\n",
       "0            11            42.9            57.1               61.0   \n",
       "1            11            46.3            53.7               78.0   \n",
       "2            12            54.9            45.1               82.0   \n",
       "3             9            59.8            40.2               86.0   \n",
       "4            12            48.6            51.4               72.0   \n",
       "..          ...             ...             ...                ...   \n",
       "375           8            60.3            39.7               88.0   \n",
       "376           9            50.8            49.2               71.0   \n",
       "377          16            51.0            49.0               76.0   \n",
       "378          10            41.7            58.3               72.0   \n",
       "379          23            31.7            68.3               60.0   \n",
       "\n",
       "     away_pass_success  ...  away_dribbles  home_aerials_won  \\\n",
       "0                 71.0  ...              3                26   \n",
       "1                 85.0  ...              9                 8   \n",
       "2                 76.0  ...              6                18   \n",
       "3                 73.0  ...              0                 6   \n",
       "4                 79.0  ...              6                 9   \n",
       "..                 ...  ...            ...               ...   \n",
       "375               84.0  ...              9                 5   \n",
       "376               58.0  ...              5                22   \n",
       "377               76.0  ...              8                 6   \n",
       "378               81.0  ...              9                 7   \n",
       "379               78.0  ...             10                14   \n",
       "\n",
       "     away_aerials_won  home_tackles  away_tackles  home_corners  away_corners  \\\n",
       "0                  18            15            11             0             2   \n",
       "1                  12            26             7             3            12   \n",
       "2                  11            22            25             3             6   \n",
       "3                   8            19            17             9             5   \n",
       "4                  14            19            16            11             6   \n",
       "..                ...           ...           ...           ...           ...   \n",
       "375                 4            31            24             9             3   \n",
       "376                 9            24            17             6             1   \n",
       "377                14            26            24             7             6   \n",
       "378                12            33            29             3             8   \n",
       "379                 8            22            11             4            18   \n",
       "\n",
       "     home_dispossessed  away_dispossessed     season  \n",
       "0                    9                 10  2010-2011  \n",
       "1                    4                 11  2010-2011  \n",
       "2                   20                 16  2010-2011  \n",
       "3                   12                 15  2010-2011  \n",
       "4                   13                 15  2010-2011  \n",
       "..                 ...                ...        ...  \n",
       "375                 13                 15  2010-2011  \n",
       "376                 16                 15  2010-2011  \n",
       "377                 12                 21  2010-2011  \n",
       "378                  9                 20  2010-2011  \n",
       "379                  6                 14  2010-2011  \n",
       "\n",
       "[380 rows x 21 columns]"
      ]
     },
     "execution_count": 13,
     "metadata": {},
     "output_type": "execute_result"
    }
   ],
   "source": [
    "df_list[0]"
   ]
  },
  {
   "cell_type": "code",
   "execution_count": 14,
   "metadata": {},
   "outputs": [],
   "source": [
    "df=pd.concat(df_list)"
   ]
  },
  {
   "cell_type": "code",
   "execution_count": 15,
   "metadata": {},
   "outputs": [
    {
     "data": {
      "text/html": [
       "<div>\n",
       "<style scoped>\n",
       "    .dataframe tbody tr th:only-of-type {\n",
       "        vertical-align: middle;\n",
       "    }\n",
       "\n",
       "    .dataframe tbody tr th {\n",
       "        vertical-align: top;\n",
       "    }\n",
       "\n",
       "    .dataframe thead th {\n",
       "        text-align: right;\n",
       "    }\n",
       "</style>\n",
       "<table border=\"1\" class=\"dataframe\">\n",
       "  <thead>\n",
       "    <tr style=\"text-align: right;\">\n",
       "      <th></th>\n",
       "      <th>home_team</th>\n",
       "      <th>away_team</th>\n",
       "      <th>home_goals</th>\n",
       "      <th>away_goals</th>\n",
       "      <th>home_shots</th>\n",
       "      <th>away_shots</th>\n",
       "      <th>home_possesion</th>\n",
       "      <th>away_possesion</th>\n",
       "      <th>home_pass_success</th>\n",
       "      <th>away_pass_success</th>\n",
       "      <th>...</th>\n",
       "      <th>away_dribbles</th>\n",
       "      <th>home_aerials_won</th>\n",
       "      <th>away_aerials_won</th>\n",
       "      <th>home_tackles</th>\n",
       "      <th>away_tackles</th>\n",
       "      <th>home_corners</th>\n",
       "      <th>away_corners</th>\n",
       "      <th>home_dispossessed</th>\n",
       "      <th>away_dispossessed</th>\n",
       "      <th>season</th>\n",
       "    </tr>\n",
       "  </thead>\n",
       "  <tbody>\n",
       "    <tr>\n",
       "      <th>0</th>\n",
       "      <td>Birmingham</td>\n",
       "      <td>Wolverhampton</td>\n",
       "      <td>1</td>\n",
       "      <td>1</td>\n",
       "      <td>8</td>\n",
       "      <td>11</td>\n",
       "      <td>42.9</td>\n",
       "      <td>57.1</td>\n",
       "      <td>61.0</td>\n",
       "      <td>71.0</td>\n",
       "      <td>...</td>\n",
       "      <td>3</td>\n",
       "      <td>26</td>\n",
       "      <td>18</td>\n",
       "      <td>15</td>\n",
       "      <td>11</td>\n",
       "      <td>0</td>\n",
       "      <td>2</td>\n",
       "      <td>9</td>\n",
       "      <td>10</td>\n",
       "      <td>2010-2011</td>\n",
       "    </tr>\n",
       "    <tr>\n",
       "      <th>1</th>\n",
       "      <td>Liverpool</td>\n",
       "      <td>Newcastle</td>\n",
       "      <td>3</td>\n",
       "      <td>0</td>\n",
       "      <td>14</td>\n",
       "      <td>11</td>\n",
       "      <td>46.3</td>\n",
       "      <td>53.7</td>\n",
       "      <td>78.0</td>\n",
       "      <td>85.0</td>\n",
       "      <td>...</td>\n",
       "      <td>9</td>\n",
       "      <td>8</td>\n",
       "      <td>12</td>\n",
       "      <td>26</td>\n",
       "      <td>7</td>\n",
       "      <td>3</td>\n",
       "      <td>12</td>\n",
       "      <td>4</td>\n",
       "      <td>11</td>\n",
       "      <td>2010-2011</td>\n",
       "    </tr>\n",
       "    <tr>\n",
       "      <th>2</th>\n",
       "      <td>Arsenal</td>\n",
       "      <td>Manchester United</td>\n",
       "      <td>1</td>\n",
       "      <td>0</td>\n",
       "      <td>10</td>\n",
       "      <td>12</td>\n",
       "      <td>54.9</td>\n",
       "      <td>45.1</td>\n",
       "      <td>82.0</td>\n",
       "      <td>76.0</td>\n",
       "      <td>...</td>\n",
       "      <td>6</td>\n",
       "      <td>18</td>\n",
       "      <td>11</td>\n",
       "      <td>22</td>\n",
       "      <td>25</td>\n",
       "      <td>3</td>\n",
       "      <td>6</td>\n",
       "      <td>20</td>\n",
       "      <td>16</td>\n",
       "      <td>2010-2011</td>\n",
       "    </tr>\n",
       "    <tr>\n",
       "      <th>3</th>\n",
       "      <td>Manchester City</td>\n",
       "      <td>West Ham</td>\n",
       "      <td>2</td>\n",
       "      <td>1</td>\n",
       "      <td>21</td>\n",
       "      <td>9</td>\n",
       "      <td>59.8</td>\n",
       "      <td>40.2</td>\n",
       "      <td>86.0</td>\n",
       "      <td>73.0</td>\n",
       "      <td>...</td>\n",
       "      <td>0</td>\n",
       "      <td>6</td>\n",
       "      <td>8</td>\n",
       "      <td>19</td>\n",
       "      <td>17</td>\n",
       "      <td>9</td>\n",
       "      <td>5</td>\n",
       "      <td>12</td>\n",
       "      <td>15</td>\n",
       "      <td>2010-2011</td>\n",
       "    </tr>\n",
       "    <tr>\n",
       "      <th>4</th>\n",
       "      <td>Everton</td>\n",
       "      <td>Manchester City</td>\n",
       "      <td>2</td>\n",
       "      <td>1</td>\n",
       "      <td>11</td>\n",
       "      <td>12</td>\n",
       "      <td>48.6</td>\n",
       "      <td>51.4</td>\n",
       "      <td>72.0</td>\n",
       "      <td>79.0</td>\n",
       "      <td>...</td>\n",
       "      <td>6</td>\n",
       "      <td>9</td>\n",
       "      <td>14</td>\n",
       "      <td>19</td>\n",
       "      <td>16</td>\n",
       "      <td>11</td>\n",
       "      <td>6</td>\n",
       "      <td>13</td>\n",
       "      <td>15</td>\n",
       "      <td>2010-2011</td>\n",
       "    </tr>\n",
       "    <tr>\n",
       "      <th>...</th>\n",
       "      <td>...</td>\n",
       "      <td>...</td>\n",
       "      <td>...</td>\n",
       "      <td>...</td>\n",
       "      <td>...</td>\n",
       "      <td>...</td>\n",
       "      <td>...</td>\n",
       "      <td>...</td>\n",
       "      <td>...</td>\n",
       "      <td>...</td>\n",
       "      <td>...</td>\n",
       "      <td>...</td>\n",
       "      <td>...</td>\n",
       "      <td>...</td>\n",
       "      <td>...</td>\n",
       "      <td>...</td>\n",
       "      <td>...</td>\n",
       "      <td>...</td>\n",
       "      <td>...</td>\n",
       "      <td>...</td>\n",
       "      <td>...</td>\n",
       "    </tr>\n",
       "    <tr>\n",
       "      <th>4786</th>\n",
       "      <td>Manchester City</td>\n",
       "      <td>Nottingham Forest</td>\n",
       "      <td>6</td>\n",
       "      <td>0</td>\n",
       "      <td>17</td>\n",
       "      <td>8</td>\n",
       "      <td>74.9</td>\n",
       "      <td>25.1</td>\n",
       "      <td>92.0</td>\n",
       "      <td>74.0</td>\n",
       "      <td>...</td>\n",
       "      <td>6</td>\n",
       "      <td>17</td>\n",
       "      <td>8</td>\n",
       "      <td>13</td>\n",
       "      <td>14</td>\n",
       "      <td>10</td>\n",
       "      <td>1</td>\n",
       "      <td>4</td>\n",
       "      <td>7</td>\n",
       "      <td>2022-2023</td>\n",
       "    </tr>\n",
       "    <tr>\n",
       "      <th>4787</th>\n",
       "      <td>Arsenal</td>\n",
       "      <td>Aston Villa</td>\n",
       "      <td>2</td>\n",
       "      <td>1</td>\n",
       "      <td>22</td>\n",
       "      <td>4</td>\n",
       "      <td>58.9</td>\n",
       "      <td>41.1</td>\n",
       "      <td>85.0</td>\n",
       "      <td>77.0</td>\n",
       "      <td>...</td>\n",
       "      <td>5</td>\n",
       "      <td>11</td>\n",
       "      <td>10</td>\n",
       "      <td>10</td>\n",
       "      <td>16</td>\n",
       "      <td>10</td>\n",
       "      <td>3</td>\n",
       "      <td>9</td>\n",
       "      <td>6</td>\n",
       "      <td>2022-2023</td>\n",
       "    </tr>\n",
       "    <tr>\n",
       "      <th>4788</th>\n",
       "      <td>Bournemouth</td>\n",
       "      <td>Wolverhampton</td>\n",
       "      <td>0</td>\n",
       "      <td>0</td>\n",
       "      <td>5</td>\n",
       "      <td>17</td>\n",
       "      <td>34.1</td>\n",
       "      <td>65.9</td>\n",
       "      <td>74.0</td>\n",
       "      <td>89.0</td>\n",
       "      <td>...</td>\n",
       "      <td>4</td>\n",
       "      <td>12</td>\n",
       "      <td>14</td>\n",
       "      <td>24</td>\n",
       "      <td>26</td>\n",
       "      <td>2</td>\n",
       "      <td>5</td>\n",
       "      <td>13</td>\n",
       "      <td>15</td>\n",
       "      <td>2022-2023</td>\n",
       "    </tr>\n",
       "    <tr>\n",
       "      <th>4789</th>\n",
       "      <td>West Ham</td>\n",
       "      <td>Tottenham</td>\n",
       "      <td>1</td>\n",
       "      <td>1</td>\n",
       "      <td>14</td>\n",
       "      <td>12</td>\n",
       "      <td>38.3</td>\n",
       "      <td>61.7</td>\n",
       "      <td>83.0</td>\n",
       "      <td>89.0</td>\n",
       "      <td>...</td>\n",
       "      <td>5</td>\n",
       "      <td>18</td>\n",
       "      <td>10</td>\n",
       "      <td>13</td>\n",
       "      <td>7</td>\n",
       "      <td>3</td>\n",
       "      <td>4</td>\n",
       "      <td>1</td>\n",
       "      <td>9</td>\n",
       "      <td>2022-2023</td>\n",
       "    </tr>\n",
       "    <tr>\n",
       "      <th>4790</th>\n",
       "      <td>Liverpool</td>\n",
       "      <td>Newcastle</td>\n",
       "      <td>2</td>\n",
       "      <td>1</td>\n",
       "      <td>23</td>\n",
       "      <td>5</td>\n",
       "      <td>71.8</td>\n",
       "      <td>28.2</td>\n",
       "      <td>84.0</td>\n",
       "      <td>64.0</td>\n",
       "      <td>...</td>\n",
       "      <td>6</td>\n",
       "      <td>15</td>\n",
       "      <td>22</td>\n",
       "      <td>7</td>\n",
       "      <td>23</td>\n",
       "      <td>13</td>\n",
       "      <td>0</td>\n",
       "      <td>10</td>\n",
       "      <td>3</td>\n",
       "      <td>2022-2023</td>\n",
       "    </tr>\n",
       "  </tbody>\n",
       "</table>\n",
       "<p>4791 rows × 21 columns</p>\n",
       "</div>"
      ],
      "text/plain": [
       "            home_team          away_team  home_goals  away_goals  home_shots  \\\n",
       "0          Birmingham      Wolverhampton           1           1           8   \n",
       "1           Liverpool          Newcastle           3           0          14   \n",
       "2             Arsenal  Manchester United           1           0          10   \n",
       "3     Manchester City           West Ham           2           1          21   \n",
       "4             Everton    Manchester City           2           1          11   \n",
       "...               ...                ...         ...         ...         ...   \n",
       "4786  Manchester City  Nottingham Forest           6           0          17   \n",
       "4787          Arsenal        Aston Villa           2           1          22   \n",
       "4788      Bournemouth      Wolverhampton           0           0           5   \n",
       "4789         West Ham          Tottenham           1           1          14   \n",
       "4790        Liverpool          Newcastle           2           1          23   \n",
       "\n",
       "      away_shots  home_possesion  away_possesion  home_pass_success  \\\n",
       "0             11            42.9            57.1               61.0   \n",
       "1             11            46.3            53.7               78.0   \n",
       "2             12            54.9            45.1               82.0   \n",
       "3              9            59.8            40.2               86.0   \n",
       "4             12            48.6            51.4               72.0   \n",
       "...          ...             ...             ...                ...   \n",
       "4786           8            74.9            25.1               92.0   \n",
       "4787           4            58.9            41.1               85.0   \n",
       "4788          17            34.1            65.9               74.0   \n",
       "4789          12            38.3            61.7               83.0   \n",
       "4790           5            71.8            28.2               84.0   \n",
       "\n",
       "      away_pass_success  ...  away_dribbles  home_aerials_won  \\\n",
       "0                  71.0  ...              3                26   \n",
       "1                  85.0  ...              9                 8   \n",
       "2                  76.0  ...              6                18   \n",
       "3                  73.0  ...              0                 6   \n",
       "4                  79.0  ...              6                 9   \n",
       "...                 ...  ...            ...               ...   \n",
       "4786               74.0  ...              6                17   \n",
       "4787               77.0  ...              5                11   \n",
       "4788               89.0  ...              4                12   \n",
       "4789               89.0  ...              5                18   \n",
       "4790               64.0  ...              6                15   \n",
       "\n",
       "      away_aerials_won  home_tackles  away_tackles  home_corners  \\\n",
       "0                   18            15            11             0   \n",
       "1                   12            26             7             3   \n",
       "2                   11            22            25             3   \n",
       "3                    8            19            17             9   \n",
       "4                   14            19            16            11   \n",
       "...                ...           ...           ...           ...   \n",
       "4786                 8            13            14            10   \n",
       "4787                10            10            16            10   \n",
       "4788                14            24            26             2   \n",
       "4789                10            13             7             3   \n",
       "4790                22             7            23            13   \n",
       "\n",
       "      away_corners  home_dispossessed  away_dispossessed     season  \n",
       "0                2                  9                 10  2010-2011  \n",
       "1               12                  4                 11  2010-2011  \n",
       "2                6                 20                 16  2010-2011  \n",
       "3                5                 12                 15  2010-2011  \n",
       "4                6                 13                 15  2010-2011  \n",
       "...            ...                ...                ...        ...  \n",
       "4786             1                  4                  7  2022-2023  \n",
       "4787             3                  9                  6  2022-2023  \n",
       "4788             5                 13                 15  2022-2023  \n",
       "4789             4                  1                  9  2022-2023  \n",
       "4790             0                 10                  3  2022-2023  \n",
       "\n",
       "[4791 rows x 21 columns]"
      ]
     },
     "execution_count": 15,
     "metadata": {},
     "output_type": "execute_result"
    }
   ],
   "source": [
    "df.reset_index(drop=True,inplace=True)\n",
    "df"
   ]
  },
  {
   "cell_type": "code",
   "execution_count": 16,
   "metadata": {},
   "outputs": [],
   "source": [
    "df[\"result\"] = df.apply(lambda df : \"W\" if df[\"home_goals\"]>df[\"away_goals\"] else(\"L\" if df[\"home_goals\"]<df[\"away_goals\"] else \"D\"),axis = 1)"
   ]
  },
  {
   "cell_type": "code",
   "execution_count": 17,
   "metadata": {},
   "outputs": [
    {
     "data": {
      "text/html": [
       "<div>\n",
       "<style scoped>\n",
       "    .dataframe tbody tr th:only-of-type {\n",
       "        vertical-align: middle;\n",
       "    }\n",
       "\n",
       "    .dataframe tbody tr th {\n",
       "        vertical-align: top;\n",
       "    }\n",
       "\n",
       "    .dataframe thead th {\n",
       "        text-align: right;\n",
       "    }\n",
       "</style>\n",
       "<table border=\"1\" class=\"dataframe\">\n",
       "  <thead>\n",
       "    <tr style=\"text-align: right;\">\n",
       "      <th></th>\n",
       "      <th>home_team</th>\n",
       "      <th>away_team</th>\n",
       "      <th>home_goals</th>\n",
       "      <th>away_goals</th>\n",
       "      <th>home_shots</th>\n",
       "      <th>away_shots</th>\n",
       "      <th>home_possesion</th>\n",
       "      <th>away_possesion</th>\n",
       "      <th>home_pass_success</th>\n",
       "      <th>away_pass_success</th>\n",
       "      <th>...</th>\n",
       "      <th>home_aerials_won</th>\n",
       "      <th>away_aerials_won</th>\n",
       "      <th>home_tackles</th>\n",
       "      <th>away_tackles</th>\n",
       "      <th>home_corners</th>\n",
       "      <th>away_corners</th>\n",
       "      <th>home_dispossessed</th>\n",
       "      <th>away_dispossessed</th>\n",
       "      <th>season</th>\n",
       "      <th>result</th>\n",
       "    </tr>\n",
       "  </thead>\n",
       "  <tbody>\n",
       "    <tr>\n",
       "      <th>0</th>\n",
       "      <td>Birmingham</td>\n",
       "      <td>Wolverhampton</td>\n",
       "      <td>1</td>\n",
       "      <td>1</td>\n",
       "      <td>8</td>\n",
       "      <td>11</td>\n",
       "      <td>42.9</td>\n",
       "      <td>57.1</td>\n",
       "      <td>61.0</td>\n",
       "      <td>71.0</td>\n",
       "      <td>...</td>\n",
       "      <td>26</td>\n",
       "      <td>18</td>\n",
       "      <td>15</td>\n",
       "      <td>11</td>\n",
       "      <td>0</td>\n",
       "      <td>2</td>\n",
       "      <td>9</td>\n",
       "      <td>10</td>\n",
       "      <td>2010-2011</td>\n",
       "      <td>D</td>\n",
       "    </tr>\n",
       "    <tr>\n",
       "      <th>1</th>\n",
       "      <td>Liverpool</td>\n",
       "      <td>Newcastle</td>\n",
       "      <td>3</td>\n",
       "      <td>0</td>\n",
       "      <td>14</td>\n",
       "      <td>11</td>\n",
       "      <td>46.3</td>\n",
       "      <td>53.7</td>\n",
       "      <td>78.0</td>\n",
       "      <td>85.0</td>\n",
       "      <td>...</td>\n",
       "      <td>8</td>\n",
       "      <td>12</td>\n",
       "      <td>26</td>\n",
       "      <td>7</td>\n",
       "      <td>3</td>\n",
       "      <td>12</td>\n",
       "      <td>4</td>\n",
       "      <td>11</td>\n",
       "      <td>2010-2011</td>\n",
       "      <td>W</td>\n",
       "    </tr>\n",
       "    <tr>\n",
       "      <th>2</th>\n",
       "      <td>Arsenal</td>\n",
       "      <td>Manchester United</td>\n",
       "      <td>1</td>\n",
       "      <td>0</td>\n",
       "      <td>10</td>\n",
       "      <td>12</td>\n",
       "      <td>54.9</td>\n",
       "      <td>45.1</td>\n",
       "      <td>82.0</td>\n",
       "      <td>76.0</td>\n",
       "      <td>...</td>\n",
       "      <td>18</td>\n",
       "      <td>11</td>\n",
       "      <td>22</td>\n",
       "      <td>25</td>\n",
       "      <td>3</td>\n",
       "      <td>6</td>\n",
       "      <td>20</td>\n",
       "      <td>16</td>\n",
       "      <td>2010-2011</td>\n",
       "      <td>W</td>\n",
       "    </tr>\n",
       "    <tr>\n",
       "      <th>3</th>\n",
       "      <td>Manchester City</td>\n",
       "      <td>West Ham</td>\n",
       "      <td>2</td>\n",
       "      <td>1</td>\n",
       "      <td>21</td>\n",
       "      <td>9</td>\n",
       "      <td>59.8</td>\n",
       "      <td>40.2</td>\n",
       "      <td>86.0</td>\n",
       "      <td>73.0</td>\n",
       "      <td>...</td>\n",
       "      <td>6</td>\n",
       "      <td>8</td>\n",
       "      <td>19</td>\n",
       "      <td>17</td>\n",
       "      <td>9</td>\n",
       "      <td>5</td>\n",
       "      <td>12</td>\n",
       "      <td>15</td>\n",
       "      <td>2010-2011</td>\n",
       "      <td>W</td>\n",
       "    </tr>\n",
       "    <tr>\n",
       "      <th>4</th>\n",
       "      <td>Everton</td>\n",
       "      <td>Manchester City</td>\n",
       "      <td>2</td>\n",
       "      <td>1</td>\n",
       "      <td>11</td>\n",
       "      <td>12</td>\n",
       "      <td>48.6</td>\n",
       "      <td>51.4</td>\n",
       "      <td>72.0</td>\n",
       "      <td>79.0</td>\n",
       "      <td>...</td>\n",
       "      <td>9</td>\n",
       "      <td>14</td>\n",
       "      <td>19</td>\n",
       "      <td>16</td>\n",
       "      <td>11</td>\n",
       "      <td>6</td>\n",
       "      <td>13</td>\n",
       "      <td>15</td>\n",
       "      <td>2010-2011</td>\n",
       "      <td>W</td>\n",
       "    </tr>\n",
       "    <tr>\n",
       "      <th>...</th>\n",
       "      <td>...</td>\n",
       "      <td>...</td>\n",
       "      <td>...</td>\n",
       "      <td>...</td>\n",
       "      <td>...</td>\n",
       "      <td>...</td>\n",
       "      <td>...</td>\n",
       "      <td>...</td>\n",
       "      <td>...</td>\n",
       "      <td>...</td>\n",
       "      <td>...</td>\n",
       "      <td>...</td>\n",
       "      <td>...</td>\n",
       "      <td>...</td>\n",
       "      <td>...</td>\n",
       "      <td>...</td>\n",
       "      <td>...</td>\n",
       "      <td>...</td>\n",
       "      <td>...</td>\n",
       "      <td>...</td>\n",
       "      <td>...</td>\n",
       "    </tr>\n",
       "    <tr>\n",
       "      <th>4786</th>\n",
       "      <td>Manchester City</td>\n",
       "      <td>Nottingham Forest</td>\n",
       "      <td>6</td>\n",
       "      <td>0</td>\n",
       "      <td>17</td>\n",
       "      <td>8</td>\n",
       "      <td>74.9</td>\n",
       "      <td>25.1</td>\n",
       "      <td>92.0</td>\n",
       "      <td>74.0</td>\n",
       "      <td>...</td>\n",
       "      <td>17</td>\n",
       "      <td>8</td>\n",
       "      <td>13</td>\n",
       "      <td>14</td>\n",
       "      <td>10</td>\n",
       "      <td>1</td>\n",
       "      <td>4</td>\n",
       "      <td>7</td>\n",
       "      <td>2022-2023</td>\n",
       "      <td>W</td>\n",
       "    </tr>\n",
       "    <tr>\n",
       "      <th>4787</th>\n",
       "      <td>Arsenal</td>\n",
       "      <td>Aston Villa</td>\n",
       "      <td>2</td>\n",
       "      <td>1</td>\n",
       "      <td>22</td>\n",
       "      <td>4</td>\n",
       "      <td>58.9</td>\n",
       "      <td>41.1</td>\n",
       "      <td>85.0</td>\n",
       "      <td>77.0</td>\n",
       "      <td>...</td>\n",
       "      <td>11</td>\n",
       "      <td>10</td>\n",
       "      <td>10</td>\n",
       "      <td>16</td>\n",
       "      <td>10</td>\n",
       "      <td>3</td>\n",
       "      <td>9</td>\n",
       "      <td>6</td>\n",
       "      <td>2022-2023</td>\n",
       "      <td>W</td>\n",
       "    </tr>\n",
       "    <tr>\n",
       "      <th>4788</th>\n",
       "      <td>Bournemouth</td>\n",
       "      <td>Wolverhampton</td>\n",
       "      <td>0</td>\n",
       "      <td>0</td>\n",
       "      <td>5</td>\n",
       "      <td>17</td>\n",
       "      <td>34.1</td>\n",
       "      <td>65.9</td>\n",
       "      <td>74.0</td>\n",
       "      <td>89.0</td>\n",
       "      <td>...</td>\n",
       "      <td>12</td>\n",
       "      <td>14</td>\n",
       "      <td>24</td>\n",
       "      <td>26</td>\n",
       "      <td>2</td>\n",
       "      <td>5</td>\n",
       "      <td>13</td>\n",
       "      <td>15</td>\n",
       "      <td>2022-2023</td>\n",
       "      <td>D</td>\n",
       "    </tr>\n",
       "    <tr>\n",
       "      <th>4789</th>\n",
       "      <td>West Ham</td>\n",
       "      <td>Tottenham</td>\n",
       "      <td>1</td>\n",
       "      <td>1</td>\n",
       "      <td>14</td>\n",
       "      <td>12</td>\n",
       "      <td>38.3</td>\n",
       "      <td>61.7</td>\n",
       "      <td>83.0</td>\n",
       "      <td>89.0</td>\n",
       "      <td>...</td>\n",
       "      <td>18</td>\n",
       "      <td>10</td>\n",
       "      <td>13</td>\n",
       "      <td>7</td>\n",
       "      <td>3</td>\n",
       "      <td>4</td>\n",
       "      <td>1</td>\n",
       "      <td>9</td>\n",
       "      <td>2022-2023</td>\n",
       "      <td>D</td>\n",
       "    </tr>\n",
       "    <tr>\n",
       "      <th>4790</th>\n",
       "      <td>Liverpool</td>\n",
       "      <td>Newcastle</td>\n",
       "      <td>2</td>\n",
       "      <td>1</td>\n",
       "      <td>23</td>\n",
       "      <td>5</td>\n",
       "      <td>71.8</td>\n",
       "      <td>28.2</td>\n",
       "      <td>84.0</td>\n",
       "      <td>64.0</td>\n",
       "      <td>...</td>\n",
       "      <td>15</td>\n",
       "      <td>22</td>\n",
       "      <td>7</td>\n",
       "      <td>23</td>\n",
       "      <td>13</td>\n",
       "      <td>0</td>\n",
       "      <td>10</td>\n",
       "      <td>3</td>\n",
       "      <td>2022-2023</td>\n",
       "      <td>W</td>\n",
       "    </tr>\n",
       "  </tbody>\n",
       "</table>\n",
       "<p>4791 rows × 22 columns</p>\n",
       "</div>"
      ],
      "text/plain": [
       "            home_team          away_team  home_goals  away_goals  home_shots  \\\n",
       "0          Birmingham      Wolverhampton           1           1           8   \n",
       "1           Liverpool          Newcastle           3           0          14   \n",
       "2             Arsenal  Manchester United           1           0          10   \n",
       "3     Manchester City           West Ham           2           1          21   \n",
       "4             Everton    Manchester City           2           1          11   \n",
       "...               ...                ...         ...         ...         ...   \n",
       "4786  Manchester City  Nottingham Forest           6           0          17   \n",
       "4787          Arsenal        Aston Villa           2           1          22   \n",
       "4788      Bournemouth      Wolverhampton           0           0           5   \n",
       "4789         West Ham          Tottenham           1           1          14   \n",
       "4790        Liverpool          Newcastle           2           1          23   \n",
       "\n",
       "      away_shots  home_possesion  away_possesion  home_pass_success  \\\n",
       "0             11            42.9            57.1               61.0   \n",
       "1             11            46.3            53.7               78.0   \n",
       "2             12            54.9            45.1               82.0   \n",
       "3              9            59.8            40.2               86.0   \n",
       "4             12            48.6            51.4               72.0   \n",
       "...          ...             ...             ...                ...   \n",
       "4786           8            74.9            25.1               92.0   \n",
       "4787           4            58.9            41.1               85.0   \n",
       "4788          17            34.1            65.9               74.0   \n",
       "4789          12            38.3            61.7               83.0   \n",
       "4790           5            71.8            28.2               84.0   \n",
       "\n",
       "      away_pass_success  ...  home_aerials_won  away_aerials_won  \\\n",
       "0                  71.0  ...                26                18   \n",
       "1                  85.0  ...                 8                12   \n",
       "2                  76.0  ...                18                11   \n",
       "3                  73.0  ...                 6                 8   \n",
       "4                  79.0  ...                 9                14   \n",
       "...                 ...  ...               ...               ...   \n",
       "4786               74.0  ...                17                 8   \n",
       "4787               77.0  ...                11                10   \n",
       "4788               89.0  ...                12                14   \n",
       "4789               89.0  ...                18                10   \n",
       "4790               64.0  ...                15                22   \n",
       "\n",
       "      home_tackles  away_tackles  home_corners  away_corners  \\\n",
       "0               15            11             0             2   \n",
       "1               26             7             3            12   \n",
       "2               22            25             3             6   \n",
       "3               19            17             9             5   \n",
       "4               19            16            11             6   \n",
       "...            ...           ...           ...           ...   \n",
       "4786            13            14            10             1   \n",
       "4787            10            16            10             3   \n",
       "4788            24            26             2             5   \n",
       "4789            13             7             3             4   \n",
       "4790             7            23            13             0   \n",
       "\n",
       "      home_dispossessed  away_dispossessed     season  result  \n",
       "0                     9                 10  2010-2011       D  \n",
       "1                     4                 11  2010-2011       W  \n",
       "2                    20                 16  2010-2011       W  \n",
       "3                    12                 15  2010-2011       W  \n",
       "4                    13                 15  2010-2011       W  \n",
       "...                 ...                ...        ...     ...  \n",
       "4786                  4                  7  2022-2023       W  \n",
       "4787                  9                  6  2022-2023       W  \n",
       "4788                 13                 15  2022-2023       D  \n",
       "4789                  1                  9  2022-2023       D  \n",
       "4790                 10                  3  2022-2023       W  \n",
       "\n",
       "[4791 rows x 22 columns]"
      ]
     },
     "execution_count": 17,
     "metadata": {},
     "output_type": "execute_result"
    }
   ],
   "source": [
    "df"
   ]
  },
  {
   "cell_type": "markdown",
   "metadata": {},
   "source": [
    "## Data Analysis"
   ]
  },
  {
   "attachments": {},
   "cell_type": "markdown",
   "metadata": {},
   "source": [
    "### Goals per season"
   ]
  },
  {
   "cell_type": "code",
   "execution_count": 18,
   "metadata": {},
   "outputs": [
    {
     "name": "stderr",
     "output_type": "stream",
     "text": [
      "C:\\Users\\PC2\\AppData\\Local\\Temp/ipykernel_3352/673946050.py:2: FutureWarning: Indexing with multiple keys (implicitly converted to a tuple of keys) will be deprecated, use a list instead.\n",
      "  goals_per_season = df.groupby('season')['home_goals', 'away_goals'].sum().reset_index()\n"
     ]
    },
    {
     "data": {
      "application/vnd.plotly.v1+json": {
       "config": {
        "plotlyServerURL": "https://plot.ly"
       },
       "data": [
        {
         "alignmentgroup": "True",
         "hovertemplate": "season=%{x}<br>Total Goals=%{marker.color}<extra></extra>",
         "legendgroup": "",
         "marker": {
          "color": [
           1063,
           1066,
           1063,
           1052,
           975,
           1026,
           1064,
           1018,
           1072,
           1034,
           1024,
           1071,
           627
          ],
          "coloraxis": "coloraxis",
          "pattern": {
           "shape": ""
          }
         },
         "name": "",
         "offsetgroup": "",
         "orientation": "v",
         "showlegend": false,
         "textposition": "auto",
         "type": "bar",
         "x": [
          "2010-2011",
          "2011-2012",
          "2012-2013",
          "2013-2014",
          "2014-2015",
          "2015-2016",
          "2016-2017",
          "2017-2018",
          "2018-2019",
          "2019-2020",
          "2020-2021",
          "2021-2022",
          "2022-2023"
         ],
         "xaxis": "x",
         "y": [
          1063,
          1066,
          1063,
          1052,
          975,
          1026,
          1064,
          1018,
          1072,
          1034,
          1024,
          1071,
          627
         ],
         "yaxis": "y"
        }
       ],
       "layout": {
        "barmode": "relative",
        "coloraxis": {
         "colorbar": {
          "title": {
           "text": "Total Goals"
          }
         },
         "colorscale": [
          [
           0,
           "#0d0887"
          ],
          [
           0.1111111111111111,
           "#46039f"
          ],
          [
           0.2222222222222222,
           "#7201a8"
          ],
          [
           0.3333333333333333,
           "#9c179e"
          ],
          [
           0.4444444444444444,
           "#bd3786"
          ],
          [
           0.5555555555555556,
           "#d8576b"
          ],
          [
           0.6666666666666666,
           "#ed7953"
          ],
          [
           0.7777777777777778,
           "#fb9f3a"
          ],
          [
           0.8888888888888888,
           "#fdca26"
          ],
          [
           1,
           "#f0f921"
          ]
         ]
        },
        "legend": {
         "tracegroupgap": 0
        },
        "template": {
         "data": {
          "bar": [
           {
            "error_x": {
             "color": "#2a3f5f"
            },
            "error_y": {
             "color": "#2a3f5f"
            },
            "marker": {
             "line": {
              "color": "#E5ECF6",
              "width": 0.5
             },
             "pattern": {
              "fillmode": "overlay",
              "size": 10,
              "solidity": 0.2
             }
            },
            "type": "bar"
           }
          ],
          "barpolar": [
           {
            "marker": {
             "line": {
              "color": "#E5ECF6",
              "width": 0.5
             },
             "pattern": {
              "fillmode": "overlay",
              "size": 10,
              "solidity": 0.2
             }
            },
            "type": "barpolar"
           }
          ],
          "carpet": [
           {
            "aaxis": {
             "endlinecolor": "#2a3f5f",
             "gridcolor": "white",
             "linecolor": "white",
             "minorgridcolor": "white",
             "startlinecolor": "#2a3f5f"
            },
            "baxis": {
             "endlinecolor": "#2a3f5f",
             "gridcolor": "white",
             "linecolor": "white",
             "minorgridcolor": "white",
             "startlinecolor": "#2a3f5f"
            },
            "type": "carpet"
           }
          ],
          "choropleth": [
           {
            "colorbar": {
             "outlinewidth": 0,
             "ticks": ""
            },
            "type": "choropleth"
           }
          ],
          "contour": [
           {
            "colorbar": {
             "outlinewidth": 0,
             "ticks": ""
            },
            "colorscale": [
             [
              0,
              "#0d0887"
             ],
             [
              0.1111111111111111,
              "#46039f"
             ],
             [
              0.2222222222222222,
              "#7201a8"
             ],
             [
              0.3333333333333333,
              "#9c179e"
             ],
             [
              0.4444444444444444,
              "#bd3786"
             ],
             [
              0.5555555555555556,
              "#d8576b"
             ],
             [
              0.6666666666666666,
              "#ed7953"
             ],
             [
              0.7777777777777778,
              "#fb9f3a"
             ],
             [
              0.8888888888888888,
              "#fdca26"
             ],
             [
              1,
              "#f0f921"
             ]
            ],
            "type": "contour"
           }
          ],
          "contourcarpet": [
           {
            "colorbar": {
             "outlinewidth": 0,
             "ticks": ""
            },
            "type": "contourcarpet"
           }
          ],
          "heatmap": [
           {
            "colorbar": {
             "outlinewidth": 0,
             "ticks": ""
            },
            "colorscale": [
             [
              0,
              "#0d0887"
             ],
             [
              0.1111111111111111,
              "#46039f"
             ],
             [
              0.2222222222222222,
              "#7201a8"
             ],
             [
              0.3333333333333333,
              "#9c179e"
             ],
             [
              0.4444444444444444,
              "#bd3786"
             ],
             [
              0.5555555555555556,
              "#d8576b"
             ],
             [
              0.6666666666666666,
              "#ed7953"
             ],
             [
              0.7777777777777778,
              "#fb9f3a"
             ],
             [
              0.8888888888888888,
              "#fdca26"
             ],
             [
              1,
              "#f0f921"
             ]
            ],
            "type": "heatmap"
           }
          ],
          "heatmapgl": [
           {
            "colorbar": {
             "outlinewidth": 0,
             "ticks": ""
            },
            "colorscale": [
             [
              0,
              "#0d0887"
             ],
             [
              0.1111111111111111,
              "#46039f"
             ],
             [
              0.2222222222222222,
              "#7201a8"
             ],
             [
              0.3333333333333333,
              "#9c179e"
             ],
             [
              0.4444444444444444,
              "#bd3786"
             ],
             [
              0.5555555555555556,
              "#d8576b"
             ],
             [
              0.6666666666666666,
              "#ed7953"
             ],
             [
              0.7777777777777778,
              "#fb9f3a"
             ],
             [
              0.8888888888888888,
              "#fdca26"
             ],
             [
              1,
              "#f0f921"
             ]
            ],
            "type": "heatmapgl"
           }
          ],
          "histogram": [
           {
            "marker": {
             "pattern": {
              "fillmode": "overlay",
              "size": 10,
              "solidity": 0.2
             }
            },
            "type": "histogram"
           }
          ],
          "histogram2d": [
           {
            "colorbar": {
             "outlinewidth": 0,
             "ticks": ""
            },
            "colorscale": [
             [
              0,
              "#0d0887"
             ],
             [
              0.1111111111111111,
              "#46039f"
             ],
             [
              0.2222222222222222,
              "#7201a8"
             ],
             [
              0.3333333333333333,
              "#9c179e"
             ],
             [
              0.4444444444444444,
              "#bd3786"
             ],
             [
              0.5555555555555556,
              "#d8576b"
             ],
             [
              0.6666666666666666,
              "#ed7953"
             ],
             [
              0.7777777777777778,
              "#fb9f3a"
             ],
             [
              0.8888888888888888,
              "#fdca26"
             ],
             [
              1,
              "#f0f921"
             ]
            ],
            "type": "histogram2d"
           }
          ],
          "histogram2dcontour": [
           {
            "colorbar": {
             "outlinewidth": 0,
             "ticks": ""
            },
            "colorscale": [
             [
              0,
              "#0d0887"
             ],
             [
              0.1111111111111111,
              "#46039f"
             ],
             [
              0.2222222222222222,
              "#7201a8"
             ],
             [
              0.3333333333333333,
              "#9c179e"
             ],
             [
              0.4444444444444444,
              "#bd3786"
             ],
             [
              0.5555555555555556,
              "#d8576b"
             ],
             [
              0.6666666666666666,
              "#ed7953"
             ],
             [
              0.7777777777777778,
              "#fb9f3a"
             ],
             [
              0.8888888888888888,
              "#fdca26"
             ],
             [
              1,
              "#f0f921"
             ]
            ],
            "type": "histogram2dcontour"
           }
          ],
          "mesh3d": [
           {
            "colorbar": {
             "outlinewidth": 0,
             "ticks": ""
            },
            "type": "mesh3d"
           }
          ],
          "parcoords": [
           {
            "line": {
             "colorbar": {
              "outlinewidth": 0,
              "ticks": ""
             }
            },
            "type": "parcoords"
           }
          ],
          "pie": [
           {
            "automargin": true,
            "type": "pie"
           }
          ],
          "scatter": [
           {
            "fillpattern": {
             "fillmode": "overlay",
             "size": 10,
             "solidity": 0.2
            },
            "type": "scatter"
           }
          ],
          "scatter3d": [
           {
            "line": {
             "colorbar": {
              "outlinewidth": 0,
              "ticks": ""
             }
            },
            "marker": {
             "colorbar": {
              "outlinewidth": 0,
              "ticks": ""
             }
            },
            "type": "scatter3d"
           }
          ],
          "scattercarpet": [
           {
            "marker": {
             "colorbar": {
              "outlinewidth": 0,
              "ticks": ""
             }
            },
            "type": "scattercarpet"
           }
          ],
          "scattergeo": [
           {
            "marker": {
             "colorbar": {
              "outlinewidth": 0,
              "ticks": ""
             }
            },
            "type": "scattergeo"
           }
          ],
          "scattergl": [
           {
            "marker": {
             "colorbar": {
              "outlinewidth": 0,
              "ticks": ""
             }
            },
            "type": "scattergl"
           }
          ],
          "scattermapbox": [
           {
            "marker": {
             "colorbar": {
              "outlinewidth": 0,
              "ticks": ""
             }
            },
            "type": "scattermapbox"
           }
          ],
          "scatterpolar": [
           {
            "marker": {
             "colorbar": {
              "outlinewidth": 0,
              "ticks": ""
             }
            },
            "type": "scatterpolar"
           }
          ],
          "scatterpolargl": [
           {
            "marker": {
             "colorbar": {
              "outlinewidth": 0,
              "ticks": ""
             }
            },
            "type": "scatterpolargl"
           }
          ],
          "scatterternary": [
           {
            "marker": {
             "colorbar": {
              "outlinewidth": 0,
              "ticks": ""
             }
            },
            "type": "scatterternary"
           }
          ],
          "surface": [
           {
            "colorbar": {
             "outlinewidth": 0,
             "ticks": ""
            },
            "colorscale": [
             [
              0,
              "#0d0887"
             ],
             [
              0.1111111111111111,
              "#46039f"
             ],
             [
              0.2222222222222222,
              "#7201a8"
             ],
             [
              0.3333333333333333,
              "#9c179e"
             ],
             [
              0.4444444444444444,
              "#bd3786"
             ],
             [
              0.5555555555555556,
              "#d8576b"
             ],
             [
              0.6666666666666666,
              "#ed7953"
             ],
             [
              0.7777777777777778,
              "#fb9f3a"
             ],
             [
              0.8888888888888888,
              "#fdca26"
             ],
             [
              1,
              "#f0f921"
             ]
            ],
            "type": "surface"
           }
          ],
          "table": [
           {
            "cells": {
             "fill": {
              "color": "#EBF0F8"
             },
             "line": {
              "color": "white"
             }
            },
            "header": {
             "fill": {
              "color": "#C8D4E3"
             },
             "line": {
              "color": "white"
             }
            },
            "type": "table"
           }
          ]
         },
         "layout": {
          "annotationdefaults": {
           "arrowcolor": "#2a3f5f",
           "arrowhead": 0,
           "arrowwidth": 1
          },
          "autotypenumbers": "strict",
          "coloraxis": {
           "colorbar": {
            "outlinewidth": 0,
            "ticks": ""
           }
          },
          "colorscale": {
           "diverging": [
            [
             0,
             "#8e0152"
            ],
            [
             0.1,
             "#c51b7d"
            ],
            [
             0.2,
             "#de77ae"
            ],
            [
             0.3,
             "#f1b6da"
            ],
            [
             0.4,
             "#fde0ef"
            ],
            [
             0.5,
             "#f7f7f7"
            ],
            [
             0.6,
             "#e6f5d0"
            ],
            [
             0.7,
             "#b8e186"
            ],
            [
             0.8,
             "#7fbc41"
            ],
            [
             0.9,
             "#4d9221"
            ],
            [
             1,
             "#276419"
            ]
           ],
           "sequential": [
            [
             0,
             "#0d0887"
            ],
            [
             0.1111111111111111,
             "#46039f"
            ],
            [
             0.2222222222222222,
             "#7201a8"
            ],
            [
             0.3333333333333333,
             "#9c179e"
            ],
            [
             0.4444444444444444,
             "#bd3786"
            ],
            [
             0.5555555555555556,
             "#d8576b"
            ],
            [
             0.6666666666666666,
             "#ed7953"
            ],
            [
             0.7777777777777778,
             "#fb9f3a"
            ],
            [
             0.8888888888888888,
             "#fdca26"
            ],
            [
             1,
             "#f0f921"
            ]
           ],
           "sequentialminus": [
            [
             0,
             "#0d0887"
            ],
            [
             0.1111111111111111,
             "#46039f"
            ],
            [
             0.2222222222222222,
             "#7201a8"
            ],
            [
             0.3333333333333333,
             "#9c179e"
            ],
            [
             0.4444444444444444,
             "#bd3786"
            ],
            [
             0.5555555555555556,
             "#d8576b"
            ],
            [
             0.6666666666666666,
             "#ed7953"
            ],
            [
             0.7777777777777778,
             "#fb9f3a"
            ],
            [
             0.8888888888888888,
             "#fdca26"
            ],
            [
             1,
             "#f0f921"
            ]
           ]
          },
          "colorway": [
           "#636efa",
           "#EF553B",
           "#00cc96",
           "#ab63fa",
           "#FFA15A",
           "#19d3f3",
           "#FF6692",
           "#B6E880",
           "#FF97FF",
           "#FECB52"
          ],
          "font": {
           "color": "#2a3f5f"
          },
          "geo": {
           "bgcolor": "white",
           "lakecolor": "white",
           "landcolor": "#E5ECF6",
           "showlakes": true,
           "showland": true,
           "subunitcolor": "white"
          },
          "hoverlabel": {
           "align": "left"
          },
          "hovermode": "closest",
          "mapbox": {
           "style": "light"
          },
          "paper_bgcolor": "white",
          "plot_bgcolor": "#E5ECF6",
          "polar": {
           "angularaxis": {
            "gridcolor": "white",
            "linecolor": "white",
            "ticks": ""
           },
           "bgcolor": "#E5ECF6",
           "radialaxis": {
            "gridcolor": "white",
            "linecolor": "white",
            "ticks": ""
           }
          },
          "scene": {
           "xaxis": {
            "backgroundcolor": "#E5ECF6",
            "gridcolor": "white",
            "gridwidth": 2,
            "linecolor": "white",
            "showbackground": true,
            "ticks": "",
            "zerolinecolor": "white"
           },
           "yaxis": {
            "backgroundcolor": "#E5ECF6",
            "gridcolor": "white",
            "gridwidth": 2,
            "linecolor": "white",
            "showbackground": true,
            "ticks": "",
            "zerolinecolor": "white"
           },
           "zaxis": {
            "backgroundcolor": "#E5ECF6",
            "gridcolor": "white",
            "gridwidth": 2,
            "linecolor": "white",
            "showbackground": true,
            "ticks": "",
            "zerolinecolor": "white"
           }
          },
          "shapedefaults": {
           "line": {
            "color": "#2a3f5f"
           }
          },
          "ternary": {
           "aaxis": {
            "gridcolor": "white",
            "linecolor": "white",
            "ticks": ""
           },
           "baxis": {
            "gridcolor": "white",
            "linecolor": "white",
            "ticks": ""
           },
           "bgcolor": "#E5ECF6",
           "caxis": {
            "gridcolor": "white",
            "linecolor": "white",
            "ticks": ""
           }
          },
          "title": {
           "x": 0.05
          },
          "xaxis": {
           "automargin": true,
           "gridcolor": "white",
           "linecolor": "white",
           "ticks": "",
           "title": {
            "standoff": 15
           },
           "zerolinecolor": "white",
           "zerolinewidth": 2
          },
          "yaxis": {
           "automargin": true,
           "gridcolor": "white",
           "linecolor": "white",
           "ticks": "",
           "title": {
            "standoff": 15
           },
           "zerolinecolor": "white",
           "zerolinewidth": 2
          }
         }
        },
        "title": {
         "text": "Number of goals per season"
        },
        "xaxis": {
         "anchor": "y",
         "domain": [
          0,
          1
         ],
         "title": {
          "text": "season"
         }
        },
        "yaxis": {
         "anchor": "x",
         "domain": [
          0,
          1
         ],
         "title": {
          "text": "Total Goals"
         }
        }
       }
      }
     },
     "metadata": {},
     "output_type": "display_data"
    }
   ],
   "source": [
    "import plotly.express as px\n",
    "goals_per_season = df.groupby('season')['home_goals', 'away_goals'].sum().reset_index()\n",
    "goals_per_season['total_goals'] = goals_per_season['home_goals'] + goals_per_season['away_goals']\n",
    "\n",
    "# create a bar chart of goals per season using plotly\n",
    "fig = px.bar(goals_per_season, x='season', y='total_goals',\n",
    "             title='Number of goals per season',\n",
    "             labels={'total_goals': 'Total Goals'},\n",
    "             color='total_goals')\n",
    "fig.show()"
   ]
  },
  {
   "cell_type": "markdown",
   "metadata": {},
   "source": [
    "### Effeciency"
   ]
  },
  {
   "cell_type": "markdown",
   "metadata": {},
   "source": [
    "#### Overall"
   ]
  },
  {
   "cell_type": "code",
   "execution_count": 19,
   "metadata": {},
   "outputs": [],
   "source": [
    "\n",
    "def agg_shots(df):\n",
    "    teams = pd.concat([df['home_team'], df['away_team']]).unique()\n",
    "    shots = {team :{\"shots\":0,\"goals\":0} for team in teams}\n",
    "    for i , row in df.iterrows():\n",
    "        home = row['home_team']\n",
    "        away = row['away_team']\n",
    "        if home in shots :\n",
    "            shots[home][\"shots\"] +=row[\"home_shots\"]\n",
    "            shots[home][\"goals\"] +=row[\"home_goals\"]\n",
    "        else : \n",
    "            shots[home][\"shots\"] = row['home_shots']\n",
    "            shots[home][\"goals\"] =row[\"home_goals\"]\n",
    "        if  away in shots :\n",
    "            shots[away][\"shots\"] +=row[\"away_shots\"]\n",
    "            shots[away][\"goals\"]+=row[\"away_goals\"]\n",
    "        else : \n",
    "            shots[home] = row['away_shots']\n",
    "            shots[away][\"games\"]=row[\"away_goals\"]\n",
    "        \n",
    "    return shots\n",
    "\n",
    "shots  = pd.DataFrame.from_dict(agg_shots(df),orient=\"index\")\n",
    "shots['Goals per Shot'] = shots['goals'] / shots['shots']\n",
    "\n",
    "\n",
    "\n",
    "    "
   ]
  },
  {
   "cell_type": "code",
   "execution_count": 20,
   "metadata": {},
   "outputs": [
    {
     "data": {
      "application/vnd.plotly.v1+json": {
       "config": {
        "plotlyServerURL": "https://plot.ly"
       },
       "data": [
        {
         "hovertemplate": "Goals Scored=%{x}<br>Shots Taken=%{y}<br>Goals per Shot=%{marker.color}<extra></extra>",
         "legendgroup": "",
         "marker": {
          "color": [
           0.09226932668329177,
           0.11608146944895664,
           0.12320998156812704,
           0.1319103009953232,
           0.10301752109020117,
           0.09394572025052192,
           0.10470631156512222,
           0.09704098511303069,
           0.09201877934272301,
           0.11402911960810995,
           0.09154460719041278,
           0.09574155653450808,
           0.12432511308915803,
           0.089755788138281,
           0.08939974457215837,
           0.10375275938189846,
           0.09333333333333334,
           0.10357815442561205,
           0.11066162077515333,
           0.08431372549019608,
           0.07306226175349428,
           0.08050847457627118,
           0.09925397340253,
           0.10941475826972011,
           0.09542933639319182,
           0.09917355371900827,
           0.07904191616766468,
           0.08605577689243028,
           0.12315996074582924,
           0.09419496166484119,
           0.10862354892205639,
           0.09579439252336448,
           0.07692307692307693,
           0.09123505976095618,
           0.0655307994757536,
           0.08779761904761904,
           0.10256410256410256,
           0.1251840942562592,
           0.07725321888412018
          ],
          "coloraxis": "coloraxis",
          "size": [
           0.09226932668329177,
           0.11608146944895664,
           0.12320998156812704,
           0.1319103009953232,
           0.10301752109020117,
           0.09394572025052192,
           0.10470631156512222,
           0.09704098511303069,
           0.09201877934272301,
           0.11402911960810995,
           0.09154460719041278,
           0.09574155653450808,
           0.12432511308915803,
           0.089755788138281,
           0.08939974457215837,
           0.10375275938189846,
           0.09333333333333334,
           0.10357815442561205,
           0.11066162077515333,
           0.08431372549019608,
           0.07306226175349428,
           0.08050847457627118,
           0.09925397340253,
           0.10941475826972011,
           0.09542933639319182,
           0.09917355371900827,
           0.07904191616766468,
           0.08605577689243028,
           0.12315996074582924,
           0.09419496166484119,
           0.10862354892205639,
           0.09579439252336448,
           0.07692307692307693,
           0.09123505976095618,
           0.0655307994757536,
           0.08779761904761904,
           0.10256410256410256,
           0.1251840942562592,
           0.07725321888412018
          ],
          "sizemode": "area",
          "sizeref": 0.00032977575248830797,
          "symbol": "circle"
         },
         "mode": "markers",
         "name": "",
         "orientation": "v",
         "showlegend": false,
         "type": "scatter",
         "x": [
          37,
          929,
          869,
          1100,
          635,
          405,
          574,
          528,
          98,
          838,
          275,
          326,
          852,
          283,
          280,
          94,
          378,
          55,
          848,
          129,
          115,
          209,
          306,
          43,
          499,
          408,
          66,
          108,
          502,
          258,
          262,
          246,
          27,
          229,
          50,
          59,
          132,
          85,
          18
         ],
         "xaxis": "x",
         "y": [
          401,
          8003,
          7053,
          8339,
          6164,
          4311,
          5482,
          5441,
          1065,
          7349,
          3004,
          3405,
          6853,
          3153,
          3132,
          906,
          4050,
          531,
          7663,
          1530,
          1574,
          2596,
          3083,
          393,
          5229,
          4114,
          835,
          1255,
          4076,
          2739,
          2412,
          2568,
          351,
          2510,
          763,
          672,
          1287,
          679,
          233
         ],
         "yaxis": "y"
        }
       ],
       "layout": {
        "annotations": [
         {
          "font": {
           "size": 16
          },
          "showarrow": false,
          "text": "Manchester City",
          "x": 1100,
          "y": 8339
         },
         {
          "font": {
           "size": 16
          },
          "showarrow": false,
          "text": "Brentford",
          "x": 85,
          "y": 679
         },
         {
          "font": {
           "size": 16
          },
          "showarrow": false,
          "text": "Manchester United",
          "x": 852,
          "y": 6853
         },
         {
          "font": {
           "size": 16
          },
          "showarrow": false,
          "text": "Arsenal",
          "x": 869,
          "y": 7053
         },
         {
          "font": {
           "size": 16
          },
          "showarrow": false,
          "text": "Leicester",
          "x": 502,
          "y": 4076
         }
        ],
        "coloraxis": {
         "colorbar": {
          "title": {
           "text": "Goals per Shot"
          }
         },
         "colorscale": [
          [
           0,
           "#0d0887"
          ],
          [
           0.1111111111111111,
           "#46039f"
          ],
          [
           0.2222222222222222,
           "#7201a8"
          ],
          [
           0.3333333333333333,
           "#9c179e"
          ],
          [
           0.4444444444444444,
           "#bd3786"
          ],
          [
           0.5555555555555556,
           "#d8576b"
          ],
          [
           0.6666666666666666,
           "#ed7953"
          ],
          [
           0.7777777777777778,
           "#fb9f3a"
          ],
          [
           0.8888888888888888,
           "#fdca26"
          ],
          [
           1,
           "#f0f921"
          ]
         ]
        },
        "legend": {
         "itemsizing": "constant",
         "tracegroupgap": 0
        },
        "margin": {
         "t": 60
        },
        "template": {
         "data": {
          "bar": [
           {
            "error_x": {
             "color": "#2a3f5f"
            },
            "error_y": {
             "color": "#2a3f5f"
            },
            "marker": {
             "line": {
              "color": "#E5ECF6",
              "width": 0.5
             },
             "pattern": {
              "fillmode": "overlay",
              "size": 10,
              "solidity": 0.2
             }
            },
            "type": "bar"
           }
          ],
          "barpolar": [
           {
            "marker": {
             "line": {
              "color": "#E5ECF6",
              "width": 0.5
             },
             "pattern": {
              "fillmode": "overlay",
              "size": 10,
              "solidity": 0.2
             }
            },
            "type": "barpolar"
           }
          ],
          "carpet": [
           {
            "aaxis": {
             "endlinecolor": "#2a3f5f",
             "gridcolor": "white",
             "linecolor": "white",
             "minorgridcolor": "white",
             "startlinecolor": "#2a3f5f"
            },
            "baxis": {
             "endlinecolor": "#2a3f5f",
             "gridcolor": "white",
             "linecolor": "white",
             "minorgridcolor": "white",
             "startlinecolor": "#2a3f5f"
            },
            "type": "carpet"
           }
          ],
          "choropleth": [
           {
            "colorbar": {
             "outlinewidth": 0,
             "ticks": ""
            },
            "type": "choropleth"
           }
          ],
          "contour": [
           {
            "colorbar": {
             "outlinewidth": 0,
             "ticks": ""
            },
            "colorscale": [
             [
              0,
              "#0d0887"
             ],
             [
              0.1111111111111111,
              "#46039f"
             ],
             [
              0.2222222222222222,
              "#7201a8"
             ],
             [
              0.3333333333333333,
              "#9c179e"
             ],
             [
              0.4444444444444444,
              "#bd3786"
             ],
             [
              0.5555555555555556,
              "#d8576b"
             ],
             [
              0.6666666666666666,
              "#ed7953"
             ],
             [
              0.7777777777777778,
              "#fb9f3a"
             ],
             [
              0.8888888888888888,
              "#fdca26"
             ],
             [
              1,
              "#f0f921"
             ]
            ],
            "type": "contour"
           }
          ],
          "contourcarpet": [
           {
            "colorbar": {
             "outlinewidth": 0,
             "ticks": ""
            },
            "type": "contourcarpet"
           }
          ],
          "heatmap": [
           {
            "colorbar": {
             "outlinewidth": 0,
             "ticks": ""
            },
            "colorscale": [
             [
              0,
              "#0d0887"
             ],
             [
              0.1111111111111111,
              "#46039f"
             ],
             [
              0.2222222222222222,
              "#7201a8"
             ],
             [
              0.3333333333333333,
              "#9c179e"
             ],
             [
              0.4444444444444444,
              "#bd3786"
             ],
             [
              0.5555555555555556,
              "#d8576b"
             ],
             [
              0.6666666666666666,
              "#ed7953"
             ],
             [
              0.7777777777777778,
              "#fb9f3a"
             ],
             [
              0.8888888888888888,
              "#fdca26"
             ],
             [
              1,
              "#f0f921"
             ]
            ],
            "type": "heatmap"
           }
          ],
          "heatmapgl": [
           {
            "colorbar": {
             "outlinewidth": 0,
             "ticks": ""
            },
            "colorscale": [
             [
              0,
              "#0d0887"
             ],
             [
              0.1111111111111111,
              "#46039f"
             ],
             [
              0.2222222222222222,
              "#7201a8"
             ],
             [
              0.3333333333333333,
              "#9c179e"
             ],
             [
              0.4444444444444444,
              "#bd3786"
             ],
             [
              0.5555555555555556,
              "#d8576b"
             ],
             [
              0.6666666666666666,
              "#ed7953"
             ],
             [
              0.7777777777777778,
              "#fb9f3a"
             ],
             [
              0.8888888888888888,
              "#fdca26"
             ],
             [
              1,
              "#f0f921"
             ]
            ],
            "type": "heatmapgl"
           }
          ],
          "histogram": [
           {
            "marker": {
             "pattern": {
              "fillmode": "overlay",
              "size": 10,
              "solidity": 0.2
             }
            },
            "type": "histogram"
           }
          ],
          "histogram2d": [
           {
            "colorbar": {
             "outlinewidth": 0,
             "ticks": ""
            },
            "colorscale": [
             [
              0,
              "#0d0887"
             ],
             [
              0.1111111111111111,
              "#46039f"
             ],
             [
              0.2222222222222222,
              "#7201a8"
             ],
             [
              0.3333333333333333,
              "#9c179e"
             ],
             [
              0.4444444444444444,
              "#bd3786"
             ],
             [
              0.5555555555555556,
              "#d8576b"
             ],
             [
              0.6666666666666666,
              "#ed7953"
             ],
             [
              0.7777777777777778,
              "#fb9f3a"
             ],
             [
              0.8888888888888888,
              "#fdca26"
             ],
             [
              1,
              "#f0f921"
             ]
            ],
            "type": "histogram2d"
           }
          ],
          "histogram2dcontour": [
           {
            "colorbar": {
             "outlinewidth": 0,
             "ticks": ""
            },
            "colorscale": [
             [
              0,
              "#0d0887"
             ],
             [
              0.1111111111111111,
              "#46039f"
             ],
             [
              0.2222222222222222,
              "#7201a8"
             ],
             [
              0.3333333333333333,
              "#9c179e"
             ],
             [
              0.4444444444444444,
              "#bd3786"
             ],
             [
              0.5555555555555556,
              "#d8576b"
             ],
             [
              0.6666666666666666,
              "#ed7953"
             ],
             [
              0.7777777777777778,
              "#fb9f3a"
             ],
             [
              0.8888888888888888,
              "#fdca26"
             ],
             [
              1,
              "#f0f921"
             ]
            ],
            "type": "histogram2dcontour"
           }
          ],
          "mesh3d": [
           {
            "colorbar": {
             "outlinewidth": 0,
             "ticks": ""
            },
            "type": "mesh3d"
           }
          ],
          "parcoords": [
           {
            "line": {
             "colorbar": {
              "outlinewidth": 0,
              "ticks": ""
             }
            },
            "type": "parcoords"
           }
          ],
          "pie": [
           {
            "automargin": true,
            "type": "pie"
           }
          ],
          "scatter": [
           {
            "fillpattern": {
             "fillmode": "overlay",
             "size": 10,
             "solidity": 0.2
            },
            "type": "scatter"
           }
          ],
          "scatter3d": [
           {
            "line": {
             "colorbar": {
              "outlinewidth": 0,
              "ticks": ""
             }
            },
            "marker": {
             "colorbar": {
              "outlinewidth": 0,
              "ticks": ""
             }
            },
            "type": "scatter3d"
           }
          ],
          "scattercarpet": [
           {
            "marker": {
             "colorbar": {
              "outlinewidth": 0,
              "ticks": ""
             }
            },
            "type": "scattercarpet"
           }
          ],
          "scattergeo": [
           {
            "marker": {
             "colorbar": {
              "outlinewidth": 0,
              "ticks": ""
             }
            },
            "type": "scattergeo"
           }
          ],
          "scattergl": [
           {
            "marker": {
             "colorbar": {
              "outlinewidth": 0,
              "ticks": ""
             }
            },
            "type": "scattergl"
           }
          ],
          "scattermapbox": [
           {
            "marker": {
             "colorbar": {
              "outlinewidth": 0,
              "ticks": ""
             }
            },
            "type": "scattermapbox"
           }
          ],
          "scatterpolar": [
           {
            "marker": {
             "colorbar": {
              "outlinewidth": 0,
              "ticks": ""
             }
            },
            "type": "scatterpolar"
           }
          ],
          "scatterpolargl": [
           {
            "marker": {
             "colorbar": {
              "outlinewidth": 0,
              "ticks": ""
             }
            },
            "type": "scatterpolargl"
           }
          ],
          "scatterternary": [
           {
            "marker": {
             "colorbar": {
              "outlinewidth": 0,
              "ticks": ""
             }
            },
            "type": "scatterternary"
           }
          ],
          "surface": [
           {
            "colorbar": {
             "outlinewidth": 0,
             "ticks": ""
            },
            "colorscale": [
             [
              0,
              "#0d0887"
             ],
             [
              0.1111111111111111,
              "#46039f"
             ],
             [
              0.2222222222222222,
              "#7201a8"
             ],
             [
              0.3333333333333333,
              "#9c179e"
             ],
             [
              0.4444444444444444,
              "#bd3786"
             ],
             [
              0.5555555555555556,
              "#d8576b"
             ],
             [
              0.6666666666666666,
              "#ed7953"
             ],
             [
              0.7777777777777778,
              "#fb9f3a"
             ],
             [
              0.8888888888888888,
              "#fdca26"
             ],
             [
              1,
              "#f0f921"
             ]
            ],
            "type": "surface"
           }
          ],
          "table": [
           {
            "cells": {
             "fill": {
              "color": "#EBF0F8"
             },
             "line": {
              "color": "white"
             }
            },
            "header": {
             "fill": {
              "color": "#C8D4E3"
             },
             "line": {
              "color": "white"
             }
            },
            "type": "table"
           }
          ]
         },
         "layout": {
          "annotationdefaults": {
           "arrowcolor": "#2a3f5f",
           "arrowhead": 0,
           "arrowwidth": 1
          },
          "autotypenumbers": "strict",
          "coloraxis": {
           "colorbar": {
            "outlinewidth": 0,
            "ticks": ""
           }
          },
          "colorscale": {
           "diverging": [
            [
             0,
             "#8e0152"
            ],
            [
             0.1,
             "#c51b7d"
            ],
            [
             0.2,
             "#de77ae"
            ],
            [
             0.3,
             "#f1b6da"
            ],
            [
             0.4,
             "#fde0ef"
            ],
            [
             0.5,
             "#f7f7f7"
            ],
            [
             0.6,
             "#e6f5d0"
            ],
            [
             0.7,
             "#b8e186"
            ],
            [
             0.8,
             "#7fbc41"
            ],
            [
             0.9,
             "#4d9221"
            ],
            [
             1,
             "#276419"
            ]
           ],
           "sequential": [
            [
             0,
             "#0d0887"
            ],
            [
             0.1111111111111111,
             "#46039f"
            ],
            [
             0.2222222222222222,
             "#7201a8"
            ],
            [
             0.3333333333333333,
             "#9c179e"
            ],
            [
             0.4444444444444444,
             "#bd3786"
            ],
            [
             0.5555555555555556,
             "#d8576b"
            ],
            [
             0.6666666666666666,
             "#ed7953"
            ],
            [
             0.7777777777777778,
             "#fb9f3a"
            ],
            [
             0.8888888888888888,
             "#fdca26"
            ],
            [
             1,
             "#f0f921"
            ]
           ],
           "sequentialminus": [
            [
             0,
             "#0d0887"
            ],
            [
             0.1111111111111111,
             "#46039f"
            ],
            [
             0.2222222222222222,
             "#7201a8"
            ],
            [
             0.3333333333333333,
             "#9c179e"
            ],
            [
             0.4444444444444444,
             "#bd3786"
            ],
            [
             0.5555555555555556,
             "#d8576b"
            ],
            [
             0.6666666666666666,
             "#ed7953"
            ],
            [
             0.7777777777777778,
             "#fb9f3a"
            ],
            [
             0.8888888888888888,
             "#fdca26"
            ],
            [
             1,
             "#f0f921"
            ]
           ]
          },
          "colorway": [
           "#636efa",
           "#EF553B",
           "#00cc96",
           "#ab63fa",
           "#FFA15A",
           "#19d3f3",
           "#FF6692",
           "#B6E880",
           "#FF97FF",
           "#FECB52"
          ],
          "font": {
           "color": "#2a3f5f"
          },
          "geo": {
           "bgcolor": "white",
           "lakecolor": "white",
           "landcolor": "#E5ECF6",
           "showlakes": true,
           "showland": true,
           "subunitcolor": "white"
          },
          "hoverlabel": {
           "align": "left"
          },
          "hovermode": "closest",
          "mapbox": {
           "style": "light"
          },
          "paper_bgcolor": "white",
          "plot_bgcolor": "#E5ECF6",
          "polar": {
           "angularaxis": {
            "gridcolor": "white",
            "linecolor": "white",
            "ticks": ""
           },
           "bgcolor": "#E5ECF6",
           "radialaxis": {
            "gridcolor": "white",
            "linecolor": "white",
            "ticks": ""
           }
          },
          "scene": {
           "xaxis": {
            "backgroundcolor": "#E5ECF6",
            "gridcolor": "white",
            "gridwidth": 2,
            "linecolor": "white",
            "showbackground": true,
            "ticks": "",
            "zerolinecolor": "white"
           },
           "yaxis": {
            "backgroundcolor": "#E5ECF6",
            "gridcolor": "white",
            "gridwidth": 2,
            "linecolor": "white",
            "showbackground": true,
            "ticks": "",
            "zerolinecolor": "white"
           },
           "zaxis": {
            "backgroundcolor": "#E5ECF6",
            "gridcolor": "white",
            "gridwidth": 2,
            "linecolor": "white",
            "showbackground": true,
            "ticks": "",
            "zerolinecolor": "white"
           }
          },
          "shapedefaults": {
           "line": {
            "color": "#2a3f5f"
           }
          },
          "ternary": {
           "aaxis": {
            "gridcolor": "white",
            "linecolor": "white",
            "ticks": ""
           },
           "baxis": {
            "gridcolor": "white",
            "linecolor": "white",
            "ticks": ""
           },
           "bgcolor": "#E5ECF6",
           "caxis": {
            "gridcolor": "white",
            "linecolor": "white",
            "ticks": ""
           }
          },
          "title": {
           "x": 0.05
          },
          "xaxis": {
           "automargin": true,
           "gridcolor": "white",
           "linecolor": "white",
           "ticks": "",
           "title": {
            "standoff": 15
           },
           "zerolinecolor": "white",
           "zerolinewidth": 2
          },
          "yaxis": {
           "automargin": true,
           "gridcolor": "white",
           "linecolor": "white",
           "ticks": "",
           "title": {
            "standoff": 15
           },
           "zerolinecolor": "white",
           "zerolinewidth": 2
          }
         }
        },
        "xaxis": {
         "anchor": "y",
         "domain": [
          0,
          1
         ],
         "title": {
          "text": "Goals Scored"
         }
        },
        "yaxis": {
         "anchor": "x",
         "domain": [
          0,
          1
         ],
         "title": {
          "text": "Shots Taken"
         }
        }
       }
      }
     },
     "metadata": {},
     "output_type": "display_data"
    }
   ],
   "source": [
    "\n",
    "# Create scatter plot\n",
    "fig = px.scatter(shots, x='goals', y='shots', color='Goals per Shot', size='Goals per Shot', labels={'goals': 'Goals Scored', 'shots': 'Shots Taken'})\n",
    "\n",
    "# Set axis labels\n",
    "shots = shots.sort_values(\"Goals per Shot\",ascending=False) \n",
    "fig.update_xaxes(title_text='Goals Scored')\n",
    "fig.update_yaxes(title_text='Shots Taken')\n",
    "top_teams = shots.index[:5]  \n",
    "top_shots = shots.loc[top_teams]\n",
    "for i, team in enumerate(top_teams):\n",
    "    fig.add_annotation(x=top_shots.loc[team, 'goals'], y=top_shots.loc[team, 'shots'],\n",
    "                       text=team, showarrow=False, font=dict(size=16))\n",
    "\n",
    "# Show plot\n",
    "fig.show()"
   ]
  },
  {
   "attachments": {},
   "cell_type": "markdown",
   "metadata": {},
   "source": [
    "### Per season"
   ]
  },
  {
   "cell_type": "code",
   "execution_count": 21,
   "metadata": {},
   "outputs": [],
   "source": [
    "def scatter(df,i):\n",
    "    shots  = pd.DataFrame.from_dict(agg_shots(df),orient=\"index\")\n",
    "    shots['Goals per Shot'] = shots['goals'] / shots['shots']\n",
    "    shots[\"season\"] = i+2011\n",
    "    return shots\n",
    "dfs  = [scatter(df,i) for i, df in enumerate(df_list)]"
   ]
  },
  {
   "cell_type": "code",
   "execution_count": 24,
   "metadata": {},
   "outputs": [
    {
     "data": {
      "application/vnd.plotly.v1+json": {
       "config": {
        "plotlyServerURL": "https://plot.ly"
       },
       "data": [
        {
         "mode": "markers",
         "name": "2010",
         "type": "scatter",
         "x": [
          "Birmingham",
          "Liverpool",
          "Arsenal",
          "Manchester City",
          "Everton",
          "Aston Villa",
          "West Ham",
          "Newcastle",
          "Bolton",
          "Tottenham",
          "Wolverhampton",
          "Stoke",
          "Manchester United",
          "Fulham",
          "Sunderland",
          "Blackburn",
          "West Bromwich",
          "Blackpool",
          "Chelsea",
          "Wigan"
         ],
         "y": [
          0.09226932668329177,
          0.1013745704467354,
          0.11009174311926606,
          0.10989010989010989,
          0.08793103448275862,
          0.09486166007905138,
          0.07517482517482517,
          0.11045364891518737,
          0.0912280701754386,
          0.0837138508371385,
          0.10021786492374728,
          0.0954356846473029,
          0.1262135922330097,
          0.08957952468007313,
          0.08458646616541353,
          0.10154525386313466,
          0.09380234505862646,
          0.10357815442561205,
          0.09261744966442953,
          0.07827788649706457
         ]
        },
        {
         "mode": "markers",
         "name": "2011",
         "type": "scatter",
         "x": [
          "Liverpool",
          "Stoke",
          "Chelsea",
          "Bolton",
          "Arsenal",
          "Newcastle",
          "Queens Park Rangers",
          "Wolverhampton",
          "Aston Villa",
          "Fulham",
          "Manchester United",
          "Blackburn",
          "Everton",
          "Manchester City",
          "Norwich",
          "Sunderland",
          "Swansea",
          "Tottenham",
          "West Bromwich",
          "Wigan"
         ],
         "y": [
          0.0704647676161919,
          0.09574468085106383,
          0.09687034277198212,
          0.09292929292929293,
          0.11616954474097331,
          0.11451942740286299,
          0.07977736549165121,
          0.08456659619450317,
          0.08447488584474885,
          0.08872458410351201,
          0.13777089783281735,
          0.10596026490066225,
          0.09615384615384616,
          0.12601626016260162,
          0.10116731517509728,
          0.0982532751091703,
          0.09322033898305085,
          0.09415121255349501,
          0.08272058823529412,
          0.08092485549132948
         ]
        },
        {
         "mode": "markers",
         "name": "2012",
         "type": "scatter",
         "x": [
          "West Bromwich",
          "Norwich",
          "West Ham",
          "Fulham",
          "Swansea",
          "Tottenham",
          "Queens Park Rangers",
          "Liverpool",
          "Manchester United",
          "Sunderland",
          "Manchester City",
          "Wigan",
          "Chelsea",
          "Aston Villa",
          "Stoke",
          "Everton",
          "Arsenal",
          "Reading",
          "Newcastle",
          "Southampton"
         ],
         "y": [
          0.10474308300395258,
          0.09927360774818401,
          0.09127789046653144,
          0.10869565217391304,
          0.09306930693069307,
          0.09691629955947137,
          0.06,
          0.09607577807848444,
          0.15357142857142858,
          0.09832134292565947,
          0.10015174506828528,
          0.094,
          0.11961722488038277,
          0.10730593607305935,
          0.08717948717948718,
          0.08688783570300158,
          0.12040133779264214,
          0.10941475826972011,
          0.08458646616541353,
          0.09496124031007752
         ]
        },
        {
         "mode": "markers",
         "name": "2013",
         "type": "scatter",
         "x": [
          "West Ham",
          "Manchester United",
          "Newcastle",
          "Stoke",
          "Swansea",
          "Aston Villa",
          "Everton",
          "Arsenal",
          "Chelsea",
          "Crystal Palace",
          "Sunderland",
          "Manchester City",
          "Cardiff",
          "Fulham",
          "Hull",
          "Liverpool",
          "Tottenham",
          "Norwich",
          "West Bromwich",
          "Southampton"
         ],
         "y": [
          0.0947867298578199,
          0.12167300380228137,
          0.07426597582037997,
          0.10514018691588785,
          0.10909090909090909,
          0.09048723897911833,
          0.10873440285204991,
          0.13001912045889102,
          0.10260115606936417,
          0.07971014492753623,
          0.0835030549898167,
          0.1515601783060921,
          0.07655502392344497,
          0.09280742459396751,
          0.08857808857808858,
          0.15514592933947774,
          0.09369676320272573,
          0.059957173447537475,
          0.08847736625514403,
          0.10112359550561797
         ]
        },
        {
         "mode": "markers",
         "name": "2014",
         "type": "scatter",
         "x": [
          "Leicester",
          "Liverpool",
          "Aston Villa",
          "Sunderland",
          "Swansea",
          "West Ham",
          "Manchester United",
          "Chelsea",
          "Tottenham",
          "Hull",
          "Everton",
          "Newcastle",
          "Stoke",
          "Crystal Palace",
          "Manchester City",
          "Arsenal",
          "Southampton",
          "Queens Park Rangers",
          "Burnley",
          "West Bromwich"
         ],
         "y": [
          0.10065645514223195,
          0.08813559322033898,
          0.07434052757793765,
          0.07598039215686274,
          0.107981220657277,
          0.08997955010224949,
          0.12085769980506822,
          0.12943262411347517,
          0.11005692599620494,
          0.07692307692307693,
          0.09937888198757763,
          0.08547008547008547,
          0.09561752988047809,
          0.10633484162895927,
          0.12388059701492538,
          0.11639344262295082,
          0.10588235294117647,
          0.07850467289719626,
          0.06511627906976744,
          0.09245742092457421
         ]
        },
        {
         "mode": "markers",
         "name": "2015",
         "type": "scatter",
         "x": [
          "Swansea",
          "Manchester United",
          "Southampton",
          "Chelsea",
          "Norwich",
          "Crystal Palace",
          "West Ham",
          "Aston Villa",
          "Bournemouth",
          "Sunderland",
          "Leicester",
          "Tottenham",
          "Liverpool",
          "Manchester City",
          "Arsenal",
          "Everton",
          "Newcastle",
          "Stoke",
          "Watford",
          "West Bromwich"
         ],
         "y": [
          0.09523809523809523,
          0.11395348837209303,
          0.11368015414258188,
          0.11216730038022814,
          0.09330143540669857,
          0.08315565031982942,
          0.11648745519713262,
          0.07105263157894737,
          0.09698275862068965,
          0.10933940774487472,
          0.13026819923371646,
          0.10486322188449848,
          0.10015898251192369,
          0.11544715447154472,
          0.11363636363636363,
          0.12016293279022404,
          0.11083123425692695,
          0.09808612440191387,
          0.08968609865470852,
          0.08740359897172237
         ]
        },
        {
         "mode": "markers",
         "name": "2016",
         "type": "scatter",
         "x": [
          "Watford",
          "West Ham",
          "Manchester City",
          "Bournemouth",
          "Burnley",
          "Hull",
          "Leicester",
          "Swansea",
          "Liverpool",
          "Arsenal",
          "Chelsea",
          "Southampton",
          "Everton",
          "West Bromwich",
          "Middlesbrough",
          "Sunderland",
          "Stoke",
          "Crystal Palace",
          "Tottenham",
          "Manchester United"
         ],
         "y": [
          0.0947867298578199,
          0.09418837675350701,
          0.1263823064770932,
          0.12141280353200883,
          0.09948979591836735,
          0.09319899244332494,
          0.11085450346420324,
          0.11083743842364532,
          0.121875,
          0.13604240282685512,
          0.14655172413793102,
          0.07454545454545454,
          0.12350597609561753,
          0.1075,
          0.07692307692307693,
          0.07493540051679587,
          0.09647058823529411,
          0.11389521640091116,
          0.12855007473841554,
          0.09137055837563451
         ]
        },
        {
         "mode": "markers",
         "name": "2017",
         "type": "scatter",
         "x": [
          "Brighton",
          "Stoke",
          "Watford",
          "West Bromwich",
          "Leicester",
          "Bournemouth",
          "Everton",
          "Manchester City",
          "Arsenal",
          "Chelsea",
          "Swansea",
          "Tottenham",
          "West Ham",
          "Newcastle",
          "Southampton",
          "Burnley",
          "Crystal Palace",
          "Huddersfield",
          "Liverpool",
          "Manchester United"
         ],
         "y": [
          0.08854166666666667,
          0.09114583333333333,
          0.1,
          0.082010582010582,
          0.13238770685579196,
          0.0967741935483871,
          0.12256267409470752,
          0.1593984962406015,
          0.12457912457912458,
          0.10231023102310231,
          0.08284023668639054,
          0.1187800963081862,
          0.12903225806451613,
          0.08647450110864745,
          0.08222222222222222,
          0.09523809523809523,
          0.09453781512605042,
          0.07734806629834254,
          0.13166144200626959,
          0.1328125
         ]
        },
        {
         "mode": "markers",
         "name": "2018",
         "type": "scatter",
         "x": [
          "Everton",
          "Bournemouth",
          "Wolverhampton",
          "West Ham",
          "Cardiff",
          "Newcastle",
          "Huddersfield",
          "Chelsea",
          "Arsenal",
          "Manchester City",
          "Watford",
          "Tottenham",
          "Southampton",
          "Manchester United",
          "Liverpool",
          "Leicester",
          "Fulham",
          "Crystal Palace",
          "Burnley",
          "Brighton"
         ],
         "y": [
          0.10843373493975904,
          0.12556053811659193,
          0.09853249475890985,
          0.11791383219954649,
          0.0815347721822542,
          0.09417040358744394,
          0.05486284289276808,
          0.10378912685337727,
          0.15631691648822268,
          0.1390922401171303,
          0.11899313501144165,
          0.12476722532588454,
          0.09297520661157024,
          0.12357414448669202,
          0.15478260869565216,
          0.09902912621359224,
          0.07488986784140969,
          0.10344827586206896,
          0.125,
          0.09433962264150944
         ]
        },
        {
         "mode": "markers",
         "name": "2019",
         "type": "scatter",
         "x": [
          "Everton",
          "Arsenal",
          "Bournemouth",
          "West Ham",
          "Sheffield United",
          "Manchester City",
          "Norwich",
          "Manchester United",
          "Leicester",
          "Wolverhampton",
          "Chelsea",
          "Burnley",
          "Newcastle",
          "Liverpool",
          "Southampton",
          "Tottenham",
          "Crystal Palace",
          "Watford",
          "Brighton",
          "Aston Villa"
         ],
         "y": [
          0.09381663113006397,
          0.13725490196078433,
          0.10282776349614396,
          0.11666666666666667,
          0.11174785100286533,
          0.13672922252010725,
          0.06326034063260341,
          0.12021857923497267,
          0.122040072859745,
          0.11062906724511931,
          0.11057692307692307,
          0.11082474226804123,
          0.09523809523809523,
          0.14382402707275804,
          0.1028225806451613,
          0.1373873873873874,
          0.08244680851063829,
          0.08490566037735849,
          0.08441558441558442,
          0.08991228070175439
         ]
        },
        {
         "mode": "markers",
         "name": "2020",
         "type": "scatter",
         "x": [
          "Burnley",
          "Manchester City",
          "West Ham",
          "Chelsea",
          "West Bromwich",
          "Sheffield United",
          "Tottenham",
          "Liverpool",
          "Brighton",
          "Leeds",
          "Wolverhampton",
          "Newcastle",
          "Manchester United",
          "Everton",
          "Southampton",
          "Crystal Palace",
          "Fulham",
          "Leicester",
          "Arsenal",
          "Aston Villa"
         ],
         "y": [
          0.0859375,
          0.13856427378964942,
          0.13247863247863248,
          0.10431654676258993,
          0.10324483775811209,
          0.06191950464396285,
          0.15349887133182843,
          0.1118421052631579,
          0.08213552361396304,
          0.11877394636015326,
          0.07775377969762419,
          0.11586901763224182,
          0.13878326996197718,
          0.1175,
          0.11084905660377359,
          0.1174785100286533,
          0.06108597285067873,
          0.1402061855670103,
          0.11982570806100218,
          0.10576923076923077
         ]
        },
        {
         "mode": "markers",
         "name": "2021",
         "type": "scatter",
         "x": [
          "Everton",
          "Tottenham",
          "West Ham",
          "Manchester United",
          "Crystal Palace",
          "Chelsea",
          "Burnley",
          "Brentford",
          "Brighton",
          "Liverpool",
          "Leicester",
          "Norwich",
          "Arsenal",
          "Manchester City",
          "Aston Villa",
          "Leeds",
          "Watford",
          "Wolverhampton",
          "Newcastle",
          "Southampton"
         ],
         "y": [
          0.09839816933638444,
          0.14052953156822812,
          0.133630289532294,
          0.11220472440944881,
          0.12135922330097088,
          0.12837837837837837,
          0.08353808353808354,
          0.1085972850678733,
          0.08588957055214724,
          0.1289437585733882,
          0.1425287356321839,
          0.06166219839142091,
          0.1035653650254669,
          0.1388499298737728,
          0.11206896551724138,
          0.0865979381443299,
          0.08521303258145363,
          0.0945273631840796,
          0.09799554565701558,
          0.08921161825726141
         ]
        },
        {
         "mode": "markers",
         "name": "2022",
         "type": "scatter",
         "x": [
          "Chelsea",
          "Everton",
          "Manchester United",
          "Aston Villa",
          "Brentford",
          "Brighton",
          "Wolverhampton",
          "Newcastle",
          "Nottingham Forest",
          "Tottenham",
          "West Ham",
          "Arsenal",
          "Crystal Palace",
          "Fulham",
          "Leicester",
          "Southampton",
          "Bournemouth",
          "Leeds",
          "Manchester City",
          "Liverpool"
         ],
         "y": [
          0.08424908424908426,
          0.0735930735930736,
          0.11781609195402298,
          0.10727969348659004,
          0.15611814345991562,
          0.12302839116719243,
          0.06319702602230483,
          0.10703363914373089,
          0.07725321888412018,
          0.13293051359516617,
          0.06354515050167224,
          0.1356382978723404,
          0.0860655737704918,
          0.12589928057553956,
          0.14007782101167315,
          0.07196969696969698,
          0.1076923076923077,
          0.1,
          0.15037593984962405,
          0.1043956043956044
         ]
        }
       ],
       "layout": {
        "height": 600,
        "template": {
         "data": {
          "bar": [
           {
            "error_x": {
             "color": "#2a3f5f"
            },
            "error_y": {
             "color": "#2a3f5f"
            },
            "marker": {
             "line": {
              "color": "#E5ECF6",
              "width": 0.5
             },
             "pattern": {
              "fillmode": "overlay",
              "size": 10,
              "solidity": 0.2
             }
            },
            "type": "bar"
           }
          ],
          "barpolar": [
           {
            "marker": {
             "line": {
              "color": "#E5ECF6",
              "width": 0.5
             },
             "pattern": {
              "fillmode": "overlay",
              "size": 10,
              "solidity": 0.2
             }
            },
            "type": "barpolar"
           }
          ],
          "carpet": [
           {
            "aaxis": {
             "endlinecolor": "#2a3f5f",
             "gridcolor": "white",
             "linecolor": "white",
             "minorgridcolor": "white",
             "startlinecolor": "#2a3f5f"
            },
            "baxis": {
             "endlinecolor": "#2a3f5f",
             "gridcolor": "white",
             "linecolor": "white",
             "minorgridcolor": "white",
             "startlinecolor": "#2a3f5f"
            },
            "type": "carpet"
           }
          ],
          "choropleth": [
           {
            "colorbar": {
             "outlinewidth": 0,
             "ticks": ""
            },
            "type": "choropleth"
           }
          ],
          "contour": [
           {
            "colorbar": {
             "outlinewidth": 0,
             "ticks": ""
            },
            "colorscale": [
             [
              0,
              "#0d0887"
             ],
             [
              0.1111111111111111,
              "#46039f"
             ],
             [
              0.2222222222222222,
              "#7201a8"
             ],
             [
              0.3333333333333333,
              "#9c179e"
             ],
             [
              0.4444444444444444,
              "#bd3786"
             ],
             [
              0.5555555555555556,
              "#d8576b"
             ],
             [
              0.6666666666666666,
              "#ed7953"
             ],
             [
              0.7777777777777778,
              "#fb9f3a"
             ],
             [
              0.8888888888888888,
              "#fdca26"
             ],
             [
              1,
              "#f0f921"
             ]
            ],
            "type": "contour"
           }
          ],
          "contourcarpet": [
           {
            "colorbar": {
             "outlinewidth": 0,
             "ticks": ""
            },
            "type": "contourcarpet"
           }
          ],
          "heatmap": [
           {
            "colorbar": {
             "outlinewidth": 0,
             "ticks": ""
            },
            "colorscale": [
             [
              0,
              "#0d0887"
             ],
             [
              0.1111111111111111,
              "#46039f"
             ],
             [
              0.2222222222222222,
              "#7201a8"
             ],
             [
              0.3333333333333333,
              "#9c179e"
             ],
             [
              0.4444444444444444,
              "#bd3786"
             ],
             [
              0.5555555555555556,
              "#d8576b"
             ],
             [
              0.6666666666666666,
              "#ed7953"
             ],
             [
              0.7777777777777778,
              "#fb9f3a"
             ],
             [
              0.8888888888888888,
              "#fdca26"
             ],
             [
              1,
              "#f0f921"
             ]
            ],
            "type": "heatmap"
           }
          ],
          "heatmapgl": [
           {
            "colorbar": {
             "outlinewidth": 0,
             "ticks": ""
            },
            "colorscale": [
             [
              0,
              "#0d0887"
             ],
             [
              0.1111111111111111,
              "#46039f"
             ],
             [
              0.2222222222222222,
              "#7201a8"
             ],
             [
              0.3333333333333333,
              "#9c179e"
             ],
             [
              0.4444444444444444,
              "#bd3786"
             ],
             [
              0.5555555555555556,
              "#d8576b"
             ],
             [
              0.6666666666666666,
              "#ed7953"
             ],
             [
              0.7777777777777778,
              "#fb9f3a"
             ],
             [
              0.8888888888888888,
              "#fdca26"
             ],
             [
              1,
              "#f0f921"
             ]
            ],
            "type": "heatmapgl"
           }
          ],
          "histogram": [
           {
            "marker": {
             "pattern": {
              "fillmode": "overlay",
              "size": 10,
              "solidity": 0.2
             }
            },
            "type": "histogram"
           }
          ],
          "histogram2d": [
           {
            "colorbar": {
             "outlinewidth": 0,
             "ticks": ""
            },
            "colorscale": [
             [
              0,
              "#0d0887"
             ],
             [
              0.1111111111111111,
              "#46039f"
             ],
             [
              0.2222222222222222,
              "#7201a8"
             ],
             [
              0.3333333333333333,
              "#9c179e"
             ],
             [
              0.4444444444444444,
              "#bd3786"
             ],
             [
              0.5555555555555556,
              "#d8576b"
             ],
             [
              0.6666666666666666,
              "#ed7953"
             ],
             [
              0.7777777777777778,
              "#fb9f3a"
             ],
             [
              0.8888888888888888,
              "#fdca26"
             ],
             [
              1,
              "#f0f921"
             ]
            ],
            "type": "histogram2d"
           }
          ],
          "histogram2dcontour": [
           {
            "colorbar": {
             "outlinewidth": 0,
             "ticks": ""
            },
            "colorscale": [
             [
              0,
              "#0d0887"
             ],
             [
              0.1111111111111111,
              "#46039f"
             ],
             [
              0.2222222222222222,
              "#7201a8"
             ],
             [
              0.3333333333333333,
              "#9c179e"
             ],
             [
              0.4444444444444444,
              "#bd3786"
             ],
             [
              0.5555555555555556,
              "#d8576b"
             ],
             [
              0.6666666666666666,
              "#ed7953"
             ],
             [
              0.7777777777777778,
              "#fb9f3a"
             ],
             [
              0.8888888888888888,
              "#fdca26"
             ],
             [
              1,
              "#f0f921"
             ]
            ],
            "type": "histogram2dcontour"
           }
          ],
          "mesh3d": [
           {
            "colorbar": {
             "outlinewidth": 0,
             "ticks": ""
            },
            "type": "mesh3d"
           }
          ],
          "parcoords": [
           {
            "line": {
             "colorbar": {
              "outlinewidth": 0,
              "ticks": ""
             }
            },
            "type": "parcoords"
           }
          ],
          "pie": [
           {
            "automargin": true,
            "type": "pie"
           }
          ],
          "scatter": [
           {
            "fillpattern": {
             "fillmode": "overlay",
             "size": 10,
             "solidity": 0.2
            },
            "type": "scatter"
           }
          ],
          "scatter3d": [
           {
            "line": {
             "colorbar": {
              "outlinewidth": 0,
              "ticks": ""
             }
            },
            "marker": {
             "colorbar": {
              "outlinewidth": 0,
              "ticks": ""
             }
            },
            "type": "scatter3d"
           }
          ],
          "scattercarpet": [
           {
            "marker": {
             "colorbar": {
              "outlinewidth": 0,
              "ticks": ""
             }
            },
            "type": "scattercarpet"
           }
          ],
          "scattergeo": [
           {
            "marker": {
             "colorbar": {
              "outlinewidth": 0,
              "ticks": ""
             }
            },
            "type": "scattergeo"
           }
          ],
          "scattergl": [
           {
            "marker": {
             "colorbar": {
              "outlinewidth": 0,
              "ticks": ""
             }
            },
            "type": "scattergl"
           }
          ],
          "scattermapbox": [
           {
            "marker": {
             "colorbar": {
              "outlinewidth": 0,
              "ticks": ""
             }
            },
            "type": "scattermapbox"
           }
          ],
          "scatterpolar": [
           {
            "marker": {
             "colorbar": {
              "outlinewidth": 0,
              "ticks": ""
             }
            },
            "type": "scatterpolar"
           }
          ],
          "scatterpolargl": [
           {
            "marker": {
             "colorbar": {
              "outlinewidth": 0,
              "ticks": ""
             }
            },
            "type": "scatterpolargl"
           }
          ],
          "scatterternary": [
           {
            "marker": {
             "colorbar": {
              "outlinewidth": 0,
              "ticks": ""
             }
            },
            "type": "scatterternary"
           }
          ],
          "surface": [
           {
            "colorbar": {
             "outlinewidth": 0,
             "ticks": ""
            },
            "colorscale": [
             [
              0,
              "#0d0887"
             ],
             [
              0.1111111111111111,
              "#46039f"
             ],
             [
              0.2222222222222222,
              "#7201a8"
             ],
             [
              0.3333333333333333,
              "#9c179e"
             ],
             [
              0.4444444444444444,
              "#bd3786"
             ],
             [
              0.5555555555555556,
              "#d8576b"
             ],
             [
              0.6666666666666666,
              "#ed7953"
             ],
             [
              0.7777777777777778,
              "#fb9f3a"
             ],
             [
              0.8888888888888888,
              "#fdca26"
             ],
             [
              1,
              "#f0f921"
             ]
            ],
            "type": "surface"
           }
          ],
          "table": [
           {
            "cells": {
             "fill": {
              "color": "#EBF0F8"
             },
             "line": {
              "color": "white"
             }
            },
            "header": {
             "fill": {
              "color": "#C8D4E3"
             },
             "line": {
              "color": "white"
             }
            },
            "type": "table"
           }
          ]
         },
         "layout": {
          "annotationdefaults": {
           "arrowcolor": "#2a3f5f",
           "arrowhead": 0,
           "arrowwidth": 1
          },
          "autotypenumbers": "strict",
          "coloraxis": {
           "colorbar": {
            "outlinewidth": 0,
            "ticks": ""
           }
          },
          "colorscale": {
           "diverging": [
            [
             0,
             "#8e0152"
            ],
            [
             0.1,
             "#c51b7d"
            ],
            [
             0.2,
             "#de77ae"
            ],
            [
             0.3,
             "#f1b6da"
            ],
            [
             0.4,
             "#fde0ef"
            ],
            [
             0.5,
             "#f7f7f7"
            ],
            [
             0.6,
             "#e6f5d0"
            ],
            [
             0.7,
             "#b8e186"
            ],
            [
             0.8,
             "#7fbc41"
            ],
            [
             0.9,
             "#4d9221"
            ],
            [
             1,
             "#276419"
            ]
           ],
           "sequential": [
            [
             0,
             "#0d0887"
            ],
            [
             0.1111111111111111,
             "#46039f"
            ],
            [
             0.2222222222222222,
             "#7201a8"
            ],
            [
             0.3333333333333333,
             "#9c179e"
            ],
            [
             0.4444444444444444,
             "#bd3786"
            ],
            [
             0.5555555555555556,
             "#d8576b"
            ],
            [
             0.6666666666666666,
             "#ed7953"
            ],
            [
             0.7777777777777778,
             "#fb9f3a"
            ],
            [
             0.8888888888888888,
             "#fdca26"
            ],
            [
             1,
             "#f0f921"
            ]
           ],
           "sequentialminus": [
            [
             0,
             "#0d0887"
            ],
            [
             0.1111111111111111,
             "#46039f"
            ],
            [
             0.2222222222222222,
             "#7201a8"
            ],
            [
             0.3333333333333333,
             "#9c179e"
            ],
            [
             0.4444444444444444,
             "#bd3786"
            ],
            [
             0.5555555555555556,
             "#d8576b"
            ],
            [
             0.6666666666666666,
             "#ed7953"
            ],
            [
             0.7777777777777778,
             "#fb9f3a"
            ],
            [
             0.8888888888888888,
             "#fdca26"
            ],
            [
             1,
             "#f0f921"
            ]
           ]
          },
          "colorway": [
           "#636efa",
           "#EF553B",
           "#00cc96",
           "#ab63fa",
           "#FFA15A",
           "#19d3f3",
           "#FF6692",
           "#B6E880",
           "#FF97FF",
           "#FECB52"
          ],
          "font": {
           "color": "#2a3f5f"
          },
          "geo": {
           "bgcolor": "white",
           "lakecolor": "white",
           "landcolor": "#E5ECF6",
           "showlakes": true,
           "showland": true,
           "subunitcolor": "white"
          },
          "hoverlabel": {
           "align": "left"
          },
          "hovermode": "closest",
          "mapbox": {
           "style": "light"
          },
          "paper_bgcolor": "white",
          "plot_bgcolor": "#E5ECF6",
          "polar": {
           "angularaxis": {
            "gridcolor": "white",
            "linecolor": "white",
            "ticks": ""
           },
           "bgcolor": "#E5ECF6",
           "radialaxis": {
            "gridcolor": "white",
            "linecolor": "white",
            "ticks": ""
           }
          },
          "scene": {
           "xaxis": {
            "backgroundcolor": "#E5ECF6",
            "gridcolor": "white",
            "gridwidth": 2,
            "linecolor": "white",
            "showbackground": true,
            "ticks": "",
            "zerolinecolor": "white"
           },
           "yaxis": {
            "backgroundcolor": "#E5ECF6",
            "gridcolor": "white",
            "gridwidth": 2,
            "linecolor": "white",
            "showbackground": true,
            "ticks": "",
            "zerolinecolor": "white"
           },
           "zaxis": {
            "backgroundcolor": "#E5ECF6",
            "gridcolor": "white",
            "gridwidth": 2,
            "linecolor": "white",
            "showbackground": true,
            "ticks": "",
            "zerolinecolor": "white"
           }
          },
          "shapedefaults": {
           "line": {
            "color": "#2a3f5f"
           }
          },
          "ternary": {
           "aaxis": {
            "gridcolor": "white",
            "linecolor": "white",
            "ticks": ""
           },
           "baxis": {
            "gridcolor": "white",
            "linecolor": "white",
            "ticks": ""
           },
           "bgcolor": "#E5ECF6",
           "caxis": {
            "gridcolor": "white",
            "linecolor": "white",
            "ticks": ""
           }
          },
          "title": {
           "x": 0.05
          },
          "xaxis": {
           "automargin": true,
           "gridcolor": "white",
           "linecolor": "white",
           "ticks": "",
           "title": {
            "standoff": 15
           },
           "zerolinecolor": "white",
           "zerolinewidth": 2
          },
          "yaxis": {
           "automargin": true,
           "gridcolor": "white",
           "linecolor": "white",
           "ticks": "",
           "title": {
            "standoff": 15
           },
           "zerolinecolor": "white",
           "zerolinewidth": 2
          }
         }
        },
        "title": {
         "text": "Goals per Shot by Team and Season"
        },
        "width": 1000,
        "xaxis": {
         "title": {
          "text": "Team"
         }
        },
        "yaxis": {
         "title": {
          "text": "Goals per Shot"
         }
        }
       }
      }
     },
     "metadata": {},
     "output_type": "display_data"
    }
   ],
   "source": [
    "import plotly.graph_objs as go\n",
    "\n",
    "# assuming you have a list of data frames called dfs, each representing a season\n",
    "traces = []\n",
    "teams = []\n",
    "for df in dfs :\n",
    "  l = list(df.index)\n",
    "  teams.extend(l)\n",
    "teams = list(set(teams))\n",
    "\n",
    "for df in dfs:\n",
    "    trace = go.Scatter(\n",
    "        x = df.index,\n",
    "        y = df['Goals per Shot'],\n",
    "        name = list(df[\"season\"])[0],\n",
    "        mode = 'markers'\n",
    "    )\n",
    "    traces.append(trace)\n",
    "\n",
    "# create the layout for the plot\n",
    "layout = go.Layout(\n",
    "    title = 'Goals per Shot by Team and Season',\n",
    "    xaxis = dict(\n",
    "        title = 'Team'\n",
    "    ),\n",
    "    yaxis = dict(\n",
    "        title = 'Goals per Shot'\n",
    "    ),\n",
    "    height=600,\n",
    "    width=1000,\n",
    ")\n",
    "\n",
    "# create the figure and plot the data\n",
    "fig = go.Figure(data=traces, layout=layout)\n",
    "fig.show()"
   ]
  },
  {
   "attachments": {},
   "cell_type": "markdown",
   "metadata": {},
   "source": [
    "## Nightmare for defenders"
   ]
  },
  {
   "cell_type": "markdown",
   "metadata": {},
   "source": []
  }
 ],
 "metadata": {
  "kernelspec": {
   "display_name": "base",
   "language": "python",
   "name": "python3"
  },
  "language_info": {
   "codemirror_mode": {
    "name": "ipython",
    "version": 3
   },
   "file_extension": ".py",
   "mimetype": "text/x-python",
   "name": "python",
   "nbconvert_exporter": "python",
   "pygments_lexer": "ipython3",
   "version": "3.9.7"
  },
  "orig_nbformat": 4,
  "vscode": {
   "interpreter": {
    "hash": "77b840b16efc606bfe6fe465e16c80fde01359cf425f7f37ae28958c7f375ddc"
   }
  }
 },
 "nbformat": 4,
 "nbformat_minor": 2
}
