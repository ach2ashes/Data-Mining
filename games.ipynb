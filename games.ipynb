{
 "cells": [
  {
   "cell_type": "code",
   "execution_count": 1,
   "metadata": {},
   "outputs": [],
   "source": [
    "from selenium import webdriver\n",
    "from selenium.webdriver.common.by import By\n",
    "import time\n",
    "from bs4 import BeautifulSoup\n",
    "import csv\n",
    "import json\n",
    "option = webdriver.ChromeOptions()\n",
    "#option.add_argument(\"--incognito\")\n",
    "#option.add_argument(\"--headless\")\n",
    "import undetected_chromedriver as uc\n",
    "#option.add_argument(\"user-data-dir=C:\\\\Users\\\\PC2\\\\AppData\\\\Local\\\\Google\\\\Chrome\\\\User Data\")#to open a window with your default profile (aka your google acc)\n",
    "\n",
    "import random\n",
    "\n"
   ]
  },
  {
   "cell_type": "code",
   "execution_count": 2,
   "metadata": {},
   "outputs": [],
   "source": [
    " \n",
    "def get_fixtures(driver, season_id):\n",
    "    driver.get(f\"https://1xbet.whoscored.com/Regions/252/Tournaments/2/Seasons/{season_id}/England-Premier-League\")\n",
    "    try:\n",
    "        driver.maximize_window()\n",
    "    except:\n",
    "        pass\n",
    "    try:\n",
    "        driver.find_element(By.XPATH,\"//span[contains(text(),'AGREE')]\").click()\n",
    "    except:\n",
    "        pass\n",
    "    time.sleep(3)\n",
    "    fixtures = driver.find_element(By.XPATH, \"//a[contains(text(),'Fixtures')]\")\n",
    "    fixtures.click()\n",
    "    time.sleep(random.randint(2,6))\n",
    "    return driver.page_source\n",
    "\n",
    "\n",
    "def get_games(page_source):\n",
    "    soup = BeautifulSoup(page_source, \"lxml\")\n",
    "    games = soup.find_all(\"div\", class_=lambda x: x in (\"divtable-row col12-lg-12 col12-m-12 col12-s-12 col12-xs-12\", \"divtable-row col12-lg-12 col12-m-12 col12-s-12 col12-xs-12 alt\"))\n",
    "    return games\n",
    "\n",
    "\n",
    "def get_game_stats(driver, game):\n",
    "    game_stats = []\n",
    "    try:\n",
    "        result = [i.text for i in game.find(\"a\", attrs={\"class\": \"stacked-match-link result-1\"}).find_all(\"div\")]\n",
    "        teams = [i.text for i in game.find_all(\"div\", attrs={\"class\", \"team\"})][0:2]\n",
    "    except:\n",
    "        return None\n",
    "    game_stats.extend(teams)\n",
    "    game_stats.extend(result)\n",
    "    match_report = game.find(\"a\", attrs={\"class\": \"match-link match-report rc\"}).get('href')\n",
    "    driver.get(f\"https://1xbet.whoscored.com{match_report.replace('MatchReport', 'Live')}\")\n",
    "    time.sleep(random.randint(2,5))\n",
    "    soup = BeautifulSoup(driver.page_source, \"lxml\")\n",
    "    stats = soup.find_all(\"li\", class_=\"has-stats\")\n",
    "    st = []\n",
    "    for stat in stats[:8]:\n",
    "        div = stat.find(\"div\", attrs={\"class\": \"match-centre-stat-values\"})\n",
    "        values = [i.text for i in div.find_all(\"span\") if i.text != '-']\n",
    "        st.append(values)\n",
    "    driver.back()\n",
    "    time.sleep(random.randint(2,5))\n",
    "    game_stats.extend(st)\n",
    "    return game_stats\n",
    "\n",
    "\n",
    "def write_to_file(data,filename):\n",
    "\n",
    "    with open(filename, 'w') as outfile: \n",
    "            json.dump(data, outfile,indent=0)\n",
    "    \n",
    "def read_from_file(filename):\n",
    "    try:\n",
    "        with open(filename, \"r\") as f:\n",
    "            data = json.load(f)\n",
    "    except FileNotFoundError:\n",
    "        data = []\n",
    "    return data\n",
    "\n",
    "def get_season_data(season_id):\n",
    "    columns = [\"home_team\",\"away_team\",\"home_goals\",\"away_goals\",\"home_shots\",\"away_shots\",\"home_possesion\",\"away_possesion\",\"home_pass_success\",\"away_pass_success\",\"home_dribbles\",\"away_dribbles\",\"home_aerials_won\",\"away_aerials_won\",\"home_tackles\",\"away_tackles\",\"home_corners\",\"away_corners\",\"home_dispossessed\",\"away_dispossessed\"]\n",
    "    driver = webdriver.Chrome(executable_path=\"C:\\\\Users\\PC2\\\\Downloads\\\\chromedriver_win32 (4)\\\\chromedriver.exe\")\n",
    "    driver.implicitly_wait(30)\n",
    "    \n",
    "    # Read the data from the JSON file\n",
    "    data = read_from_file(f\"{season_id}.json\")\n",
    "    index  = len(data)\n",
    "\n",
    "    source = get_fixtures(driver, season_id)\n",
    "    for i in range(10):\n",
    "        if i != 0:\n",
    "            for y in range(i):\n",
    "                driver.find_element(By.XPATH, \"//div[contains(@id,'date-controller')]/a\").click()\n",
    "                time.sleep(3)\n",
    "            source = driver.page_source\n",
    "        games = get_games(source)\n",
    "        \n",
    "        for game in games:\n",
    "            game_stats = get_game_stats(driver, game)\n",
    "            if game_stats is not None:\n",
    "                li = {}\n",
    "                x = 0\n",
    "                for s in game_stats:\n",
    "                    if not isinstance(s,list):\n",
    "                        li[columns[x]]=s\n",
    "                        x+=1\n",
    "                    else:\n",
    "          \n",
    "                        li[columns[x]]=s[0]\n",
    "                        li[columns[x+1]]=s[1]\n",
    "                        x+=2\n",
    "                data.append(li)\n",
    "                write_to_file(data,f\"{season_id}.json\")\n",
    "        i+=len(games)\n",
    "    driver.quit()\n",
    "\n",
    "\n",
    " \n",
    "        \n",
    "    \n",
    "\n",
    "    \n",
    "  "
   ]
  },
  {
   "cell_type": "code",
   "execution_count": 3,
   "metadata": {},
   "outputs": [
    {
     "name": "stderr",
     "output_type": "stream",
     "text": [
      "C:\\Users\\PC2\\AppData\\Local\\Temp/ipykernel_23028/951456524.py:64: DeprecationWarning: executable_path has been deprecated, please pass in a Service object\n",
      "  driver = webdriver.Chrome(executable_path=\"C:\\\\Users\\PC2\\\\Downloads\\\\chromedriver_win32 (4)\\\\chromedriver.exe\")\n"
     ]
    },
    {
     "ename": "NoSuchWindowException",
     "evalue": "Message: no such window: target window already closed\nfrom unknown error: web view not found\n  (Session info: chrome=110.0.5481.100)\nStacktrace:\nBacktrace:\n\t(No symbol) [0x011237D3]\n\t(No symbol) [0x010B8B81]\n\t(No symbol) [0x00FBB36D]\n\t(No symbol) [0x00F9E5DA]\n\t(No symbol) [0x0100F0CB]\n\t(No symbol) [0x01020A56]\n\t(No symbol) [0x0100B216]\n\t(No symbol) [0x00FE0D97]\n\t(No symbol) [0x00FE253D]\n\tGetHandleVerifier [0x0139ABF2+2510930]\n\tGetHandleVerifier [0x013C8EC1+2700065]\n\tGetHandleVerifier [0x013CC86C+2714828]\n\tGetHandleVerifier [0x011D3480+645344]\n\t(No symbol) [0x010C0FD2]\n\t(No symbol) [0x010C6C68]\n\t(No symbol) [0x010C6D4B]\n\t(No symbol) [0x010D0D6B]\n\tBaseThreadInitThunk [0x75637D69+25]\n\tRtlInitializeExceptionChain [0x775FBB9B+107]\n\tRtlClearBits [0x775FBB1F+191]\n",
     "output_type": "error",
     "traceback": [
      "\u001b[1;31m---------------------------------------------------------------------------\u001b[0m",
      "\u001b[1;31mNoSuchWindowException\u001b[0m                     Traceback (most recent call last)",
      "\u001b[1;32m~\\AppData\\Local\\Temp/ipykernel_23028/402293015.py\u001b[0m in \u001b[0;36m<module>\u001b[1;34m\u001b[0m\n\u001b[0;32m      3\u001b[0m \u001b[0mcolumns\u001b[0m \u001b[1;33m=\u001b[0m \u001b[1;33m[\u001b[0m\u001b[1;34m\"home_team\"\u001b[0m\u001b[1;33m,\u001b[0m\u001b[1;34m\"away_team\"\u001b[0m\u001b[1;33m,\u001b[0m\u001b[1;34m\"home_goals\"\u001b[0m\u001b[1;33m,\u001b[0m\u001b[1;34m\"away_goals\"\u001b[0m\u001b[1;33m,\u001b[0m\u001b[1;34m\"home_shots\"\u001b[0m\u001b[1;33m,\u001b[0m\u001b[1;34m\"away_shots\"\u001b[0m\u001b[1;33m,\u001b[0m\u001b[1;34m\"home_possesion\"\u001b[0m\u001b[1;33m,\u001b[0m\u001b[1;34m\"away_possesion\"\u001b[0m\u001b[1;33m,\u001b[0m\u001b[1;34m\"home_pass_success\"\u001b[0m\u001b[1;33m,\u001b[0m\u001b[1;34m\"away_pass_success\"\u001b[0m\u001b[1;33m,\u001b[0m\u001b[1;34m\"home_dribbles\"\u001b[0m\u001b[1;33m,\u001b[0m\u001b[1;34m\"away_dribbles\"\u001b[0m\u001b[1;33m,\u001b[0m\u001b[1;34m\"home_aerials_won\"\u001b[0m\u001b[1;33m,\u001b[0m\u001b[1;34m\"away_aerials_won\"\u001b[0m\u001b[1;33m,\u001b[0m\u001b[1;34m\"home_tackles\"\u001b[0m\u001b[1;33m,\u001b[0m\u001b[1;34m\"away_tackles\"\u001b[0m\u001b[1;33m,\u001b[0m\u001b[1;34m\"home_corners\"\u001b[0m\u001b[1;33m,\u001b[0m\u001b[1;34m\"away_corners\"\u001b[0m\u001b[1;33m,\u001b[0m\u001b[1;34m\"home_dispossessed\"\u001b[0m\u001b[1;33m,\u001b[0m\u001b[1;34m\"away_dispossessed\"\u001b[0m\u001b[1;33m]\u001b[0m\u001b[1;33m\u001b[0m\u001b[1;33m\u001b[0m\u001b[0m\n\u001b[0;32m      4\u001b[0m \u001b[1;32mfor\u001b[0m \u001b[0mid\u001b[0m \u001b[1;32min\u001b[0m \u001b[0mseason_ids\u001b[0m\u001b[1;33m:\u001b[0m\u001b[1;33m\u001b[0m\u001b[1;33m\u001b[0m\u001b[0m\n\u001b[1;32m----> 5\u001b[1;33m     \u001b[0mget_season_data\u001b[0m\u001b[1;33m(\u001b[0m\u001b[0mid\u001b[0m\u001b[1;33m)\u001b[0m\u001b[1;33m\u001b[0m\u001b[1;33m\u001b[0m\u001b[0m\n\u001b[0m\u001b[0;32m      6\u001b[0m \u001b[1;33m\u001b[0m\u001b[0m\n\u001b[0;32m      7\u001b[0m \u001b[1;33m\u001b[0m\u001b[0m\n",
      "\u001b[1;32m~\\AppData\\Local\\Temp/ipykernel_23028/951456524.py\u001b[0m in \u001b[0;36mget_season_data\u001b[1;34m(season_id)\u001b[0m\n\u001b[0;32m     79\u001b[0m \u001b[1;33m\u001b[0m\u001b[0m\n\u001b[0;32m     80\u001b[0m         \u001b[1;32mfor\u001b[0m \u001b[0mgame\u001b[0m \u001b[1;32min\u001b[0m \u001b[0mgames\u001b[0m\u001b[1;33m:\u001b[0m\u001b[1;33m\u001b[0m\u001b[1;33m\u001b[0m\u001b[0m\n\u001b[1;32m---> 81\u001b[1;33m             \u001b[0mgame_stats\u001b[0m \u001b[1;33m=\u001b[0m \u001b[0mget_game_stats\u001b[0m\u001b[1;33m(\u001b[0m\u001b[0mdriver\u001b[0m\u001b[1;33m,\u001b[0m \u001b[0mgame\u001b[0m\u001b[1;33m)\u001b[0m\u001b[1;33m\u001b[0m\u001b[1;33m\u001b[0m\u001b[0m\n\u001b[0m\u001b[0;32m     82\u001b[0m             \u001b[1;32mif\u001b[0m \u001b[0mgame_stats\u001b[0m \u001b[1;32mis\u001b[0m \u001b[1;32mnot\u001b[0m \u001b[1;32mNone\u001b[0m\u001b[1;33m:\u001b[0m\u001b[1;33m\u001b[0m\u001b[1;33m\u001b[0m\u001b[0m\n\u001b[0;32m     83\u001b[0m                 \u001b[0mli\u001b[0m \u001b[1;33m=\u001b[0m \u001b[1;33m{\u001b[0m\u001b[1;33m}\u001b[0m\u001b[1;33m\u001b[0m\u001b[1;33m\u001b[0m\u001b[0m\n",
      "\u001b[1;32m~\\AppData\\Local\\Temp/ipykernel_23028/951456524.py\u001b[0m in \u001b[0;36mget_game_stats\u001b[1;34m(driver, game)\u001b[0m\n\u001b[0;32m     34\u001b[0m     \u001b[0mdriver\u001b[0m\u001b[1;33m.\u001b[0m\u001b[0mget\u001b[0m\u001b[1;33m(\u001b[0m\u001b[1;34mf\"https://1xbet.whoscored.com{match_report.replace('MatchReport', 'Live')}\"\u001b[0m\u001b[1;33m)\u001b[0m\u001b[1;33m\u001b[0m\u001b[1;33m\u001b[0m\u001b[0m\n\u001b[0;32m     35\u001b[0m     \u001b[0mtime\u001b[0m\u001b[1;33m.\u001b[0m\u001b[0msleep\u001b[0m\u001b[1;33m(\u001b[0m\u001b[0mrandom\u001b[0m\u001b[1;33m.\u001b[0m\u001b[0mrandint\u001b[0m\u001b[1;33m(\u001b[0m\u001b[1;36m2\u001b[0m\u001b[1;33m,\u001b[0m\u001b[1;36m5\u001b[0m\u001b[1;33m)\u001b[0m\u001b[1;33m)\u001b[0m\u001b[1;33m\u001b[0m\u001b[1;33m\u001b[0m\u001b[0m\n\u001b[1;32m---> 36\u001b[1;33m     \u001b[0msoup\u001b[0m \u001b[1;33m=\u001b[0m \u001b[0mBeautifulSoup\u001b[0m\u001b[1;33m(\u001b[0m\u001b[0mdriver\u001b[0m\u001b[1;33m.\u001b[0m\u001b[0mpage_source\u001b[0m\u001b[1;33m,\u001b[0m \u001b[1;34m\"lxml\"\u001b[0m\u001b[1;33m)\u001b[0m\u001b[1;33m\u001b[0m\u001b[1;33m\u001b[0m\u001b[0m\n\u001b[0m\u001b[0;32m     37\u001b[0m     \u001b[0mstats\u001b[0m \u001b[1;33m=\u001b[0m \u001b[0msoup\u001b[0m\u001b[1;33m.\u001b[0m\u001b[0mfind_all\u001b[0m\u001b[1;33m(\u001b[0m\u001b[1;34m\"li\"\u001b[0m\u001b[1;33m,\u001b[0m \u001b[0mclass_\u001b[0m\u001b[1;33m=\u001b[0m\u001b[1;34m\"has-stats\"\u001b[0m\u001b[1;33m)\u001b[0m\u001b[1;33m\u001b[0m\u001b[1;33m\u001b[0m\u001b[0m\n\u001b[0;32m     38\u001b[0m     \u001b[0mst\u001b[0m \u001b[1;33m=\u001b[0m \u001b[1;33m[\u001b[0m\u001b[1;33m]\u001b[0m\u001b[1;33m\u001b[0m\u001b[1;33m\u001b[0m\u001b[0m\n",
      "\u001b[1;32mc:\\Users\\PC2\\anaconda3\\lib\\site-packages\\selenium\\webdriver\\remote\\webdriver.py\u001b[0m in \u001b[0;36mpage_source\u001b[1;34m(self)\u001b[0m\n\u001b[0;32m    924\u001b[0m                 \u001b[0mdriver\u001b[0m\u001b[1;33m.\u001b[0m\u001b[0mpage_source\u001b[0m\u001b[1;33m\u001b[0m\u001b[1;33m\u001b[0m\u001b[0m\n\u001b[0;32m    925\u001b[0m         \"\"\"\n\u001b[1;32m--> 926\u001b[1;33m         \u001b[1;32mreturn\u001b[0m \u001b[0mself\u001b[0m\u001b[1;33m.\u001b[0m\u001b[0mexecute\u001b[0m\u001b[1;33m(\u001b[0m\u001b[0mCommand\u001b[0m\u001b[1;33m.\u001b[0m\u001b[0mGET_PAGE_SOURCE\u001b[0m\u001b[1;33m)\u001b[0m\u001b[1;33m[\u001b[0m\u001b[1;34m'value'\u001b[0m\u001b[1;33m]\u001b[0m\u001b[1;33m\u001b[0m\u001b[1;33m\u001b[0m\u001b[0m\n\u001b[0m\u001b[0;32m    927\u001b[0m \u001b[1;33m\u001b[0m\u001b[0m\n\u001b[0;32m    928\u001b[0m     \u001b[1;32mdef\u001b[0m \u001b[0mclose\u001b[0m\u001b[1;33m(\u001b[0m\u001b[0mself\u001b[0m\u001b[1;33m)\u001b[0m \u001b[1;33m->\u001b[0m \u001b[1;32mNone\u001b[0m\u001b[1;33m:\u001b[0m\u001b[1;33m\u001b[0m\u001b[1;33m\u001b[0m\u001b[0m\n",
      "\u001b[1;32mc:\\Users\\PC2\\anaconda3\\lib\\site-packages\\selenium\\webdriver\\remote\\webdriver.py\u001b[0m in \u001b[0;36mexecute\u001b[1;34m(self, driver_command, params)\u001b[0m\n\u001b[0;32m    422\u001b[0m         \u001b[0mresponse\u001b[0m \u001b[1;33m=\u001b[0m \u001b[0mself\u001b[0m\u001b[1;33m.\u001b[0m\u001b[0mcommand_executor\u001b[0m\u001b[1;33m.\u001b[0m\u001b[0mexecute\u001b[0m\u001b[1;33m(\u001b[0m\u001b[0mdriver_command\u001b[0m\u001b[1;33m,\u001b[0m \u001b[0mparams\u001b[0m\u001b[1;33m)\u001b[0m\u001b[1;33m\u001b[0m\u001b[1;33m\u001b[0m\u001b[0m\n\u001b[0;32m    423\u001b[0m         \u001b[1;32mif\u001b[0m \u001b[0mresponse\u001b[0m\u001b[1;33m:\u001b[0m\u001b[1;33m\u001b[0m\u001b[1;33m\u001b[0m\u001b[0m\n\u001b[1;32m--> 424\u001b[1;33m             \u001b[0mself\u001b[0m\u001b[1;33m.\u001b[0m\u001b[0merror_handler\u001b[0m\u001b[1;33m.\u001b[0m\u001b[0mcheck_response\u001b[0m\u001b[1;33m(\u001b[0m\u001b[0mresponse\u001b[0m\u001b[1;33m)\u001b[0m\u001b[1;33m\u001b[0m\u001b[1;33m\u001b[0m\u001b[0m\n\u001b[0m\u001b[0;32m    425\u001b[0m             response['value'] = self._unwrap_value(\n\u001b[0;32m    426\u001b[0m                 response.get('value', None))\n",
      "\u001b[1;32mc:\\Users\\PC2\\anaconda3\\lib\\site-packages\\selenium\\webdriver\\remote\\errorhandler.py\u001b[0m in \u001b[0;36mcheck_response\u001b[1;34m(self, response)\u001b[0m\n\u001b[0;32m    245\u001b[0m                 \u001b[0malert_text\u001b[0m \u001b[1;33m=\u001b[0m \u001b[0mvalue\u001b[0m\u001b[1;33m[\u001b[0m\u001b[1;34m'alert'\u001b[0m\u001b[1;33m]\u001b[0m\u001b[1;33m.\u001b[0m\u001b[0mget\u001b[0m\u001b[1;33m(\u001b[0m\u001b[1;34m'text'\u001b[0m\u001b[1;33m)\u001b[0m\u001b[1;33m\u001b[0m\u001b[1;33m\u001b[0m\u001b[0m\n\u001b[0;32m    246\u001b[0m             \u001b[1;32mraise\u001b[0m \u001b[0mexception_class\u001b[0m\u001b[1;33m(\u001b[0m\u001b[0mmessage\u001b[0m\u001b[1;33m,\u001b[0m \u001b[0mscreen\u001b[0m\u001b[1;33m,\u001b[0m \u001b[0mstacktrace\u001b[0m\u001b[1;33m,\u001b[0m \u001b[0malert_text\u001b[0m\u001b[1;33m)\u001b[0m  \u001b[1;31m# type: ignore[call-arg]  # mypy is not smart enough here\u001b[0m\u001b[1;33m\u001b[0m\u001b[1;33m\u001b[0m\u001b[0m\n\u001b[1;32m--> 247\u001b[1;33m         \u001b[1;32mraise\u001b[0m \u001b[0mexception_class\u001b[0m\u001b[1;33m(\u001b[0m\u001b[0mmessage\u001b[0m\u001b[1;33m,\u001b[0m \u001b[0mscreen\u001b[0m\u001b[1;33m,\u001b[0m \u001b[0mstacktrace\u001b[0m\u001b[1;33m)\u001b[0m\u001b[1;33m\u001b[0m\u001b[1;33m\u001b[0m\u001b[0m\n\u001b[0m\u001b[0;32m    248\u001b[0m \u001b[1;33m\u001b[0m\u001b[0m\n\u001b[0;32m    249\u001b[0m     \u001b[1;32mdef\u001b[0m \u001b[0m_value_or_default\u001b[0m\u001b[1;33m(\u001b[0m\u001b[0mself\u001b[0m\u001b[1;33m,\u001b[0m \u001b[0mobj\u001b[0m\u001b[1;33m:\u001b[0m \u001b[0mMapping\u001b[0m\u001b[1;33m[\u001b[0m\u001b[0m_KT\u001b[0m\u001b[1;33m,\u001b[0m \u001b[0m_VT\u001b[0m\u001b[1;33m]\u001b[0m\u001b[1;33m,\u001b[0m \u001b[0mkey\u001b[0m\u001b[1;33m:\u001b[0m \u001b[0m_KT\u001b[0m\u001b[1;33m,\u001b[0m \u001b[0mdefault\u001b[0m\u001b[1;33m:\u001b[0m \u001b[0m_VT\u001b[0m\u001b[1;33m)\u001b[0m \u001b[1;33m->\u001b[0m \u001b[0m_VT\u001b[0m\u001b[1;33m:\u001b[0m\u001b[1;33m\u001b[0m\u001b[1;33m\u001b[0m\u001b[0m\n",
      "\u001b[1;31mNoSuchWindowException\u001b[0m: Message: no such window: target window already closed\nfrom unknown error: web view not found\n  (Session info: chrome=110.0.5481.100)\nStacktrace:\nBacktrace:\n\t(No symbol) [0x011237D3]\n\t(No symbol) [0x010B8B81]\n\t(No symbol) [0x00FBB36D]\n\t(No symbol) [0x00F9E5DA]\n\t(No symbol) [0x0100F0CB]\n\t(No symbol) [0x01020A56]\n\t(No symbol) [0x0100B216]\n\t(No symbol) [0x00FE0D97]\n\t(No symbol) [0x00FE253D]\n\tGetHandleVerifier [0x0139ABF2+2510930]\n\tGetHandleVerifier [0x013C8EC1+2700065]\n\tGetHandleVerifier [0x013CC86C+2714828]\n\tGetHandleVerifier [0x011D3480+645344]\n\t(No symbol) [0x010C0FD2]\n\t(No symbol) [0x010C6C68]\n\t(No symbol) [0x010C6D4B]\n\t(No symbol) [0x010D0D6B]\n\tBaseThreadInitThunk [0x75637D69+25]\n\tRtlInitializeExceptionChain [0x775FBB9B+107]\n\tRtlClearBits [0x775FBB1F+191]\n"
     ]
    }
   ],
   "source": [
    "\n",
    "season_ids = [9075]\n",
    "season=[2011,2012,2013,2014,2015,2016,2017,2018,2019,2020,2021,2022,2023]\n",
    "columns = [\"home_team\",\"away_team\",\"home_goals\",\"away_goals\",\"home_shots\",\"away_shots\",\"home_possesion\",\"away_possesion\",\"home_pass_success\",\"away_pass_success\",\"home_dribbles\",\"away_dribbles\",\"home_aerials_won\",\"away_aerials_won\",\"home_tackles\",\"away_tackles\",\"home_corners\",\"away_corners\",\"home_dispossessed\",\"away_dispossessed\"]\n",
    "for id in season_ids:\n",
    "    get_season_data(id)\n",
    "  \n",
    "\n",
    "\n",
    "\n"
   ]
  },
  {
   "cell_type": "markdown",
   "metadata": {},
   "source": []
  },
  {
   "cell_type": "code",
   "execution_count": null,
   "metadata": {},
   "outputs": [],
   "source": [
    "{}"
   ]
  },
  {
   "cell_type": "code",
   "execution_count": null,
   "metadata": {},
   "outputs": [],
   "source": []
  }
 ],
 "metadata": {
  "kernelspec": {
   "display_name": "base",
   "language": "python",
   "name": "python3"
  },
  "language_info": {
   "codemirror_mode": {
    "name": "ipython",
    "version": 3
   },
   "file_extension": ".py",
   "mimetype": "text/x-python",
   "name": "python",
   "nbconvert_exporter": "python",
   "pygments_lexer": "ipython3",
   "version": "3.9.7"
  },
  "orig_nbformat": 4,
  "vscode": {
   "interpreter": {
    "hash": "77b840b16efc606bfe6fe465e16c80fde01359cf425f7f37ae28958c7f375ddc"
   }
  }
 },
 "nbformat": 4,
 "nbformat_minor": 2
}
