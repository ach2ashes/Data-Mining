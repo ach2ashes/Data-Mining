{
 "cells": [
  {
   "cell_type": "code",
   "execution_count": 83,
   "metadata": {},
   "outputs": [
    {
     "name": "stderr",
     "output_type": "stream",
     "text": [
      "C:\\Users\\PC2\\AppData\\Local\\Temp/ipykernel_18776/4009460108.py:10: DeprecationWarning: executable_path has been deprecated, please pass in a Service object\n",
      "  driver=webdriver.Chrome(executable_path=\"C:\\\\Users\\PC2\\\\Downloads\\\\chromedriver_win32 (4)\\\\chromedriver.exe\",chrome_options=option)\n",
      "C:\\Users\\PC2\\AppData\\Local\\Temp/ipykernel_18776/4009460108.py:10: DeprecationWarning: use options instead of chrome_options\n",
      "  driver=webdriver.Chrome(executable_path=\"C:\\\\Users\\PC2\\\\Downloads\\\\chromedriver_win32 (4)\\\\chromedriver.exe\",chrome_options=option)\n"
     ]
    }
   ],
   "source": [
    "from selenium import webdriver\n",
    "from selenium.webdriver.common.by import By\n",
    "import time\n",
    "from bs4 import BeautifulSoup\n",
    "import csv\n",
    "import json\n",
    "option = webdriver.ChromeOptions()\n",
    "import undetected_chromedriver as uc\n",
    "#option.add_argument(\"user-data-dir=C:\\\\Users\\\\PC2\\\\AppData\\\\Local\\\\Google\\\\Chrome\\\\User Data\")#to open a window with your default profile (aka your google acc)\n",
    "driver=webdriver.Chrome(executable_path=\"C:\\\\Users\\PC2\\\\Downloads\\\\chromedriver_win32 (4)\\\\chromedriver.exe\",chrome_options=option)\n",
    "from selenium.common.exceptions import WebDriverException\n"
   ]
  },
  {
   "cell_type": "code",
   "execution_count": 84,
   "metadata": {},
   "outputs": [],
   "source": [
    "driver.implicitly_wait(30)\n",
    "season_ids = [2458,2935,3389,3853,4311,5826,6335,6829,7361,7811,8228,8618,9075]\n",
    "season=[2011,2012,2013,2014,2015,2016,2017,2018,2019,2020,2021,2022,2023]\n",
    "data_fin = []\n",
    "columns = [\"home_team\",\"away_team\",\"home_goals\",\"away_goals\",\"home_shots\",\"away_shots\",\"home_possesion\",\"away_possesion\",\"home_pass_success\",\"away_pass_success\",\"home_dribbles\",\"away_dribbles\",\"home_aerials_won\",\"away_aerials_won\",\"home_tackles\",\"away_tackles\",\"home_corners\",\"away_corners\",\"home_dispossessed\",\"away_dispossessed\"]\n",
    "for j in range(len(season_ids)) : \n",
    "  actual = season_ids[0]\n",
    "  driver.get(\" https://1xbet.whoscored.com/Regions/252/Tournaments/2/Seasons/{}/England-Premier-League \".format(actual))\n",
    "  try:\n",
    "    driver.maximize_window()\n",
    "  except:\n",
    "     pass\n",
    "\n",
    "  time.sleep(2)\n",
    "  fixtures = driver.find_element(By.XPATH,\"//a[contains(text(),'Fixtures')]\")\n",
    "  fixtures.click()\n",
    "  data = []\n",
    "  soup = BeautifulSoup(driver.page_source,\"lxml\")\n",
    "  for i in range(1):\n",
    "          if i!=0:\n",
    "             for y in range(i):\n",
    "              driver.find_element(By.XPATH,\"//div[contains(@id,'date-controller')]/a\").click()\n",
    "              time.sleep(2)\n",
    "          time.sleep(5)\n",
    "          soup = BeautifulSoup(driver.page_source,\"lxml\")\n",
    "            \n",
    "          \n",
    "          games = soup.find_all(\"div\",class_= lambda x : x in (\"divtable-row col12-lg-12 col12-m-12 col12-s-12 col12-xs-12\",\"divtable-row col12-lg-12 col12-m-12 col12-s-12 col12-xs-12 alt\"))#use bs4 to find elements that there class has some commun text\n",
    "          \n",
    "          game=0\n",
    "\n",
    "          while game < 2:\n",
    "            try:  \n",
    "              game_stats = []\n",
    "              try :\n",
    "                result = [i.text for i in games[game].find(\"a\",attrs = {\"class\":\"stacked-match-link result-1\"}).find_all(\"div\")]\n",
    "                teams = [i.text for i in games[game].find_all(\"div\",attrs={\"class\",\"team\"})][0:2]\n",
    "              except:\n",
    "                 game+=1\n",
    "                 continue\n",
    "              game_stats.extend(teams)\n",
    "              game_stats.extend(result)\n",
    "              match_report  = games[game].find(\"a\",attrs={\"class\":\"match-link match-report rc\"}).get('href')\n",
    "              driver.get(\"https://1xbet.whoscored.com\"+match_report.replace(\"MatchReport\",\"Live\"))\n",
    "              time.sleep(2)\n",
    "              for scroll in range(2):\n",
    "                driver.execute_script(\"window.scrollTo(0, document.body.scrollHeight);\")\n",
    "\n",
    "              soup1 = BeautifulSoup(driver.page_source,\"lxml\")\n",
    "              stats = soup1.find_all(\"li\",class_=\"has-stats\")\n",
    "              st = []\n",
    "              for stat in stats[:8]:        \n",
    "                div = stat.find(\"div\",attrs={\"class\":\"match-centre-stat-values\"})\n",
    "                values = [i.text for i in div.find_all(\"span\")if i.text != '-']\n",
    "                st.append(values)\n",
    "              driver.back()\n",
    "              \n",
    "              time.sleep(6)\n",
    "              game_stats.extend(st)\n",
    "              data.append(game_stats)\n",
    "              game+=1\n",
    "\n",
    "            except WebDriverException:\n",
    "               continue\n",
    "              \n",
    "  fii = {}\n",
    " \n",
    "  final  =[]\n",
    "  for l in data:\n",
    "     li = {}\n",
    "     x = 0\n",
    "     for s in l:\n",
    "       if not isinstance(s,list):\n",
    "           li[columns[x]]=s\n",
    "           x+=1\n",
    "       else:\n",
    "          \n",
    "          li[columns[x]]=s[0]\n",
    "          li[columns[x+1]]=s[1]\n",
    "          x+=2\n",
    "     final.append(li)\n",
    "  fii[season[j]]=final\n",
    "  '''\n",
    "  with open('pl.json', 'a') as outfile: \n",
    "        json.dump(fii, outfile,indent=0)\n",
    "  season_ids.remove(actual)\n",
    "  '''"
   ]
  },
  {
   "cell_type": "code",
   "execution_count": 88,
   "metadata": {},
   "outputs": [
    {
     "data": {
      "text/plain": [
       "{2023: [{'home_team': 'Chelsea',\n",
       "   'away_team': 'Fulham',\n",
       "   'home_goals': '0',\n",
       "   'away_goals': '0',\n",
       "   'home_shots': '12',\n",
       "   'away_shots': '10',\n",
       "   'home_possesion': '66.9',\n",
       "   'away_possesion': '33.1',\n",
       "   'home_pass_success': '86',\n",
       "   'away_pass_success': '72',\n",
       "   'home_dribbles': '7',\n",
       "   'away_dribbles': '14',\n",
       "   'home_aerials_won': '13',\n",
       "   'away_aerials_won': '12',\n",
       "   'home_tackles': '24',\n",
       "   'away_tackles': '19',\n",
       "   'home_corners': '6',\n",
       "   'away_corners': '2',\n",
       "   'home_dispossessed': '12',\n",
       "   'away_dispossessed': '14'},\n",
       "  {'home_team': 'Everton',\n",
       "   'away_team': 'Arsenal',\n",
       "   'home_goals': '1',\n",
       "   'away_goals': '0',\n",
       "   'home_shots': '12',\n",
       "   'away_shots': '15',\n",
       "   'home_possesion': '29.5',\n",
       "   'away_possesion': '70.5',\n",
       "   'home_pass_success': '71',\n",
       "   'away_pass_success': '87',\n",
       "   'home_dribbles': '7',\n",
       "   'away_dribbles': '12',\n",
       "   'home_aerials_won': '17',\n",
       "   'away_aerials_won': '12',\n",
       "   'home_tackles': '18',\n",
       "   'away_tackles': '14',\n",
       "   'home_corners': '7',\n",
       "   'away_corners': '5',\n",
       "   'home_dispossessed': '5',\n",
       "   'away_dispossessed': '9'}]}"
      ]
     },
     "execution_count": 88,
     "metadata": {},
     "output_type": "execute_result"
    }
   ],
   "source": [
    "fii"
   ]
  },
  {
   "cell_type": "code",
   "execution_count": 86,
   "metadata": {},
   "outputs": [
    {
     "data": {
      "text/plain": [
       "{'home_team': 'Everton',\n",
       " 'away_team': 'Arsenal',\n",
       " 'home_goals': '1',\n",
       " 'away_goals': '0',\n",
       " 'home_shots': '12',\n",
       " 'away_shots': '15',\n",
       " 'home_possesion': '29.5',\n",
       " 'away_possesion': '70.5',\n",
       " 'home_pass_success': '71',\n",
       " 'away_pass_success': '87',\n",
       " 'home_dribbles': '7',\n",
       " 'away_dribbles': '12',\n",
       " 'home_aerials_won': '17',\n",
       " 'away_aerials_won': '12',\n",
       " 'home_tackles': '18',\n",
       " 'away_tackles': '14',\n",
       " 'home_corners': '7',\n",
       " 'away_corners': '5',\n",
       " 'home_dispossessed': '5',\n",
       " 'away_dispossessed': '9'}"
      ]
     },
     "execution_count": 86,
     "metadata": {},
     "output_type": "execute_result"
    }
   ],
   "source": [
    "li"
   ]
  },
  {
   "cell_type": "code",
   "execution_count": null,
   "metadata": {},
   "outputs": [],
   "source": [
    " "
   ]
  },
  {
   "cell_type": "code",
   "execution_count": 87,
   "metadata": {},
   "outputs": [],
   "source": [
    "\n",
    "driver.get(\"https://1xbet.whoscored.com/Regions/252/Tournaments/2/Seasons/{}/England-Premier-League\".format(j))\n",
    "time.sleep(5)\n",
    "\n"
   ]
  },
  {
   "cell_type": "code",
   "execution_count": null,
   "metadata": {},
   "outputs": [],
   "source": []
  },
  {
   "cell_type": "code",
   "execution_count": null,
   "metadata": {},
   "outputs": [],
   "source": []
  }
 ],
 "metadata": {
  "kernelspec": {
   "display_name": "base",
   "language": "python",
   "name": "python3"
  },
  "language_info": {
   "codemirror_mode": {
    "name": "ipython",
    "version": 3
   },
   "file_extension": ".py",
   "mimetype": "text/x-python",
   "name": "python",
   "nbconvert_exporter": "python",
   "pygments_lexer": "ipython3",
   "version": "3.9.7"
  },
  "orig_nbformat": 4,
  "vscode": {
   "interpreter": {
    "hash": "77b840b16efc606bfe6fe465e16c80fde01359cf425f7f37ae28958c7f375ddc"
   }
  }
 },
 "nbformat": 4,
 "nbformat_minor": 2
}
